{
  "nbformat": 4,
  "nbformat_minor": 0,
  "metadata": {
    "colab": {
      "provenance": [],
      "authorship_tag": "ABX9TyNuvhM6KhWRlYWEiwBWsJd9",
      "include_colab_link": true
    },
    "kernelspec": {
      "name": "python3",
      "display_name": "Python 3"
    },
    "language_info": {
      "name": "python"
    }
  },
  "cells": [
    {
      "cell_type": "markdown",
      "metadata": {
        "id": "view-in-github",
        "colab_type": "text"
      },
      "source": [
        "<a href=\"https://colab.research.google.com/github/caglatoprak/Akademik-Performans-Analizi/blob/master/Breast_cancer_wisconsin_(diagnostic)_dataset_Yapay_Sinir_A%C4%9F%C4%B1_ve_Derin_%C3%96%C4%9Frenme_Uygulamas%C4%B1.ipynb\" target=\"_parent\"><img src=\"https://colab.research.google.com/assets/colab-badge.svg\" alt=\"Open In Colab\"/></a>"
      ]
    },
    {
      "cell_type": "markdown",
      "source": [
        "# **Meme Kanseri Teşhis Veri Setini Tanıyalım**"
      ],
      "metadata": {
        "id": "iyfEaq9aUE-M"
      }
    },
    {
      "cell_type": "markdown",
      "source": [
        "Bu veri seti meme kanseri hücrelerinin özelliklerinin tespit edilmesi amacıyla toplanan verilerden oluşur. Her bir özellik bir kanser hücresinin dijital görüntüsünden elde edilmiş ölçümleri ifade eder. Veri setinde 569 örnek ve 30 özellik yer almaktadır. Hedef değişken kanserin iyi huylu mu kötü huylu mu olduğunu gösteren 'M' ve 'B' olarak kodlanmıştır."
      ],
      "metadata": {
        "id": "VPCU-seZUdym"
      }
    },
    {
      "cell_type": "markdown",
      "source": [
        "# **Amaç**"
      ],
      "metadata": {
        "id": "98P4J6kCWOgY"
      }
    },
    {
      "cell_type": "markdown",
      "source": [
        "Amacımız, bu veri seti üzerinde bir yapay sinir ağı ve derin öğrenme uygulaması yapmak olacaktır.\n",
        "\n"
      ],
      "metadata": {
        "id": "5m6MOF9GWS9q"
      }
    },
    {
      "cell_type": "markdown",
      "source": [
        "**Öncelikle, gerekli kütüphaneleri import ediyoruz.**"
      ],
      "metadata": {
        "id": "-RA2j5AlWbcr"
      }
    },
    {
      "cell_type": "code",
      "execution_count": null,
      "metadata": {
        "id": "lrs4z3xmTuHR"
      },
      "outputs": [],
      "source": [
        "import numpy as np\n",
        "import pandas as pd \n",
        "from sklearn.datasets import load_breast_cancer\n",
        "from sklearn.preprocessing import StandardScaler\n"
      ]
    },
    {
      "cell_type": "markdown",
      "source": [
        " **Veri setini yüklüyoruz**"
      ],
      "metadata": {
        "id": "oUWA19WLWfom"
      }
    },
    {
      "cell_type": "code",
      "source": [
        "data = load_breast_cancer()\n",
        "\n",
        "X = data.data\n",
        "y = data.target"
      ],
      "metadata": {
        "id": "y6cCLj-tUEZD"
      },
      "execution_count": null,
      "outputs": []
    },
    {
      "cell_type": "markdown",
      "source": [
        "**Verileri normalleştiriyoruz.**"
      ],
      "metadata": {
        "id": "hi5J8mvLW0WI"
      }
    },
    {
      "cell_type": "code",
      "source": [
        "from sklearn.preprocessing import StandardScaler\n",
        "\n",
        "scaler = StandardScaler()\n",
        "X = scaler.fit_transform(X)\n"
      ],
      "metadata": {
        "id": "NtgZV-uUWyQW"
      },
      "execution_count": null,
      "outputs": []
    },
    {
      "cell_type": "markdown",
      "source": [
        "**Veri setini eğitim ve test setlerine ayırıyoruz.**"
      ],
      "metadata": {
        "id": "k1vBQFqAWjqY"
      }
    },
    {
      "cell_type": "code",
      "source": [
        "from sklearn.model_selection import train_test_split\n",
        "\n",
        "X_train, X_test, y_train, y_test = train_test_split(X, y, test_size=0.2, random_state=42)"
      ],
      "metadata": {
        "id": "pQYyip9IVP9N"
      },
      "execution_count": null,
      "outputs": []
    },
    {
      "cell_type": "markdown",
      "source": [
        "***Artık yapay sinir ağımızı ve derin öğrenme modelimizi oluşturabiliriz. ***"
      ],
      "metadata": {
        "id": "-qCiThjuXKOx"
      }
    },
    {
      "cell_type": "markdown",
      "source": [
        "**Önce yapay sinir ağına bakalım:**"
      ],
      "metadata": {
        "id": "lptVkfjIXDOI"
      }
    },
    {
      "cell_type": "code",
      "source": [
        "from keras.models import Sequential\n",
        "from keras.layers import Dense\n",
        "\n",
        "model = Sequential()\n",
        "model.add(Dense(30, input_dim=30, activation='relu'))\n",
        "model.add(Dense(1, activation='sigmoid'))\n",
        "\n",
        "model.compile(loss='binary_crossentropy', optimizer='adam', metrics=['accuracy'])\n"
      ],
      "metadata": {
        "id": "CyWjazhTV-ol"
      },
      "execution_count": null,
      "outputs": []
    },
    {
      "cell_type": "markdown",
      "source": [
        "**Ardından modelimizi eğitelim:**"
      ],
      "metadata": {
        "id": "3VGYLa6SXRft"
      }
    },
    {
      "cell_type": "code",
      "source": [
        "history = model.fit(X_train, y_train, validation_split=0.33, epochs=50, batch_size=10)\n"
      ],
      "metadata": {
        "colab": {
          "base_uri": "https://localhost:8080/"
        },
        "id": "uhNCfNPLXS-S",
        "outputId": "42f3391b-358c-45aa-9989-080cd653d93d"
      },
      "execution_count": null,
      "outputs": [
        {
          "output_type": "stream",
          "name": "stdout",
          "text": [
            "Epoch 1/50\n",
            "31/31 [==============================] - 2s 25ms/step - loss: 0.5364 - accuracy: 0.7368 - val_loss: 0.3769 - val_accuracy: 0.8742\n",
            "Epoch 2/50\n",
            "31/31 [==============================] - 0s 9ms/step - loss: 0.2979 - accuracy: 0.9013 - val_loss: 0.2626 - val_accuracy: 0.9073\n",
            "Epoch 3/50\n",
            "31/31 [==============================] - 0s 9ms/step - loss: 0.2055 - accuracy: 0.9539 - val_loss: 0.2131 - val_accuracy: 0.9205\n",
            "Epoch 4/50\n",
            "31/31 [==============================] - 0s 12ms/step - loss: 0.1595 - accuracy: 0.9605 - val_loss: 0.1860 - val_accuracy: 0.9272\n",
            "Epoch 5/50\n",
            "31/31 [==============================] - 0s 13ms/step - loss: 0.1332 - accuracy: 0.9737 - val_loss: 0.1680 - val_accuracy: 0.9404\n",
            "Epoch 6/50\n",
            "31/31 [==============================] - 0s 9ms/step - loss: 0.1138 - accuracy: 0.9803 - val_loss: 0.1554 - val_accuracy: 0.9404\n",
            "Epoch 7/50\n",
            "31/31 [==============================] - 0s 16ms/step - loss: 0.0996 - accuracy: 0.9836 - val_loss: 0.1464 - val_accuracy: 0.9404\n",
            "Epoch 8/50\n",
            "31/31 [==============================] - 0s 10ms/step - loss: 0.0891 - accuracy: 0.9868 - val_loss: 0.1400 - val_accuracy: 0.9404\n",
            "Epoch 9/50\n",
            "31/31 [==============================] - 0s 11ms/step - loss: 0.0803 - accuracy: 0.9868 - val_loss: 0.1358 - val_accuracy: 0.9470\n",
            "Epoch 10/50\n",
            "31/31 [==============================] - 0s 11ms/step - loss: 0.0741 - accuracy: 0.9868 - val_loss: 0.1317 - val_accuracy: 0.9470\n",
            "Epoch 11/50\n",
            "31/31 [==============================] - 0s 8ms/step - loss: 0.0684 - accuracy: 0.9868 - val_loss: 0.1287 - val_accuracy: 0.9470\n",
            "Epoch 12/50\n",
            "31/31 [==============================] - 1s 18ms/step - loss: 0.0633 - accuracy: 0.9901 - val_loss: 0.1262 - val_accuracy: 0.9536\n",
            "Epoch 13/50\n",
            "31/31 [==============================] - 0s 14ms/step - loss: 0.0594 - accuracy: 0.9901 - val_loss: 0.1239 - val_accuracy: 0.9536\n",
            "Epoch 14/50\n",
            "31/31 [==============================] - 1s 16ms/step - loss: 0.0561 - accuracy: 0.9901 - val_loss: 0.1236 - val_accuracy: 0.9536\n",
            "Epoch 15/50\n",
            "31/31 [==============================] - 0s 15ms/step - loss: 0.0533 - accuracy: 0.9901 - val_loss: 0.1229 - val_accuracy: 0.9536\n",
            "Epoch 16/50\n",
            "31/31 [==============================] - 1s 16ms/step - loss: 0.0507 - accuracy: 0.9868 - val_loss: 0.1228 - val_accuracy: 0.9536\n",
            "Epoch 17/50\n",
            "31/31 [==============================] - 0s 13ms/step - loss: 0.0483 - accuracy: 0.9901 - val_loss: 0.1223 - val_accuracy: 0.9536\n",
            "Epoch 18/50\n",
            "31/31 [==============================] - 0s 9ms/step - loss: 0.0459 - accuracy: 0.9901 - val_loss: 0.1228 - val_accuracy: 0.9470\n",
            "Epoch 19/50\n",
            "31/31 [==============================] - 0s 8ms/step - loss: 0.0437 - accuracy: 0.9901 - val_loss: 0.1232 - val_accuracy: 0.9470\n",
            "Epoch 20/50\n",
            "31/31 [==============================] - 0s 10ms/step - loss: 0.0423 - accuracy: 0.9901 - val_loss: 0.1239 - val_accuracy: 0.9470\n",
            "Epoch 21/50\n",
            "31/31 [==============================] - 0s 6ms/step - loss: 0.0401 - accuracy: 0.9901 - val_loss: 0.1242 - val_accuracy: 0.9470\n",
            "Epoch 22/50\n",
            "31/31 [==============================] - 0s 6ms/step - loss: 0.0386 - accuracy: 0.9901 - val_loss: 0.1254 - val_accuracy: 0.9470\n",
            "Epoch 23/50\n",
            "31/31 [==============================] - 0s 12ms/step - loss: 0.0370 - accuracy: 0.9901 - val_loss: 0.1260 - val_accuracy: 0.9470\n",
            "Epoch 24/50\n",
            "31/31 [==============================] - 0s 5ms/step - loss: 0.0358 - accuracy: 0.9901 - val_loss: 0.1268 - val_accuracy: 0.9470\n",
            "Epoch 25/50\n",
            "31/31 [==============================] - 0s 4ms/step - loss: 0.0340 - accuracy: 0.9934 - val_loss: 0.1285 - val_accuracy: 0.9470\n",
            "Epoch 26/50\n",
            "31/31 [==============================] - 0s 5ms/step - loss: 0.0330 - accuracy: 0.9934 - val_loss: 0.1291 - val_accuracy: 0.9470\n",
            "Epoch 27/50\n",
            "31/31 [==============================] - 0s 4ms/step - loss: 0.0317 - accuracy: 0.9934 - val_loss: 0.1308 - val_accuracy: 0.9470\n",
            "Epoch 28/50\n",
            "31/31 [==============================] - 0s 6ms/step - loss: 0.0306 - accuracy: 0.9934 - val_loss: 0.1320 - val_accuracy: 0.9470\n",
            "Epoch 29/50\n",
            "31/31 [==============================] - 0s 5ms/step - loss: 0.0293 - accuracy: 0.9934 - val_loss: 0.1336 - val_accuracy: 0.9470\n",
            "Epoch 30/50\n",
            "31/31 [==============================] - 0s 5ms/step - loss: 0.0280 - accuracy: 0.9934 - val_loss: 0.1352 - val_accuracy: 0.9470\n",
            "Epoch 31/50\n",
            "31/31 [==============================] - 0s 5ms/step - loss: 0.0270 - accuracy: 0.9934 - val_loss: 0.1359 - val_accuracy: 0.9470\n",
            "Epoch 32/50\n",
            "31/31 [==============================] - 0s 4ms/step - loss: 0.0265 - accuracy: 0.9934 - val_loss: 0.1386 - val_accuracy: 0.9470\n",
            "Epoch 33/50\n",
            "31/31 [==============================] - 0s 5ms/step - loss: 0.0259 - accuracy: 0.9934 - val_loss: 0.1396 - val_accuracy: 0.9404\n",
            "Epoch 34/50\n",
            "31/31 [==============================] - 0s 4ms/step - loss: 0.0244 - accuracy: 0.9934 - val_loss: 0.1414 - val_accuracy: 0.9470\n",
            "Epoch 35/50\n",
            "31/31 [==============================] - 0s 5ms/step - loss: 0.0233 - accuracy: 0.9934 - val_loss: 0.1421 - val_accuracy: 0.9470\n",
            "Epoch 36/50\n",
            "31/31 [==============================] - 0s 5ms/step - loss: 0.0224 - accuracy: 0.9934 - val_loss: 0.1438 - val_accuracy: 0.9470\n",
            "Epoch 37/50\n",
            "31/31 [==============================] - 0s 5ms/step - loss: 0.0213 - accuracy: 0.9934 - val_loss: 0.1457 - val_accuracy: 0.9470\n",
            "Epoch 38/50\n",
            "31/31 [==============================] - 0s 4ms/step - loss: 0.0207 - accuracy: 0.9934 - val_loss: 0.1481 - val_accuracy: 0.9470\n",
            "Epoch 39/50\n",
            "31/31 [==============================] - 0s 5ms/step - loss: 0.0198 - accuracy: 0.9967 - val_loss: 0.1488 - val_accuracy: 0.9470\n",
            "Epoch 40/50\n",
            "31/31 [==============================] - 0s 5ms/step - loss: 0.0192 - accuracy: 0.9967 - val_loss: 0.1499 - val_accuracy: 0.9470\n",
            "Epoch 41/50\n",
            "31/31 [==============================] - 0s 5ms/step - loss: 0.0189 - accuracy: 0.9967 - val_loss: 0.1514 - val_accuracy: 0.9470\n",
            "Epoch 42/50\n",
            "31/31 [==============================] - 0s 6ms/step - loss: 0.0182 - accuracy: 0.9934 - val_loss: 0.1538 - val_accuracy: 0.9404\n",
            "Epoch 43/50\n",
            "31/31 [==============================] - 0s 6ms/step - loss: 0.0175 - accuracy: 0.9967 - val_loss: 0.1552 - val_accuracy: 0.9404\n",
            "Epoch 44/50\n",
            "31/31 [==============================] - 0s 5ms/step - loss: 0.0168 - accuracy: 0.9967 - val_loss: 0.1573 - val_accuracy: 0.9470\n",
            "Epoch 45/50\n",
            "31/31 [==============================] - 0s 4ms/step - loss: 0.0162 - accuracy: 0.9967 - val_loss: 0.1589 - val_accuracy: 0.9470\n",
            "Epoch 46/50\n",
            "31/31 [==============================] - 0s 4ms/step - loss: 0.0158 - accuracy: 0.9967 - val_loss: 0.1608 - val_accuracy: 0.9470\n",
            "Epoch 47/50\n",
            "31/31 [==============================] - 0s 4ms/step - loss: 0.0150 - accuracy: 0.9967 - val_loss: 0.1629 - val_accuracy: 0.9470\n",
            "Epoch 48/50\n",
            "31/31 [==============================] - 0s 5ms/step - loss: 0.0146 - accuracy: 0.9967 - val_loss: 0.1638 - val_accuracy: 0.9470\n",
            "Epoch 49/50\n",
            "31/31 [==============================] - 0s 4ms/step - loss: 0.0141 - accuracy: 0.9967 - val_loss: 0.1654 - val_accuracy: 0.9470\n",
            "Epoch 50/50\n",
            "31/31 [==============================] - 0s 5ms/step - loss: 0.0136 - accuracy: 0.9967 - val_loss: 0.1685 - val_accuracy: 0.9404\n"
          ]
        }
      ]
    },
    {
      "cell_type": "markdown",
      "source": [
        "**Modelimizin performansını değerlendirelim:**"
      ],
      "metadata": {
        "id": "g2MHU1Q6Xt69"
      }
    },
    {
      "cell_type": "code",
      "source": [
        "_, accuracy = model.evaluate(X_test, y_test)\n",
        "print('Accuracy: %.2f' % (accuracy*100))\n"
      ],
      "metadata": {
        "colab": {
          "base_uri": "https://localhost:8080/"
        },
        "id": "_SeFwLRCXsIj",
        "outputId": "2b88b415-4ab6-477f-83be-fa62e935a5c5"
      },
      "execution_count": null,
      "outputs": [
        {
          "output_type": "stream",
          "name": "stdout",
          "text": [
            "4/4 [==============================] - 0s 5ms/step - loss: 0.0546 - accuracy: 0.9737\n",
            "Accuracy: 97.37\n"
          ]
        }
      ]
    },
    {
      "cell_type": "markdown",
      "source": [
        "**Şimdi de derin öğrenme modelimizi oluşturalım:**"
      ],
      "metadata": {
        "id": "6CtwxPe7XxpH"
      }
    },
    {
      "cell_type": "markdown",
      "source": [
        "***Derin öğrenme modeli için ise önce verilerimizi yeniden şekillendirmemiz gerekiyor:***"
      ],
      "metadata": {
        "id": "Ig3DceXOX_y3"
      }
    },
    {
      "cell_type": "code",
      "source": [
        "X_train = X_train.reshape(X_train.shape[0], X_train.shape[1], 1)\n",
        "X_test = X_test.reshape(X_test.shape[0], X_test.shape[1], 1)\n"
      ],
      "metadata": {
        "id": "mZn0ibq5YEpn"
      },
      "execution_count": null,
      "outputs": []
    },
    {
      "cell_type": "markdown",
      "source": [
        "**Ardından derin öğrenme modelimizi oluşturabiliriz:**"
      ],
      "metadata": {
        "id": "wehiB9qPYHjk"
      }
    },
    {
      "cell_type": "code",
      "source": [
        "from keras.layers import Conv1D, MaxPooling1D, Flatten\n",
        "\n",
        "model = Sequential()\n",
        "model.add(Conv1D(filters=64, kernel_size=2, activation='relu', input_shape=(30, 1)))\n",
        "model.add(MaxPooling1D(pool_size=2))\n",
        "model.add(Flatten())\n",
        "model.add(Dense(50, activation='relu'))\n",
        "model.add(Dense(1, activation='sigmoid'))\n",
        "\n",
        "model.compile(loss='binary_crossentropy', optimizer='adam', metrics=['accuracy'])\n"
      ],
      "metadata": {
        "id": "RPdtWeEOYHC0"
      },
      "execution_count": null,
      "outputs": []
    },
    {
      "cell_type": "markdown",
      "source": [
        "**Modelimizi eğitelim:**"
      ],
      "metadata": {
        "id": "SgeShK_NYR6B"
      }
    },
    {
      "cell_type": "code",
      "source": [
        "history = model.fit(X_train, y_train, validation_split=0.33, epochs=50, batch_size=10)\n"
      ],
      "metadata": {
        "colab": {
          "base_uri": "https://localhost:8080/"
        },
        "id": "052x9n3hYUvz",
        "outputId": "dcdaa148-baff-460e-f344-b9b82c02796e"
      },
      "execution_count": null,
      "outputs": [
        {
          "output_type": "stream",
          "name": "stdout",
          "text": [
            "Epoch 1/50\n",
            "31/31 [==============================] - 1s 15ms/step - loss: 0.2649 - accuracy: 0.9079 - val_loss: 0.1430 - val_accuracy: 0.9470\n",
            "Epoch 2/50\n",
            "31/31 [==============================] - 0s 7ms/step - loss: 0.0887 - accuracy: 0.9704 - val_loss: 0.1249 - val_accuracy: 0.9404\n",
            "Epoch 3/50\n",
            "31/31 [==============================] - 0s 7ms/step - loss: 0.0616 - accuracy: 0.9836 - val_loss: 0.1127 - val_accuracy: 0.9536\n",
            "Epoch 4/50\n",
            "31/31 [==============================] - 0s 6ms/step - loss: 0.0589 - accuracy: 0.9836 - val_loss: 0.1209 - val_accuracy: 0.9470\n",
            "Epoch 5/50\n",
            "31/31 [==============================] - 0s 7ms/step - loss: 0.0458 - accuracy: 0.9868 - val_loss: 0.1286 - val_accuracy: 0.9404\n",
            "Epoch 6/50\n",
            "31/31 [==============================] - 0s 6ms/step - loss: 0.0406 - accuracy: 0.9901 - val_loss: 0.1430 - val_accuracy: 0.9404\n",
            "Epoch 7/50\n",
            "31/31 [==============================] - 0s 7ms/step - loss: 0.0378 - accuracy: 0.9901 - val_loss: 0.1546 - val_accuracy: 0.9404\n",
            "Epoch 8/50\n",
            "31/31 [==============================] - 0s 7ms/step - loss: 0.0356 - accuracy: 0.9934 - val_loss: 0.1180 - val_accuracy: 0.9536\n",
            "Epoch 9/50\n",
            "31/31 [==============================] - 0s 7ms/step - loss: 0.0332 - accuracy: 0.9934 - val_loss: 0.1538 - val_accuracy: 0.9404\n",
            "Epoch 10/50\n",
            "31/31 [==============================] - 0s 7ms/step - loss: 0.0317 - accuracy: 0.9901 - val_loss: 0.1362 - val_accuracy: 0.9536\n",
            "Epoch 11/50\n",
            "31/31 [==============================] - 0s 10ms/step - loss: 0.0259 - accuracy: 0.9934 - val_loss: 0.1738 - val_accuracy: 0.9338\n",
            "Epoch 12/50\n",
            "31/31 [==============================] - 0s 10ms/step - loss: 0.0237 - accuracy: 0.9967 - val_loss: 0.1037 - val_accuracy: 0.9603\n",
            "Epoch 13/50\n",
            "31/31 [==============================] - 0s 10ms/step - loss: 0.0299 - accuracy: 0.9901 - val_loss: 0.1120 - val_accuracy: 0.9603\n",
            "Epoch 14/50\n",
            "31/31 [==============================] - 0s 8ms/step - loss: 0.0189 - accuracy: 0.9934 - val_loss: 0.1586 - val_accuracy: 0.9404\n",
            "Epoch 15/50\n",
            "31/31 [==============================] - 0s 7ms/step - loss: 0.0157 - accuracy: 0.9967 - val_loss: 0.1253 - val_accuracy: 0.9603\n",
            "Epoch 16/50\n",
            "31/31 [==============================] - 0s 8ms/step - loss: 0.0136 - accuracy: 0.9967 - val_loss: 0.1700 - val_accuracy: 0.9470\n",
            "Epoch 17/50\n",
            "31/31 [==============================] - 0s 7ms/step - loss: 0.0200 - accuracy: 0.9934 - val_loss: 0.1418 - val_accuracy: 0.9536\n",
            "Epoch 18/50\n",
            "31/31 [==============================] - 0s 8ms/step - loss: 0.0099 - accuracy: 1.0000 - val_loss: 0.1389 - val_accuracy: 0.9470\n",
            "Epoch 19/50\n",
            "31/31 [==============================] - 0s 8ms/step - loss: 0.0112 - accuracy: 0.9967 - val_loss: 0.1364 - val_accuracy: 0.9470\n",
            "Epoch 20/50\n",
            "31/31 [==============================] - 0s 8ms/step - loss: 0.0069 - accuracy: 1.0000 - val_loss: 0.1773 - val_accuracy: 0.9470\n",
            "Epoch 21/50\n",
            "31/31 [==============================] - 0s 6ms/step - loss: 0.0084 - accuracy: 1.0000 - val_loss: 0.1831 - val_accuracy: 0.9404\n",
            "Epoch 22/50\n",
            "31/31 [==============================] - 0s 6ms/step - loss: 0.0066 - accuracy: 1.0000 - val_loss: 0.1589 - val_accuracy: 0.9470\n",
            "Epoch 23/50\n",
            "31/31 [==============================] - 0s 6ms/step - loss: 0.0251 - accuracy: 0.9901 - val_loss: 0.1918 - val_accuracy: 0.9272\n",
            "Epoch 24/50\n",
            "31/31 [==============================] - 0s 5ms/step - loss: 0.0153 - accuracy: 0.9901 - val_loss: 0.3178 - val_accuracy: 0.9338\n",
            "Epoch 25/50\n",
            "31/31 [==============================] - 0s 6ms/step - loss: 0.0170 - accuracy: 0.9934 - val_loss: 0.1379 - val_accuracy: 0.9669\n",
            "Epoch 26/50\n",
            "31/31 [==============================] - 0s 4ms/step - loss: 0.0065 - accuracy: 0.9967 - val_loss: 0.1600 - val_accuracy: 0.9404\n",
            "Epoch 27/50\n",
            "31/31 [==============================] - 0s 4ms/step - loss: 0.0043 - accuracy: 1.0000 - val_loss: 0.1935 - val_accuracy: 0.9470\n",
            "Epoch 28/50\n",
            "31/31 [==============================] - 0s 6ms/step - loss: 0.0034 - accuracy: 1.0000 - val_loss: 0.1745 - val_accuracy: 0.9404\n",
            "Epoch 29/50\n",
            "31/31 [==============================] - 0s 6ms/step - loss: 0.0032 - accuracy: 1.0000 - val_loss: 0.1950 - val_accuracy: 0.9404\n",
            "Epoch 30/50\n",
            "31/31 [==============================] - 0s 6ms/step - loss: 0.0030 - accuracy: 1.0000 - val_loss: 0.1729 - val_accuracy: 0.9470\n",
            "Epoch 31/50\n",
            "31/31 [==============================] - 0s 6ms/step - loss: 0.0027 - accuracy: 1.0000 - val_loss: 0.2007 - val_accuracy: 0.9338\n",
            "Epoch 32/50\n",
            "31/31 [==============================] - 0s 6ms/step - loss: 0.0025 - accuracy: 1.0000 - val_loss: 0.1824 - val_accuracy: 0.9404\n",
            "Epoch 33/50\n",
            "31/31 [==============================] - 0s 5ms/step - loss: 0.0021 - accuracy: 1.0000 - val_loss: 0.1843 - val_accuracy: 0.9470\n",
            "Epoch 34/50\n",
            "31/31 [==============================] - 0s 5ms/step - loss: 0.0023 - accuracy: 1.0000 - val_loss: 0.1838 - val_accuracy: 0.9470\n",
            "Epoch 35/50\n",
            "31/31 [==============================] - 0s 5ms/step - loss: 0.0019 - accuracy: 1.0000 - val_loss: 0.1901 - val_accuracy: 0.9470\n",
            "Epoch 36/50\n",
            "31/31 [==============================] - 0s 6ms/step - loss: 0.0019 - accuracy: 1.0000 - val_loss: 0.1986 - val_accuracy: 0.9404\n",
            "Epoch 37/50\n",
            "31/31 [==============================] - 0s 6ms/step - loss: 0.0017 - accuracy: 1.0000 - val_loss: 0.1951 - val_accuracy: 0.9404\n",
            "Epoch 38/50\n",
            "31/31 [==============================] - 0s 6ms/step - loss: 0.0015 - accuracy: 1.0000 - val_loss: 0.1938 - val_accuracy: 0.9470\n",
            "Epoch 39/50\n",
            "31/31 [==============================] - 0s 6ms/step - loss: 0.0016 - accuracy: 1.0000 - val_loss: 0.1971 - val_accuracy: 0.9470\n",
            "Epoch 40/50\n",
            "31/31 [==============================] - 0s 7ms/step - loss: 0.0017 - accuracy: 1.0000 - val_loss: 0.1947 - val_accuracy: 0.9470\n",
            "Epoch 41/50\n",
            "31/31 [==============================] - 0s 6ms/step - loss: 0.0014 - accuracy: 1.0000 - val_loss: 0.2043 - val_accuracy: 0.9404\n",
            "Epoch 42/50\n",
            "31/31 [==============================] - 0s 6ms/step - loss: 0.0013 - accuracy: 1.0000 - val_loss: 0.2003 - val_accuracy: 0.9470\n",
            "Epoch 43/50\n",
            "31/31 [==============================] - 0s 7ms/step - loss: 0.0014 - accuracy: 1.0000 - val_loss: 0.1974 - val_accuracy: 0.9470\n",
            "Epoch 44/50\n",
            "31/31 [==============================] - 0s 6ms/step - loss: 0.0011 - accuracy: 1.0000 - val_loss: 0.2077 - val_accuracy: 0.9470\n",
            "Epoch 45/50\n",
            "31/31 [==============================] - 0s 6ms/step - loss: 0.0010 - accuracy: 1.0000 - val_loss: 0.2104 - val_accuracy: 0.9470\n",
            "Epoch 46/50\n",
            "31/31 [==============================] - 0s 6ms/step - loss: 9.9719e-04 - accuracy: 1.0000 - val_loss: 0.2091 - val_accuracy: 0.9470\n",
            "Epoch 47/50\n",
            "31/31 [==============================] - 0s 5ms/step - loss: 9.7235e-04 - accuracy: 1.0000 - val_loss: 0.2111 - val_accuracy: 0.9470\n",
            "Epoch 48/50\n",
            "31/31 [==============================] - 0s 5ms/step - loss: 0.0011 - accuracy: 1.0000 - val_loss: 0.2175 - val_accuracy: 0.9470\n",
            "Epoch 49/50\n",
            "31/31 [==============================] - 0s 6ms/step - loss: 9.0906e-04 - accuracy: 1.0000 - val_loss: 0.2124 - val_accuracy: 0.9470\n",
            "Epoch 50/50\n",
            "31/31 [==============================] - 0s 6ms/step - loss: 8.4056e-04 - accuracy: 1.0000 - val_loss: 0.2175 - val_accuracy: 0.9470\n"
          ]
        }
      ]
    },
    {
      "cell_type": "markdown",
      "source": [
        "**Ve son olarak performansımızı değerlendirelim:**"
      ],
      "metadata": {
        "id": "iplsjGsjYbuc"
      }
    },
    {
      "cell_type": "code",
      "source": [
        "_, accuracy = model.evaluate(X_test, y_test)\n",
        "print('Accuracy: %.2f' % (accuracy*100))\n"
      ],
      "metadata": {
        "colab": {
          "base_uri": "https://localhost:8080/"
        },
        "id": "g4AW3xKoYcUF",
        "outputId": "297e0001-7b6d-4d44-e169-3ed2b3baae2c"
      },
      "execution_count": null,
      "outputs": [
        {
          "output_type": "stream",
          "name": "stdout",
          "text": [
            "4/4 [==============================] - 0s 8ms/step - loss: 0.1457 - accuracy: 0.9649\n",
            "Accuracy: 96.49\n"
          ]
        }
      ]
    },
    {
      "cell_type": "markdown",
      "source": [
        "**Modellerimizin eğitim sürecindeki performansını görmek için ayrı ayrı grafikler**\n",
        "\n"
      ],
      "metadata": {
        "id": "Lg7NUjLgbYMj"
      }
    },
    {
      "cell_type": "code",
      "source": [
        "import matplotlib.pyplot as plt"
      ],
      "metadata": {
        "id": "c5SW5vThbhTI"
      },
      "execution_count": null,
      "outputs": []
    },
    {
      "cell_type": "markdown",
      "source": [
        "**Doğruluk değerlerinin eğitim ve test setleri için değişimini gösteren bir grafik**"
      ],
      "metadata": {
        "id": "EBwLn5PGbvGT"
      }
    },
    {
      "cell_type": "code",
      "source": [
        "plt.plot(history.history['accuracy'], label='train')\n",
        "plt.plot(history.history['val_accuracy'], label='test')\n",
        "plt.title('Model Accuracy')\n",
        "plt.ylabel('Accuracy')\n",
        "plt.xlabel('Epoch')\n",
        "plt.legend()\n",
        "plt.show()"
      ],
      "metadata": {
        "colab": {
          "base_uri": "https://localhost:8080/",
          "height": 295
        },
        "id": "KoT7xsu7blam",
        "outputId": "66ca0871-59b3-46dd-aac5-c42529ba80da"
      },
      "execution_count": null,
      "outputs": [
        {
          "output_type": "display_data",
          "data": {
            "text/plain": [
              "<Figure size 432x288 with 1 Axes>"
            ],
            "image/png": "[encoded data removed]"
          },
          "metadata": {
            "needs_background": "light"
          }
        }
      ]
    },
    {
      "cell_type": "markdown",
      "source": [
        "**Kayıp değerlerinin eğitim ve test setleri için değişimini gösteren bir grafik**"
      ],
      "metadata": {
        "id": "2saCDORkbzWc"
      }
    },
    {
      "cell_type": "code",
      "source": [
        "plt.plot(history.history['loss'], label='train')\n",
        "plt.plot(history.history['val_loss'], label='test')\n",
        "plt.title('Model Loss')\n",
        "plt.ylabel('Loss')\n",
        "plt.xlabel('Epoch')\n",
        "plt.legend()\n",
        "plt.show()\n"
      ],
      "metadata": {
        "colab": {
          "base_uri": "https://localhost:8080/",
          "height": 295
        },
        "id": "nU2k2p7sbpew",
        "outputId": "1d4990c4-2b66-47ca-ccf1-372637d343cd"
      },
      "execution_count": null,
      "outputs": [
        {
          "output_type": "display_data",
          "data": {
            "text/plain": [
              "<Figure size 432x288 with 1 Axes>"
            ],
            "image/png": "[encoded data removed]"
          },
          "metadata": {
            "needs_background": "light"
          }
        }
      ]
    }
  ]
}