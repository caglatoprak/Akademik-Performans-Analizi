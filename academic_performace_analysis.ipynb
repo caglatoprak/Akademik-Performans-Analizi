{
  "nbformat": 4,
  "nbformat_minor": 0,
  "metadata": {
    "colab": {
      "name": "academic-performace-analysis",
      "version": "0.3.2",
      "provenance": [],
      "collapsed_sections": []
    },
    "kernelspec": {
      "name": "python3",
      "display_name": "Python 3"
    }
  },
  "cells": [
    {
      "cell_type": "markdown",
      "metadata": {
        "id": "7qW41pEBC-oL",
        "colab_type": "text"
      },
      "source": [
        "# **Akademik Performans Analizi**"
      ]
    },
    {
      "cell_type": "markdown",
      "metadata": {
        "id": "gIag2utlDLGO",
        "colab_type": "text"
      },
      "source": [
        "\n",
        "# **1. Veriyi Hazırlama & Tanıma**"
      ]
    },
    {
      "cell_type": "code",
      "metadata": {
        "id": "yXTtSNcbEcw5",
        "colab_type": "code",
        "colab": {}
      },
      "source": [
        "import pandas as pd\n",
        "from google.colab import files"
      ],
      "execution_count": 0,
      "outputs": []
    },
    {
      "cell_type": "code",
      "metadata": {
        "id": "ue8izIW0E4wn",
        "colab_type": "code",
        "outputId": "664c6a95-573c-4b3d-9da9-45782e0c099d",
        "colab": {
          "resources": {
            "http://localhost:8080/nbextensions/google.colab/files.js": {
              "data": "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",
              "ok": true,
              "headers": [
                [
                  "content-type",
                  "application/javascript"
                ]
              ],
              "status": 200,
              "status_text": ""
            }
          },
          "base_uri": "https://localhost:8080/",
          "height": 74
        }
      },
      "source": [
        "uploaded= files.upload()"
      ],
      "execution_count": 3,
      "outputs": [
        {
          "output_type": "display_data",
          "data": {
            "text/html": [
              "\n",
              "     <input type=\"file\" id=\"files-0b7e8fec-ded0-4ed2-9a3d-ff437d5b9b8d\" name=\"files[]\" multiple disabled />\n",
              "     <output id=\"result-0b7e8fec-ded0-4ed2-9a3d-ff437d5b9b8d\">\n",
              "      Upload widget is only available when the cell has been executed in the\n",
              "      current browser session. Please rerun this cell to enable.\n",
              "      </output>\n",
              "      <script src=\"/nbextensions/google.colab/files.js\"></script> "
            ],
            "text/plain": [
              "<IPython.core.display.HTML object>"
            ]
          },
          "metadata": {
            "tags": []
          }
        },
        {
          "output_type": "stream",
          "text": [
            "Saving xAPI-Edu-Data.csv to xAPI-Edu-Data.csv\n"
          ],
          "name": "stdout"
        }
      ]
    },
    {
      "cell_type": "code",
      "metadata": {
        "id": "I7_1Hp_1E691",
        "colab_type": "code",
        "outputId": "aee8926d-831e-4d4b-ab3a-a81242e9b2c2",
        "colab": {
          "base_uri": "https://localhost:8080/",
          "height": 34
        }
      },
      "source": [
        "for fn in uploaded.keys():\n",
        "  print('User uploaded file \"{name}\" with length {length} bytes'.format(name=fn, length=len(uploaded[fn])))"
      ],
      "execution_count": 4,
      "outputs": [
        {
          "output_type": "stream",
          "text": [
            "User uploaded file \"xAPI-Edu-Data.csv\" with length 38026 bytes\n"
          ],
          "name": "stdout"
        }
      ]
    },
    {
      "cell_type": "code",
      "metadata": {
        "id": "6j__0T5eF3yd",
        "colab_type": "code",
        "outputId": "6df4ef95-1f9c-4ed3-b16c-ce1472ec3076",
        "colab": {
          "base_uri": "https://localhost:8080/",
          "height": 54
        }
      },
      "source": [
        "uploaded"
      ],
      "execution_count": 5,
      "outputs": [
        {
          "output_type": "execute_result",
          "data": {
            "text/plain": [
              "{'xAPI-Edu-Data.csv': b'gender,NationalITy,PlaceofBirth,StageID,GradeID,SectionID,Topic,Semester,Relation,raisedhands,VisITedResources,AnnouncementsView,Discussion,ParentAnsweringSurvey,ParentschoolSatisfaction,StudentAbsenceDays,Class\\r\\nM,KW,KuwaIT,lowerlevel,G-04,A,IT,F,Father,15,16,2,20,Yes,Good,Under-7,M\\r\\nM,KW,KuwaIT,lowerlevel,G-04,A,IT,F,Father,20,20,3,25,Yes,Good,Under-7,M\\r\\nM,KW,KuwaIT,lowerlevel,G-04,A,IT,F,Father,10,7,0,30,No,Bad,Above-7,L\\r\\nM,KW,KuwaIT,lowerlevel,G-04,A,IT,F,Father,30,25,5,35,No,Bad,Above-7,L\\r\\nM,KW,KuwaIT,lowerlevel,G-04,A,IT,F,Father,40,50,12,50,No,Bad,Above-7,M\\r\\nF,KW,KuwaIT,lowerlevel,G-04,A,IT,F,Father,42,30,13,70,Yes,Bad,Above-7,M\\r\\nM,KW,KuwaIT,MiddleSchool,G-07,A,Math,F,Father,35,12,0,17,No,Bad,Above-7,L\\r\\nM,KW,KuwaIT,MiddleSchool,G-07,A,Math,F,Father,50,10,15,22,Yes,Good,Under-7,M\\r\\nF,KW,KuwaIT,MiddleSchool,G-07,A,Math,F,Father,12,21,16,50,Yes,Good,Under-7,M\\r\\nF,KW,KuwaIT,MiddleSchool,G-07,B,IT,F,Father,70,80,25,70,Yes,Good,Under-7,M\\r\\nM,KW,KuwaIT,MiddleSchool,G-07,A,Math,F,Father,50,88,30,80,Yes,Good,Under-7,H\\r\\nM,KW,KuwaIT,MiddleSchool,G-07,B,Math,F,Father,19,6,19,12,Yes,Good,Under-7,M\\r\\nM,KW,KuwaIT,lowerlevel,G-04,A,IT,F,Father,5,1,0,11,No,Bad,Above-7,L\\r\\nM,lebanon,lebanon,MiddleSchool,G-08,A,Math,F,Father,20,14,12,19,No,Bad,Above-7,L\\r\\nF,KW,KuwaIT,MiddleSchool,G-08,A,Math,F,Mum,62,70,44,60,No,Bad,Above-7,H\\r\\nF,KW,KuwaIT,MiddleSchool,G-06,A,IT,F,Father,30,40,22,66,Yes,Good,Under-7,M\\r\\nM,KW,KuwaIT,MiddleSchool,G-07,B,IT,F,Father,36,30,20,80,No,Bad,Above-7,M\\r\\nM,KW,KuwaIT,MiddleSchool,G-07,A,Math,F,Father,55,13,35,90,No,Bad,Above-7,M\\r\\nF,KW,KuwaIT,MiddleSchool,G-07,A,IT,F,Mum,69,15,36,96,Yes,Good,Under-7,M\\r\\nM,KW,KuwaIT,MiddleSchool,G-07,B,IT,F,Mum,70,50,40,99,Yes,Good,Under-7,H\\r\\nF,KW,KuwaIT,MiddleSchool,G-07,A,IT,F,Father,60,60,33,90,No,Bad,Above-7,M\\r\\nF,KW,KuwaIT,MiddleSchool,G-07,B,IT,F,Father,10,12,4,80,No,Bad,Under-7,M\\r\\nM,KW,KuwaIT,MiddleSchool,G-07,A,IT,F,Father,15,21,2,90,No,Bad,Under-7,M\\r\\nM,KW,KuwaIT,MiddleSchool,G-07,A,IT,F,Father,2,0,2,50,No,Bad,Above-7,L\\r\\nM,KW,KuwaIT,MiddleSchool,G-07,B,IT,F,Father,0,2,3,70,Yes,Good,Above-7,L\\r\\nM,KW,KuwaIT,MiddleSchool,G-07,A,IT,F,Father,8,7,30,40,Yes,Good,Above-7,L\\r\\nM,KW,KuwaIT,MiddleSchool,G-07,B,IT,F,Father,19,19,25,40,Yes,Bad,Under-7,M\\r\\nM,KW,KuwaIT,MiddleSchool,G-08,A,Arabic,F,Father,25,15,12,33,No,Bad,Above-7,L\\r\\nM,KW,KuwaIT,MiddleSchool,G-08,A,Science,F,Father,75,85,52,43,Yes,Good,Under-7,M\\r\\nF,KW,KuwaIT,MiddleSchool,G-08,A,Arabic,F,Father,30,90,33,35,No,Bad,Under-7,M\\r\\nF,KW,KuwaIT,MiddleSchool,G-08,A,Arabic,F,Father,35,80,50,70,Yes,Good,Under-7,H\\r\\nM,KW,KuwaIT,MiddleSchool,G-07,A,IT,F,Father,4,5,40,16,Yes,Good,Above-7,L\\r\\nF,KW,KuwaIT,lowerlevel,G-07,A,IT,F,Father,2,19,10,50,Yes,Good,Above-7,L\\r\\nM,KW,KuwaIT,lowerlevel,G-05,A,English,F,Father,8,22,9,40,No,Bad,Above-7,L\\r\\nM,KW,KuwaIT,MiddleSchool,G-07,B,Science,F,Father,12,11,8,40,No,Bad,Above-7,L\\r\\nM,KW,KuwaIT,MiddleSchool,G-07,A,English,F,Father,10,12,17,30,No,Bad,Above-7,L\\r\\nM,KW,KuwaIT,MiddleSchool,G-07,B,Science,F,Mum,8,6,4,22,Yes,Good,Above-7,L\\r\\nF,Egypt,Egypt,MiddleSchool,G-07,A,IT,F,Father,45,54,26,90,Yes,Good,Under-7,M\\r\\nM,KW,KuwaIT,MiddleSchool,G-06,A,IT,F,Father,0,0,0,4,No,Bad,Above-7,L\\r\\nF,SaudiArabia,SaudiArabia,MiddleSchool,G-07,B,Science,F,Father,50,90,37,70,Yes,Good,Under-7,M\\r\\nF,KW,KuwaIT,MiddleSchool,G-07,A,IT,F,Father,14,13,3,70,No,Bad,Above-7,L\\r\\nM,KW,KuwaIT,MiddleSchool,G-07,A,IT,F,Father,19,20,16,50,No,Good,Under-7,M\\r\\nM,KW,KuwaIT,HighSchool,G-09,A,IT,F,Father,10,12,7,33,Yes,Good,Above-7,L\\r\\nF,KW,KuwaIT,HighSchool,G-09,A,IT,F,Father,30,35,28,90,Yes,Good,Under-7,M\\r\\nF,KW,KuwaIT,HighSchool,G-09,A,IT,F,Father,33,33,30,90,No,Bad,Under-7,M\\r\\nM,KW,KuwaIT,MiddleSchool,G-07,A,Quran,F,Father,20,12,15,70,No,Good,Above-7,L\\r\\nM,KW,KuwaIT,lowerlevel,G-05,A,English,F,Father,7,10,1,30,No,Bad,Above-7,L\\r\\nF,KW,KuwaIT,HighSchool,G-12,A,English,F,Mum,70,4,39,90,Yes,Good,Under-7,H\\r\\nF,KW,KuwaIT,HighSchool,G-12,A,English,F,Mum,13,80,40,88,Yes,Good,Under-7,H\\r\\nF,KW,KuwaIT,HighSchool,G-12,A,English,F,Father,29,39,50,77,Yes,Good,Under-7,M\\r\\nF,KW,KuwaIT,HighSchool,G-12,A,English,F,Father,20,14,12,70,No,Bad,Above-7,L\\r\\nM,KW,KuwaIT,HighSchool,G-12,A,English,F,Father,39,15,16,50,No,Good,Above-7,L\\r\\nF,KW,KuwaIT,HighSchool,G-12,A,English,F,Father,55,90,16,40,No,Bad,Under-7,M\\r\\nF,KW,KuwaIT,HighSchool,G-11,A,Science,F,Mum,49,70,19,75,Yes,Good,Under-7,H\\r\\nM,KW,KuwaIT,HighSchool,G-12,A,English,F,Mum,12,50,8,30,No,Bad,Above-7,L\\r\\nM,KW,KuwaIT,MiddleSchool,G-07,A,Math,F,Father,16,14,6,20,Yes,Good,Above-7,L\\r\\nM,USA,USA,MiddleSchool,G-08,B,Math,F,Father,19,5,4,1,Yes,Good,Above-7,L\\r\\nM,KW,KuwaIT,MiddleSchool,G-07,A,Math,F,Father,5,2,6,5,Yes,Good,Above-7,L\\r\\nM,KW,KuwaIT,MiddleSchool,G-07,A,Math,F,Father,28,60,19,50,Yes,Good,Under-7,M\\r\\nF,USA,USA,MiddleSchool,G-07,A,Math,F,Father,27,22,22,40,No,Good,Under-7,M\\r\\nF,Jordan,Jordan,lowerlevel,G-05,A,English,F,Mum,21,10,28,20,No,Good,Above-7,L\\r\\nM,KW,KuwaIT,HighSchool,G-10,A,IT,F,Father,50,70,32,40,Yes,Good,Under-7,M\\r\\nM,venzuela,venzuela,HighSchool,G-10,A,IT,F,Mum,80,90,70,80,Yes,Good,Under-7,H\\r\\nM,KW,KuwaIT,HighSchool,G-10,A,IT,F,Father,17,13,16,12,Yes,Bad,Under-7,M\\r\\nM,KW,KuwaIT,HighSchool,G-10,A,IT,F,Father,0,5,7,2,No,Bad,Above-7,L\\r\\nM,KW,KuwaIT,HighSchool,G-12,A,English,F,Father,13,5,18,19,No,Bad,Above-7,L\\r\\nF,KW,KuwaIT,HighSchool,G-12,A,English,F,Father,25,10,19,30,No,Bad,Above-7,M\\r\\nF,USA,USA,HighSchool,G-12,A,English,F,Mum,65,75,23,80,Yes,Good,Under-7,H\\r\\nF,USA,USA,HighSchool,G-12,A,IT,F,Mum,70,69,35,30,Yes,Good,Under-7,H\\r\\nM,Jordan,Jordan,MiddleSchool,G-07,A,IT,F,Father,39,40,11,33,No,Bad,Under-7,M\\r\\nM,Jordan,Jordan,MiddleSchool,G-07,A,IT,F,Father,22,30,10,12,Yes,Good,Above-7,L\\r\\nM,KW,KuwaIT,MiddleSchool,G-07,A,IT,F,Father,29,22,9,20,Yes,Good,Under-7,M\\r\\nM,KW,KuwaIT,MiddleSchool,G-07,A,Math,F,Father,11,2,2,8,No,Bad,Under-7,L\\r\\nF,KW,KuwaIT,MiddleSchool,G-07,A,English,F,Father,19,30,26,19,Yes,Bad,Above-7,M\\r\\nM,KW,KuwaIT,MiddleSchool,G-07,B,IT,F,Father,12,0,6,13,No,Bad,Under-7,L\\r\\nM,Jordan,Jordan,MiddleSchool,G-07,A,Quran,F,Mum,50,90,29,60,Yes,Good,Under-7,M\\r\\nM,Iran,Iran,HighSchool,G-09,A,IT,F,Mum,15,70,37,44,Yes,Good,Under-7,M\\r\\nM,KW,KuwaIT,HighSchool,G-09,A,IT,F,Father,20,80,33,33,Yes,Good,Under-7,M\\r\\nM,KW,KuwaIT,HighSchool,G-11,A,Quran,F,Father,13,3,11,9,No,Bad,Above-7,L\\r\\nF,lebanon,lebanon,MiddleSchool,G-07,B,Math,F,Mum,80,90,49,55,Yes,Bad,Under-7,H\\r\\nM,KW,KuwaIT,MiddleSchool,G-07,A,Math,F,Father,8,15,10,40,Yes,Bad,Under-7,L\\r\\nM,KW,KuwaIT,lowerlevel,G-02,A,IT,F,Father,8,25,1,70,No,Bad,Above-7,L\\r\\nM,KW,KuwaIT,lowerlevel,G-02,B,IT,F,Father,7,5,2,80,Yes,Good,Above-7,L\\r\\nM,KW,KuwaIT,lowerlevel,G-02,B,IT,F,Father,7,4,10,50,No,Good,Above-7,M\\r\\nM,KW,KuwaIT,lowerlevel,G-02,B,IT,F,Father,50,70,50,10,Yes,Good,Above-7,H\\r\\nM,KW,KuwaIT,lowerlevel,G-02,B,IT,F,Father,1,0,1,12,No,Bad,Above-7,L\\r\\nM,SaudiArabia,SaudiArabia,lowerlevel,G-02,B,IT,F,Father,70,12,40,50,Yes,Good,Under-7,H\\r\\nM,KW,KuwaIT,lowerlevel,G-02,B,IT,F,Father,19,70,3,50,No,Bad,Under-7,L\\r\\nF,KW,KuwaIT,lowerlevel,G-02,B,IT,F,Father,3,12,4,33,No,Bad,Under-7,L\\r\\nM,KW,KuwaIT,lowerlevel,G-02,B,IT,F,Father,5,20,1,50,Yes,Good,Above-7,L\\r\\nM,KW,KuwaIT,lowerlevel,G-02,B,IT,F,Father,4,8,10,60,Yes,Good,Above-7,L\\r\\nM,KW,KuwaIT,lowerlevel,G-02,B,IT,F,Father,80,90,55,19,Yes,Good,Under-7,H\\r\\nF,KW,KuwaIT,lowerlevel,G-02,B,IT,F,Father,50,70,19,15,Yes,Good,Under-7,H\\r\\nM,USA,USA,lowerlevel,G-02,B,IT,F,Father,55,89,40,40,Yes,Good,Under-7,H\\r\\nF,KW,KuwaIT,lowerlevel,G-02,B,IT,F,Father,80,44,35,10,No,Good,Above-7,L\\r\\nF,KW,KuwaIT,lowerlevel,G-02,B,IT,F,Father,100,80,2,70,No,Bad,Under-7,H\\r\\nF,KW,KuwaIT,lowerlevel,G-02,C,IT,F,Father,14,60,11,75,Yes,Good,Under-7,H\\r\\nF,KW,KuwaIT,lowerlevel,G-02,B,IT,F,Father,6,2,38,12,No,Bad,Under-7,M\\r\\nF,KW,KuwaIT,lowerlevel,G-02,C,IT,F,Father,10,3,0,30,No,Bad,Under-7,M\\r\\nM,KW,KuwaIT,lowerlevel,G-02,B,IT,F,Father,50,7,9,50,Yes,Bad,Above-7,M\\r\\nM,KW,KuwaIT,lowerlevel,G-02,B,IT,F,Father,50,90,40,90,Yes,Bad,Under-7,M\\r\\nF,KW,KuwaIT,lowerlevel,G-02,B,IT,F,Mum,70,92,50,7,Yes,Good,Under-7,H\\r\\nF,KW,KuwaIT,lowerlevel,G-02,B,IT,F,Father,2,6,2,8,No,Bad,Above-7,L\\r\\nM,KW,KuwaIT,lowerlevel,G-02,B,IT,F,Father,1,7,6,10,No,Bad,Above-7,L\\r\\nM,KW,KuwaIT,lowerlevel,G-02,B,IT,F,Father,0,12,3,3,Yes,Good,Above-7,M\\r\\nF,KW,KuwaIT,lowerlevel,G-02,B,IT,F,Father,0,0,5,80,Yes,Good,Above-7,L\\r\\nF,KW,KuwaIT,lowerlevel,G-02,B,IT,F,Father,12,26,7,40,Yes,Good,Under-7,M\\r\\nM,KW,KuwaIT,lowerlevel,G-02,B,IT,F,Father,70,90,41,33,Yes,Bad,Under-7,H\\r\\nM,SaudiArabia,SaudiArabia,lowerlevel,G-02,B,IT,F,Father,7,12,5,3,No,Bad,Above-7,M\\r\\nM,KW,KuwaIT,lowerlevel,G-02,B,IT,F,Father,90,70,30,14,No,Bad,Under-7,M\\r\\nF,Jordan,Jordan,lowerlevel,G-02,B,IT,F,Mum,70,88,55,40,Yes,Good,Under-7,H\\r\\nM,KW,KuwaIT,lowerlevel,G-02,C,IT,F,Father,77,80,51,80,No,Good,Under-7,M\\r\\nM,KW,KuwaIT,lowerlevel,G-02,B,IT,F,Father,2,5,3,50,No,Bad,Above-7,L\\r\\nM,KW,KuwaIT,lowerlevel,G-02,B,IT,F,Father,25,27,0,69,No,Bad,Above-7,L\\r\\nM,KW,KuwaIT,lowerlevel,G-02,B,IT,F,Father,11,2,0,50,No,Bad,Above-7,L\\r\\nM,KW,KuwaIT,lowerlevel,G-02,B,IT,F,Father,0,8,11,70,Yes,Good,Above-7,L\\r\\nF,KW,KuwaIT,lowerlevel,G-02,C,IT,F,Mum,77,80,12,19,Yes,Good,Above-7,M\\r\\nF,KW,KuwaIT,lowerlevel,G-02,C,IT,F,Mum,25,29,40,17,No,Good,Under-7,H\\r\\nF,KW,KuwaIT,lowerlevel,G-02,C,IT,F,Mum,24,35,23,22,Yes,Good,Above-7,M\\r\\nM,KW,KuwaIT,lowerlevel,G-02,C,IT,F,Father,60,60,3,60,No,Bad,Under-7,M\\r\\nM,KW,KuwaIT,lowerlevel,G-02,C,IT,F,Mum,21,12,0,50,Yes,Good,Under-7,M\\r\\nM,KW,KuwaIT,lowerlevel,G-02,C,IT,F,Mum,0,4,8,30,No,Bad,Above-7,L\\r\\nF,KW,KuwaIT,lowerlevel,G-02,B,IT,F,Father,66,90,55,12,Yes,Good,Above-7,M\\r\\nF,lebanon,lebanon,lowerlevel,G-02,B,IT,F,Father,70,98,7,5,Yes,Good,Under-7,M\\r\\nM,KW,KuwaIT,lowerlevel,G-02,C,IT,F,Father,0,6,4,15,Yes,Bad,Under-7,L\\r\\nM,KW,KuwaIT,lowerlevel,G-02,B,IT,F,Father,12,30,0,17,No,Good,Above-7,L\\r\\nF,Iran,Iran,lowerlevel,G-02,C,IT,F,Father,2,9,7,55,Yes,Good,Under-7,M\\r\\nM,KW,KuwaIT,lowerlevel,G-02,B,IT,F,Father,55,33,6,9,No,Bad,Above-7,L\\r\\nM,KW,KuwaIT,lowerlevel,G-02,C,IT,F,Father,12,10,20,16,No,Bad,Under-7,L\\r\\nM,KW,KuwaIT,lowerlevel,G-02,B,IT,F,Father,70,90,2,2,Yes,Good,Under-7,L\\r\\nF,KW,KuwaIT,lowerlevel,G-02,C,IT,F,Father,7,9,5,30,No,Bad,Above-7,L\\r\\nM,Jordan,Jordan,lowerlevel,G-02,C,IT,F,Father,80,42,20,50,Yes,Good,Under-7,M\\r\\nM,KW,KuwaIT,lowerlevel,G-02,C,IT,S,Father,0,3,10,3,No,Bad,Above-7,L\\r\\nM,KW,KuwaIT,lowerlevel,G-02,A,IT,S,Father,12,60,0,70,Yes,Good,Above-7,L\\r\\nM,KW,KuwaIT,MiddleSchool,G-07,A,Quran,S,Father,80,80,15,70,Yes,Good,Under-7,H\\r\\nF,Egypt,Egypt,MiddleSchool,G-07,A,Quran,S,Mum,70,80,95,70,Yes,Good,Under-7,H\\r\\nF,KW,USA,HighSchool,G-11,A,Quran,S,Mum,70,80,95,70,Yes,Good,Under-7,H\\r\\nF,KW,USA,HighSchool,G-11,A,Quran,F,Mum,60,80,50,40,No,Bad,Under-7,M\\r\\nF,Jordan,Egypt,MiddleSchool,G-07,A,Quran,F,Mum,100,80,95,90,No,Bad,Under-7,H\\r\\nM,Jordan,USA,MiddleSchool,G-07,A,Quran,F,Mum,100,85,85,70,No,Bad,Under-7,M\\r\\nM,Tunis,Tunis,MiddleSchool,G-07,A,Quran,F,Father,10,60,5,20,Yes,Bad,Above-7,L\\r\\nM,Tunis,Tunis,MiddleSchool,G-07,A,Quran,S,Father,19,65,50,10,No,Bad,Above-7,L\\r\\nM,Tunis,Tunis,MiddleSchool,G-07,A,Quran,S,Father,10,75,55,11,Yes,Good,Under-7,M\\r\\nM,KW,KuwaIT,MiddleSchool,G-07,A,Quran,S,Father,80,90,55,19,Yes,Good,Under-7,H\\r\\nM,KW,KuwaIT,MiddleSchool,G-07,A,Quran,S,Father,10,10,15,19,No,Bad,Above-7,L\\r\\nM,Tunis,SaudiArabia,MiddleSchool,G-07,A,Quran,S,Father,70,75,55,11,Yes,Bad,Under-7,M\\r\\nF,lebanon,lebanon,MiddleSchool,G-07,A,Quran,S,Mum,100,75,50,70,Yes,Good,Under-7,H\\r\\nF,lebanon,lebanon,MiddleSchool,G-07,A,Quran,S,Father,10,79,30,30,No,Bad,Under-7,M\\r\\nF,Jordan,Jordan,MiddleSchool,G-07,A,Quran,S,Father,60,55,30,40,No,Bad,Under-7,M\\r\\nF,Jordan,lebanon,MiddleSchool,G-07,A,Quran,S,Mum,100,75,50,70,Yes,Bad,Under-7,H\\r\\nM,SaudiArabia,SaudiArabia,HighSchool,G-11,A,Quran,S,Father,80,80,51,59,Yes,Good,Under-7,H\\r\\nM,SaudiArabia,USA,HighSchool,G-11,A,Science,S,Father,23,63,71,89,Yes,Good,Under-7,M\\r\\nF,SaudiArabia,USA,HighSchool,G-11,B,Science,S,Father,100,91,98,40,Yes,Bad,Under-7,H\\r\\nM,SaudiArabia,USA,HighSchool,G-11,B,Spanish,S,Father,10,51,40,40,No,Bad,Above-7,L\\r\\nM,SaudiArabia,USA,HighSchool,G-11,B,English,S,Father,70,50,33,41,No,Bad,Above-7,M\\r\\nM,SaudiArabia,USA,HighSchool,G-11,B,Math,S,Father,70,58,73,91,Yes,Bad,Under-7,H\\r\\nF,Tunis,USA,HighSchool,G-11,B,French,S,Father,70,50,30,49,Yes,Good,Under-7,M\\r\\nM,Tunis,Tunis,HighSchool,G-11,B,Science,S,Father,70,50,33,40,No,Good,Under-7,M\\r\\nM,Tunis,KuwaIT,MiddleSchool,G-07,B,Science,S,Father,22,51,48,10,No,Bad,Above-7,L\\r\\nF,KW,KuwaIT,MiddleSchool,G-07,B,Science,S,Father,62,68,48,80,Yes,Good,Under-7,M\\r\\nF,Jordan,Jordan,MiddleSchool,G-07,B,Science,S,Mum,82,89,58,50,Yes,Good,Under-7,H\\r\\nM,Jordan,Jordan,MiddleSchool,G-07,B,Science,S,Mum,72,80,58,66,No,Bad,Under-7,M\\r\\nF,Jordan,Jordan,lowerlevel,G-02,B,French,S,Mum,70,82,3,73,No,Bad,Under-7,H\\r\\nF,Jordan,USA,lowerlevel,G-02,B,French,S,Mum,60,82,93,43,No,Bad,Above-7,M\\r\\nM,Jordan,Jordan,lowerlevel,G-02,B,French,S,Mum,55,72,83,14,Yes,Good,Above-7,M\\r\\nF,Morocco,Morocco,lowerlevel,G-02,B,French,S,Mum,72,65,73,66,Yes,Good,Under-7,H\\r\\nM,KW,KuwaIT,lowerlevel,G-02,B,French,S,Mum,51,82,53,43,No,Bad,Under-7,M\\r\\nM,Tunis,Tunis,lowerlevel,G-02,B,French,S,Mum,80,92,83,43,Yes,Good,Under-7,H\\r\\nM,KW,KuwaIT,lowerlevel,G-02,B,French,S,Mum,60,52,23,33,Yes,Good,Under-7,H\\r\\nM,KW,KuwaIT,lowerlevel,G-02,B,French,S,Mum,30,12,29,23,No,Bad,Under-7,M\\r\\nM,KW,KuwaIT,lowerlevel,G-02,B,French,S,Father,40,62,83,33,Yes,Good,Under-7,H\\r\\nM,KW,KuwaIT,lowerlevel,G-02,B,French,S,Mum,60,52,23,33,No,Good,Under-7,M\\r\\nM,Iran,Iran,lowerlevel,G-02,B,French,S,Mum,20,22,53,13,No,Good,Above-7,L\\r\\nM,Syria,Syria,lowerlevel,G-02,B,French,S,Mum,20,52,23,33,Yes,Good,Above-7,L\\r\\nF,Jordan,Jordan,lowerlevel,G-02,B,French,S,Father,50,62,73,43,Yes,Bad,Above-7,M\\r\\nM,Iran,Iran,lowerlevel,G-02,B,French,S,Father,10,2,13,53,No,Bad,Above-7,L\\r\\nM,Tunis,Tunis,lowerlevel,G-02,B,French,S,Mum,60,52,23,33,Yes,Bad,Under-7,H\\r\\nF,USA,USA,lowerlevel,G-02,B,French,S,Mum,15,52,83,11,Yes,Bad,Under-7,M\\r\\nF,lebanon,lebanon,lowerlevel,G-02,B,French,S,Mum,80,42,33,13,Yes,Bad,Under-7,H\\r\\nM,lebanon,lebanon,lowerlevel,G-02,B,French,S,Mum,40,51,20,33,No,Bad,Under-7,M\\r\\nF,SaudiArabia,SaudiArabia,lowerlevel,G-02,B,French,S,Father,60,70,63,93,Yes,Bad,Under-7,H\\r\\nM,Jordan,Jordan,lowerlevel,G-02,B,French,S,Father,50,62,13,33,No,Bad,Above-7,L\\r\\nM,KW,KuwaIT,MiddleSchool,G-08,A,Arabic,S,Mum,85,75,62,53,Yes,Bad,Under-7,H\\r\\nF,lebanon,lebanon,MiddleSchool,G-08,A,Arabic,S,Father,25,15,32,53,No,Bad,Under-7,M\\r\\nM,lebanon,lebanon,MiddleSchool,G-08,A,Arabic,S,Mum,10,35,30,13,No,Bad,Above-7,L\\r\\nM,lebanon,Jordan,MiddleSchool,G-08,A,Arabic,S,Mum,87,65,82,33,Yes,Good,Under-7,H\\r\\nM,KW,KuwaIT,MiddleSchool,G-08,A,Arabic,S,Mum,85,15,22,53,Yes,Good,Under-7,M\\r\\nF,KW,KuwaIT,MiddleSchool,G-08,A,Arabic,S,Father,80,71,52,51,Yes,Good,Under-7,M\\r\\nM,KW,KuwaIT,MiddleSchool,G-08,A,Arabic,S,Mum,75,71,72,53,Yes,Good,Under-7,H\\r\\nF,KW,KuwaIT,MiddleSchool,G-08,A,Arabic,S,Father,85,66,12,23,No,Bad,Under-7,M\\r\\nM,KW,KuwaIT,MiddleSchool,G-08,A,Arabic,S,Father,23,25,32,53,No,Bad,Under-7,L\\r\\nM,KW,KuwaIT,MiddleSchool,G-08,A,Arabic,S,Father,15,25,37,13,Yes,Good,Above-7,L\\r\\nM,KW,KuwaIT,MiddleSchool,G-08,A,Arabic,S,Mum,95,91,62,53,Yes,Good,Under-7,M\\r\\nM,Morocco,Morocco,MiddleSchool,G-08,A,Arabic,S,Mum,81,75,62,53,No,Bad,Under-7,M\\r\\nM,Morocco,Morocco,MiddleSchool,G-08,A,Arabic,S,Mum,53,75,72,23,No,Bad,Under-7,M\\r\\nM,KW,KuwaIT,MiddleSchool,G-08,A,Arabic,S,Father,15,43,42,33,Yes,Good,Under-7,M\\r\\nM,KW,KuwaIT,MiddleSchool,G-08,A,Arabic,S,Mum,92,65,62,53,Yes,Good,Under-7,H\\r\\nM,KW,KuwaIT,MiddleSchool,G-08,A,Arabic,S,Mum,83,75,62,53,No,Bad,Under-7,H\\r\\nM,Morocco,Morocco,MiddleSchool,G-08,B,Arabic,S,Father,27,15,42,53,No,Bad,Above-7,L\\r\\nM,KW,KuwaIT,MiddleSchool,G-08,B,Arabic,S,Father,45,95,12,13,No,Bad,Under-7,M\\r\\nM,KW,KuwaIT,MiddleSchool,G-08,B,Arabic,S,Mum,15,90,52,83,Yes,Bad,Under-7,H\\r\\nF,lebanon,lebanon,MiddleSchool,G-08,A,Arabic,S,Mum,45,58,52,43,Yes,Good,Under-7,H\\r\\nM,KW,KuwaIT,MiddleSchool,G-08,B,Arabic,S,Father,25,5,12,33,Yes,Good,Under-7,M\\r\\nF,KW,KuwaIT,MiddleSchool,G-08,B,Arabic,S,Father,22,51,42,40,Yes,Bad,Under-7,M\\r\\nM,Jordan,Jordan,MiddleSchool,G-08,B,Arabic,S,Father,29,10,12,24,No,Bad,Above-7,L\\r\\nF,SaudiArabia,SaudiArabia,MiddleSchool,G-08,B,Arabic,S,Mum,72,51,42,24,Yes,Bad,Above-7,H\\r\\nM,KW,KuwaIT,MiddleSchool,G-08,B,Arabic,S,Father,67,31,42,14,Yes,Good,Under-7,M\\r\\nM,KW,KuwaIT,MiddleSchool,G-08,C,Spanish,S,Father,17,21,42,14,Yes,Good,Under-7,M\\r\\nM,Tunis,Tunis,MiddleSchool,G-08,C,Spanish,S,Mum,27,41,49,14,No,Bad,Under-7,M\\r\\nM,KW,KuwaIT,MiddleSchool,G-08,C,Spanish,S,Father,70,81,39,84,No,Bad,Under-7,M\\r\\nM,Jordan,SaudiArabia,MiddleSchool,G-08,C,Spanish,S,Mum,27,90,82,14,Yes,Good,Under-7,H\\r\\nM,KW,KuwaIT,MiddleSchool,G-08,C,Spanish,S,Father,17,61,42,14,No,Bad,Under-7,M\\r\\nM,Tunis,Tunis,MiddleSchool,G-08,C,Spanish,S,Mum,87,81,42,19,Yes,Good,Under-7,H\\r\\nM,Tunis,Tunis,MiddleSchool,G-08,C,Spanish,S,Father,7,61,22,14,No,Bad,Above-7,L\\r\\nM,KW,KuwaIT,MiddleSchool,G-08,C,Spanish,S,Father,17,50,2,4,No,Bad,Above-7,L\\r\\nM,KW,KuwaIT,MiddleSchool,G-08,C,Spanish,S,Father,5,21,42,14,No,Good,Above-7,L\\r\\nM,Iran,Iran,MiddleSchool,G-08,C,Spanish,S,Mum,27,41,32,61,Yes,Bad,Above-7,M\\r\\nF,Jordan,KuwaIT,MiddleSchool,G-08,C,Spanish,S,Father,87,88,40,10,Yes,Good,Under-7,M\\r\\nM,KW,KuwaIT,MiddleSchool,G-08,C,Spanish,S,Mum,96,61,42,94,Yes,Bad,Under-7,H\\r\\nM,KW,KuwaIT,MiddleSchool,G-08,C,Spanish,S,Mum,57,51,46,34,Yes,Good,Under-7,M\\r\\nM,lebanon,lebanon,MiddleSchool,G-08,C,Spanish,S,Father,77,69,41,13,Yes,Good,Under-7,M\\r\\nM,lebanon,lebanon,MiddleSchool,G-08,C,Spanish,S,Father,80,51,40,24,No,Good,Under-7,M\\r\\nM,KW,KuwaIT,MiddleSchool,G-08,B,Spanish,S,Father,62,61,82,40,Yes,Bad,Under-7,M\\r\\nM,KW,KuwaIT,MiddleSchool,G-08,A,Spanish,S,Mum,72,83,12,90,Yes,Good,Under-7,H\\r\\nM,KW,KuwaIT,MiddleSchool,G-08,B,Spanish,S,Mum,87,81,22,70,Yes,Bad,Under-7,H\\r\\nM,KW,KuwaIT,MiddleSchool,G-08,A,Spanish,S,Mum,72,90,12,30,No,Bad,Under-7,M\\r\\nM,KW,KuwaIT,MiddleSchool,G-08,B,Spanish,S,Father,2,11,62,30,No,Bad,Under-7,L\\r\\nM,KW,KuwaIT,MiddleSchool,G-08,A,Spanish,S,Father,5,3,2,10,Yes,Good,Under-7,L\\r\\nM,KW,KuwaIT,HighSchool,G-11,B,Math,S,Mum,73,84,77,81,Yes,Good,Above-7,H\\r\\nM,KW,KuwaIT,MiddleSchool,G-08,A,Spanish,S,Father,5,17,21,10,No,Bad,Above-7,L\\r\\nM,Iran,Iran,MiddleSchool,G-08,A,Spanish,S,Mum,51,42,12,29,No,Bad,Above-7,M\\r\\nM,Syria,Jordan,MiddleSchool,G-08,A,Spanish,S,Father,9,7,21,20,Yes,Good,Above-7,L\\r\\nM,Syria,Syria,MiddleSchool,G-07,A,Quran,F,Father,19,72,15,50,Yes,Good,Above-7,M\\r\\nF,Jordan,Jordan,MiddleSchool,G-07,B,Science,S,Mum,32,80,58,46,Yes,Good,Above-7,M\\r\\nM,KW,KuwaIT,MiddleSchool,G-07,B,Science,S,Mum,32,60,58,66,Yes,Good,Above-7,M\\r\\nM,KW,KuwaIT,MiddleSchool,G-07,B,Science,S,Father,12,8,18,26,No,Bad,Above-7,L\\r\\nM,Jordan,Jordan,MiddleSchool,G-07,B,Science,S,Father,52,10,13,6,No,Bad,Above-7,L\\r\\nM,KW,KuwaIT,MiddleSchool,G-07,B,Science,S,Father,72,80,58,66,Yes,Good,Above-7,M\\r\\nF,KW,KuwaIT,MiddleSchool,G-07,B,Science,S,Mum,72,80,58,66,Yes,Good,Above-7,M\\r\\nM,Egypt,Egypt,MiddleSchool,G-07,B,Science,S,Mum,92,80,88,76,Yes,Good,Under-7,H\\r\\nM,KW,KuwaIT,MiddleSchool,G-07,B,Science,S,Mum,72,80,98,96,Yes,Bad,Under-7,H\\r\\nM,Egypt,Egypt,MiddleSchool,G-07,B,Science,S,Father,72,80,58,86,Yes,Good,Under-7,M\\r\\nM,KW,KuwaIT,MiddleSchool,G-07,B,Science,S,Father,22,20,18,6,No,Bad,Above-7,L\\r\\nM,Egypt,KuwaIT,MiddleSchool,G-07,B,Science,S,Father,12,20,38,46,No,Bad,Above-7,M\\r\\nM,KW,KuwaIT,MiddleSchool,G-07,B,IT,S,Mum,70,92,83,85,Yes,Bad,Under-7,H\\r\\nF,KW,KuwaIT,MiddleSchool,G-06,A,IT,S,Father,50,40,52,66,Yes,Bad,Under-7,M\\r\\nF,KW,KuwaIT,MiddleSchool,G-06,A,Science,S,Father,80,94,62,77,Yes,Good,Under-7,H\\r\\nF,KW,KuwaIT,MiddleSchool,G-06,A,Math,S,Father,87,48,82,96,No,Bad,Above-7,M\\r\\nF,KW,KuwaIT,MiddleSchool,G-06,A,Quran,S,Father,70,40,2,16,No,Bad,Above-7,L\\r\\nM,KW,KuwaIT,lowerlevel,G-04,A,IT,S,Father,65,86,62,40,No,Good,Above-7,M\\r\\nM,KW,KuwaIT,lowerlevel,G-04,A,Math,S,Father,15,6,32,40,Yes,Good,Under-7,H\\r\\nM,Egypt,Egypt,lowerlevel,G-04,A,English,S,Mum,19,74,32,17,No,Good,Above-7,L\\r\\nF,KW,KuwaIT,lowerlevel,G-04,A,Science,S,Father,69,76,82,94,No,Bad,Under-7,M\\r\\nM,KW,KuwaIT,lowerlevel,G-04,A,Arabic,S,Father,39,26,12,44,No,Bad,Above-7,L\\r\\nM,KW,KuwaIT,lowerlevel,G-04,A,English,S,Father,59,97,42,70,Yes,Good,Under-7,H\\r\\nM,KW,KuwaIT,lowerlevel,G-04,A,History,S,Father,10,17,12,40,Yes,Good,Under-7,H\\r\\nF,KW,KuwaIT,lowerlevel,G-04,A,History,S,Mum,80,87,72,60,No,Good,Under-7,H\\r\\nF,KW,KuwaIT,lowerlevel,G-04,A,History,S,Father,70,99,66,65,No,Good,Under-7,M\\r\\nF,KW,KuwaIT,lowerlevel,G-04,A,History,S,Father,80,97,86,95,Yes,Good,Under-7,M\\r\\nM,KW,KuwaIT,lowerlevel,G-04,A,English,S,Mum,69,34,12,17,No,Bad,Above-7,L\\r\\nM,KW,KuwaIT,lowerlevel,G-04,A,History,S,Father,10,17,12,14,No,Bad,Above-7,L\\r\\nM,KW,KuwaIT,lowerlevel,G-04,A,History,S,Father,61,97,82,64,Yes,Bad,Above-7,M\\r\\nF,KW,KuwaIT,lowerlevel,G-04,A,History,S,Mum,21,27,52,34,Yes,Good,Above-7,M\\r\\nM,Egypt,Egypt,lowerlevel,G-04,A,Math,S,Mum,49,94,42,7,No,Bad,Above-7,M\\r\\nF,Jordan,Jordan,MiddleSchool,G-06,A,English,F,Mum,70,64,42,32,No,Bad,Under-7,M\\r\\nF,Jordan,Jordan,MiddleSchool,G-06,A,English,S,Mum,79,84,82,37,No,Bad,Under-7,H\\r\\nM,Jordan,Jordan,MiddleSchool,G-06,A,English,F,Father,19,80,12,17,Yes,Good,Above-7,M\\r\\nM,Jordan,Jordan,MiddleSchool,G-06,A,English,S,Father,11,70,32,29,Yes,Good,Above-7,M\\r\\nM,Jordan,Jordan,MiddleSchool,G-06,A,English,F,Father,10,8,10,10,Yes,Bad,Above-7,M\\r\\nM,Jordan,Jordan,MiddleSchool,G-06,A,English,S,Father,18,28,40,20,Yes,Bad,Above-7,M\\r\\nF,Jordan,Jordan,MiddleSchool,G-06,A,English,F,Mum,90,84,52,30,No,Good,Under-7,H\\r\\nF,Jordan,Jordan,MiddleSchool,G-06,A,English,S,Mum,92,81,32,36,No,Good,Under-7,M\\r\\nM,Jordan,Jordan,MiddleSchool,G-06,A,English,F,Father,42,21,2,16,No,Bad,Under-7,M\\r\\nM,Jordan,Jordan,MiddleSchool,G-06,A,English,S,Father,22,20,6,26,No,Bad,Under-7,H\\r\\nF,lebanon,lebanon,MiddleSchool,G-06,A,English,F,Mum,95,82,82,70,Yes,Good,Under-7,H\\r\\nF,lebanon,lebanon,MiddleSchool,G-06,A,English,S,Mum,90,62,80,60,Yes,Good,Under-7,H\\r\\nM,Palestine,Jordan,MiddleSchool,G-06,A,English,F,Mum,72,21,22,26,Yes,Good,Under-7,H\\r\\nM,Palestine,Jordan,MiddleSchool,G-06,A,English,S,Mum,92,31,42,27,Yes,Good,Under-7,H\\r\\nM,Palestine,Jordan,MiddleSchool,G-06,A,English,F,Mum,82,31,52,25,No,Good,Under-7,M\\r\\nM,Palestine,Jordan,MiddleSchool,G-06,A,English,S,Mum,72,41,46,27,No,Good,Under-7,M\\r\\nM,Iraq,Iraq,MiddleSchool,G-06,A,English,F,Mum,74,71,56,37,No,Good,Under-7,H\\r\\nM,Iraq,Iraq,MiddleSchool,G-06,A,English,S,Mum,74,60,56,37,No,Good,Under-7,H\\r\\nF,Jordan,Jordan,MiddleSchool,G-06,A,English,F,Mum,95,94,72,80,No,Good,Under-7,H\\r\\nF,Jordan,Jordan,MiddleSchool,G-06,A,English,S,Mum,97,87,82,86,No,Good,Under-7,H\\r\\nM,Jordan,Jordan,MiddleSchool,G-06,A,English,F,Father,40,38,32,36,No,Bad,Above-7,M\\r\\nM,Jordan,Jordan,MiddleSchool,G-06,A,English,S,Father,41,39,35,39,Yes,Bad,Above-7,M\\r\\nF,Jordan,Jordan,MiddleSchool,G-06,A,English,F,Mum,51,79,85,89,Yes,Good,Under-7,H\\r\\nF,Jordan,Jordan,MiddleSchool,G-06,A,English,S,Mum,81,79,91,85,Yes,Good,Under-7,H\\r\\nM,Palestine,Jordan,MiddleSchool,G-06,A,English,F,Mum,71,70,65,69,Yes,Good,Under-7,M\\r\\nM,Palestine,Jordan,MiddleSchool,G-06,A,English,S,Mum,75,71,76,80,Yes,Good,Under-7,M\\r\\nF,Jordan,Jordan,lowerlevel,G-04,A,Science,F,Father,49,36,32,44,No,Bad,Above-7,L\\r\\nF,Jordan,Jordan,lowerlevel,G-04,A,Science,S,Father,42,24,12,24,No,Bad,Above-7,L\\r\\nF,Palestine,Palestine,lowerlevel,G-04,A,Science,F,Mum,90,86,82,74,Yes,Good,Under-7,H\\r\\nF,Palestine,Palestine,lowerlevel,G-04,A,Science,S,Mum,62,64,72,84,Yes,Good,Under-7,H\\r\\nM,Iraq,Iraq,lowerlevel,G-04,A,Science,F,Father,90,86,82,74,Yes,Good,Above-7,M\\r\\nM,Iraq,Iraq,lowerlevel,G-04,A,Science,S,Father,62,64,72,84,Yes,Good,Above-7,M\\r\\nF,Jordan,Jordan,lowerlevel,G-04,A,Science,F,Mum,98,87,86,84,No,Good,Under-7,H\\r\\nF,Jordan,Jordan,lowerlevel,G-04,A,Science,S,Mum,72,74,82,89,No,Good,Under-7,H\\r\\nM,Jordan,Jordan,lowerlevel,G-04,A,Science,F,Father,18,17,26,34,No,Good,Above-7,M\\r\\nM,Jordan,Jordan,lowerlevel,G-04,A,Science,S,Father,32,14,32,29,No,Good,Above-7,M\\r\\nM,Jordan,Jordan,lowerlevel,G-04,A,Science,F,Father,10,12,20,13,No,Bad,Above-7,L\\r\\nM,Jordan,Jordan,lowerlevel,G-04,A,Science,S,Father,22,34,15,9,No,Bad,Above-7,L\\r\\nF,Jordan,Jordan,lowerlevel,G-04,B,Science,F,Mum,11,20,21,23,No,Bad,Under-7,M\\r\\nF,Jordan,Jordan,lowerlevel,G-04,B,Science,S,Mum,12,44,25,39,No,Bad,Under-7,M\\r\\nF,Jordan,Jordan,lowerlevel,G-04,B,Science,F,Father,15,50,24,43,Yes,Bad,Under-7,M\\r\\nF,Jordan,Jordan,lowerlevel,G-04,B,Science,S,Father,32,44,29,89,Yes,Bad,Under-7,M\\r\\nM,Jordan,Jordan,lowerlevel,G-04,B,Science,F,Mum,65,59,74,83,Yes,Good,Under-7,H\\r\\nM,Jordan,Jordan,lowerlevel,G-04,B,Science,S,Mum,72,64,59,89,Yes,Good,Under-7,H\\r\\nM,Palestine,Jordan,lowerlevel,G-04,B,Science,F,Mum,95,57,74,89,Yes,Good,Above-7,M\\r\\nM,Palestine,Jordan,lowerlevel,G-04,B,Science,S,Mum,82,84,79,79,Yes,Good,Above-7,M\\r\\nM,Jordan,Jordan,lowerlevel,G-04,B,Science,F,Father,25,29,34,33,No,Good,Above-7,M\\r\\nM,Jordan,Jordan,lowerlevel,G-04,B,Science,S,Father,42,34,29,39,No,Good,Above-7,M\\r\\nF,Jordan,Jordan,lowerlevel,G-04,B,Science,F,Mum,55,79,44,43,Yes,Good,Under-7,H\\r\\nF,Jordan,Jordan,lowerlevel,G-04,B,Science,S,Mum,62,64,69,49,Yes,Good,Under-7,H\\r\\nF,Jordan,lebanon,lowerlevel,G-04,B,Science,F,Mum,78,88,74,83,Yes,Good,Under-7,H\\r\\nF,Jordan,lebanon,lowerlevel,G-04,B,Science,S,Mum,72,84,89,89,Yes,Good,Under-7,H\\r\\nM,Jordan,Jordan,lowerlevel,G-02,A,French,F,Mum,60,92,83,23,Yes,Good,Under-7,H\\r\\nM,Jordan,Jordan,lowerlevel,G-02,A,French,S,Mum,50,90,83,13,Yes,Good,Under-7,H\\r\\nF,Jordan,Jordan,lowerlevel,G-02,A,French,F,Mum,60,97,13,3,Yes,Good,Under-7,H\\r\\nF,Jordan,Jordan,lowerlevel,G-02,A,French,S,Mum,50,95,23,10,Yes,Good,Under-7,H\\r\\nF,Jordan,Jordan,lowerlevel,G-02,A,French,F,Mum,60,87,23,11,Yes,Good,Above-7,M\\r\\nF,Jordan,Jordan,lowerlevel,G-02,A,French,S,Mum,50,80,20,15,Yes,Good,Above-7,M\\r\\nM,Jordan,Jordan,lowerlevel,G-02,A,French,F,Father,10,15,10,21,No,Bad,Above-7,L\\r\\nM,Jordan,Jordan,lowerlevel,G-02,A,French,S,Father,30,10,20,5,No,Bad,Above-7,L\\r\\nM,Syria,Syria,lowerlevel,G-02,A,French,F,Father,24,35,18,31,No,Bad,Under-7,M\\r\\nM,Syria,Syria,lowerlevel,G-02,A,French,S,Father,27,20,33,35,No,Bad,Under-7,M\\r\\nM,Jordan,Jordan,lowerlevel,G-02,A,French,F,Father,10,15,10,21,No,Bad,Above-7,L\\r\\nM,Jordan,Jordan,lowerlevel,G-02,A,French,S,Father,30,10,20,5,No,Bad,Above-7,L\\r\\nF,Jordan,Palestine,lowerlevel,G-02,A,French,F,Mum,80,77,63,83,Yes,Good,Under-7,M\\r\\nF,Jordan,Palestine,lowerlevel,G-02,A,French,S,Mum,75,85,73,80,Yes,Good,Under-7,M\\r\\nM,Jordan,Jordan,lowerlevel,G-02,A,French,F,Father,40,7,50,41,No,Good,Above-7,L\\r\\nM,Jordan,Jordan,lowerlevel,G-02,A,French,S,Father,35,2,29,33,No,Good,Above-7,L\\r\\nF,Jordan,Jordan,lowerlevel,G-02,A,French,F,Mum,10,90,30,21,No,Good,Under-7,M\\r\\nF,Jordan,Jordan,lowerlevel,G-02,A,French,S,Mum,25,80,29,23,No,Good,Under-7,M\\r\\nM,Lybia,Lybia,lowerlevel,G-02,A,French,F,Mum,10,8,9,3,No,Good,Above-7,L\\r\\nM,Lybia,Lybia,lowerlevel,G-02,A,French,S,Mum,15,7,12,7,No,Good,Above-7,L\\r\\nF,Palestine,Jordan,lowerlevel,G-02,A,French,F,Mum,70,90,20,21,No,Good,Under-7,M\\r\\nF,Palestine,Jordan,lowerlevel,G-02,A,French,S,Mum,75,80,15,20,No,Good,Under-7,M\\r\\nF,Palestine,Jordan,lowerlevel,G-02,B,French,F,Father,78,98,10,11,No,Good,Under-7,M\\r\\nF,Palestine,Jordan,lowerlevel,G-02,B,French,S,Father,79,89,11,14,No,Good,Under-7,M\\r\\nF,Iraq,Iraq,lowerlevel,G-02,B,French,F,Father,16,90,15,11,No,Good,Under-7,M\\r\\nF,Iraq,Iraq,lowerlevel,G-02,B,French,S,Father,17,80,13,10,No,Good,Under-7,M\\r\\nM,Jordan,Jordan,lowerlevel,G-02,B,French,F,Mum,40,87,50,41,No,Bad,Under-7,M\\r\\nM,Jordan,Jordan,lowerlevel,G-02,B,French,S,Mum,35,92,29,33,No,Bad,Under-7,M\\r\\nF,Jordan,Jordan,lowerlevel,G-02,B,French,F,Mum,14,97,15,14,No,Good,Under-7,H\\r\\nF,Jordan,Jordan,lowerlevel,G-02,B,French,F,Mum,13,82,20,30,No,Good,Under-7,H\\r\\nF,Jordan,Jordan,lowerlevel,G-02,B,French,S,Mum,24,97,15,14,No,Good,Under-7,H\\r\\nF,Jordan,Jordan,lowerlevel,G-02,B,French,S,Mum,23,82,20,30,No,Good,Under-7,H\\r\\nM,Lybia,Lybia,lowerlevel,G-02,B,French,F,Mum,20,3,9,3,No,Good,Above-7,L\\r\\nM,Lybia,Lybia,lowerlevel,G-02,B,French,S,Mum,15,4,12,7,No,Good,Above-7,L\\r\\nM,Egypt,Egypt,lowerlevel,G-02,B,French,F,Mum,5,13,6,6,No,Good,Above-7,L\\r\\nM,Egypt,Egypt,lowerlevel,G-02,B,French,S,Mum,7,9,11,10,No,Good,Above-7,L\\r\\nF,Jordan,Jordan,lowerlevel,G-02,B,French,F,Mum,10,94,40,11,Yes,Good,Under-7,M\\r\\nF,Jordan,Jordan,lowerlevel,G-02,B,French,S,Mum,25,89,21,13,Yes,Good,Under-7,M\\r\\nM,Jordan,Jordan,lowerlevel,G-02,B,French,F,Mum,30,98,42,21,Yes,Good,Under-7,H\\r\\nM,Jordan,Jordan,lowerlevel,G-02,B,French,S,Mum,35,97,41,23,Yes,Good,Under-7,H\\r\\nM,Jordan,Jordan,lowerlevel,G-02,B,French,F,Father,32,88,32,25,Yes,Good,Under-7,M\\r\\nM,Jordan,Jordan,lowerlevel,G-02,B,French,S,Father,25,87,21,27,Yes,Good,Under-7,M\\r\\nF,lebanon,lebanon,lowerlevel,G-02,B,French,F,Mum,72,98,52,15,Yes,Good,Under-7,H\\r\\nF,lebanon,lebanon,lowerlevel,G-02,B,French,S,Mum,75,90,51,17,Yes,Good,Under-7,H\\r\\nM,Jordan,Jordan,lowerlevel,G-02,A,Arabic,F,Father,20,88,31,28,Yes,Good,Above-7,M\\r\\nM,Jordan,Jordan,lowerlevel,G-02,A,Arabic,S,Father,10,98,41,38,Yes,Good,Above-7,M\\r\\nM,Palestine,Jordan,lowerlevel,G-02,A,Arabic,F,Father,90,98,41,38,Yes,Good,Under-7,H\\r\\nM,Palestine,Jordan,lowerlevel,G-02,A,Arabic,S,Father,80,88,51,39,Yes,Good,Under-7,H\\r\\nM,Iraq,Iraq,lowerlevel,G-02,A,Arabic,F,Father,80,95,21,28,Yes,Good,Under-7,H\\r\\nM,Iraq,Iraq,lowerlevel,G-02,A,Arabic,S,Father,78,70,31,29,Yes,Good,Under-7,H\\r\\nM,Jordan,Jordan,lowerlevel,G-02,A,Arabic,F,Father,10,18,71,38,Yes,Good,Above-7,M\\r\\nM,Jordan,Jordan,lowerlevel,G-02,A,Arabic,S,Father,10,58,51,48,Yes,Good,Above-7,M\\r\\nF,Palestine,Jordan,lowerlevel,G-02,A,Arabic,F,Mum,98,88,60,31,No,Good,Under-7,H\\r\\nF,Palestine,Jordan,lowerlevel,G-02,A,Arabic,S,Mum,75,81,51,34,No,Good,Under-7,H\\r\\nM,Jordan,Jordan,lowerlevel,G-02,A,Arabic,F,Father,10,17,50,21,No,Bad,Under-7,M\\r\\nM,Jordan,Jordan,lowerlevel,G-02,A,Arabic,S,Father,35,2,29,23,No,Bad,Under-7,M\\r\\nF,Jordan,Jordan,lowerlevel,G-02,A,Arabic,F,Father,10,20,22,97,No,Bad,Above-7,L\\r\\nF,Jordan,Jordan,lowerlevel,G-02,A,Arabic,S,Father,5,9,19,98,No,Bad,Above-7,L\\r\\nM,Jordan,Jordan,lowerlevel,G-02,B,Arabic,F,Father,10,10,40,51,No,Bad,Above-7,L\\r\\nM,Jordan,Jordan,lowerlevel,G-02,B,Arabic,S,Father,35,2,29,23,No,Bad,Above-7,L\\r\\nM,Jordan,Jordan,lowerlevel,G-02,B,Arabic,F,Mum,20,90,50,61,Yes,Bad,Above-7,M\\r\\nM,Jordan,Jordan,lowerlevel,G-02,B,Arabic,S,Mum,32,82,59,63,Yes,Bad,Above-7,M\\r\\nM,Jordan,Jordan,lowerlevel,G-02,B,Arabic,F,Father,10,30,50,91,Yes,Bad,Above-7,L\\r\\nM,Jordan,Jordan,lowerlevel,G-02,B,Arabic,S,Father,12,22,59,83,Yes,Bad,Above-7,L\\r\\nF,Jordan,Jordan,lowerlevel,G-02,B,Arabic,F,Father,11,20,20,98,No,Bad,Above-7,L\\r\\nF,Jordan,Jordan,lowerlevel,G-02,B,Arabic,S,Father,10,12,29,93,No,Bad,Above-7,L\\r\\nM,Iraq,Iraq,lowerlevel,G-02,B,Arabic,F,Mum,69,82,20,28,Yes,Good,Under-7,H\\r\\nM,Iraq,Iraq,lowerlevel,G-02,B,Arabic,S,Mum,70,83,29,33,Yes,Good,Under-7,H\\r\\nF,Iraq,Iraq,lowerlevel,G-02,B,Arabic,F,Mum,89,92,40,28,Yes,Good,Under-7,H\\r\\nF,Iraq,Iraq,lowerlevel,G-02,B,Arabic,S,Mum,79,93,49,23,Yes,Good,Under-7,H\\r\\nM,Jordan,Jordan,lowerlevel,G-02,B,Arabic,F,Mum,15,90,21,97,Yes,Good,Under-7,M\\r\\nM,Jordan,Jordan,lowerlevel,G-02,B,Arabic,S,Mum,20,77,31,88,Yes,Good,Under-7,M\\r\\nM,Jordan,SaudiArabia,lowerlevel,G-02,B,Arabic,F,Mum,4,10,11,7,No,Good,Above-7,L\\r\\nM,Jordan,SaudiArabia,lowerlevel,G-02,B,Arabic,S,Mum,5,0,1,8,No,Good,Above-7,L\\r\\nF,Jordan,Jordan,MiddleSchool,G-07,A,Biology,F,Mum,88,81,50,10,Yes,Good,Above-7,M\\r\\nF,Jordan,Jordan,MiddleSchool,G-07,A,Biology,S,Mum,90,88,54,12,Yes,Good,Above-7,M\\r\\nF,Iraq,Iraq,MiddleSchool,G-07,A,Biology,F,Mum,86,98,50,20,Yes,Good,Under-7,H\\r\\nF,Iraq,Iraq,MiddleSchool,G-07,A,Biology,S,Mum,90,90,57,22,Yes,Good,Under-7,H\\r\\nM,Jordan,Palestine,MiddleSchool,G-07,A,Biology,F,Mum,78,91,50,40,Yes,Good,Under-7,H\\r\\nM,Jordan,Palestine,MiddleSchool,G-07,A,Biology,S,Mum,70,98,54,72,Yes,Good,Under-7,H\\r\\nM,Jordan,Jordan,MiddleSchool,G-07,A,Biology,F,Father,80,80,46,61,Yes,Bad,Under-7,M\\r\\nM,Jordan,Jordan,MiddleSchool,G-07,A,Biology,S,Father,85,82,59,63,Yes,Bad,Under-7,M\\r\\nM,Palestine,Palestine,MiddleSchool,G-07,A,Biology,F,Father,88,90,86,81,Yes,Good,Under-7,H\\r\\nM,Palestine,Palestine,MiddleSchool,G-07,A,Biology,S,Father,89,92,89,83,Yes,Good,Under-7,H\\r\\nM,Jordan,Jordan,MiddleSchool,G-07,A,Biology,F,Father,39,71,40,26,No,Good,Above-7,M\\r\\nM,Jordan,Jordan,MiddleSchool,G-07,A,Biology,S,Father,35,80,34,22,No,Good,Above-7,M\\r\\nM,Jordan,Jordan,MiddleSchool,G-07,A,Biology,F,Father,76,81,80,86,No,Good,Under-7,H\\r\\nM,Jordan,Jordan,MiddleSchool,G-07,A,Biology,S,Father,65,89,64,82,No,Good,Under-7,H\\r\\nF,Syria,Syria,MiddleSchool,G-07,A,Biology,F,Mum,96,95,70,70,Yes,Good,Under-7,H\\r\\nF,Syria,Syria,MiddleSchool,G-07,A,Biology,S,Mum,80,91,87,72,Yes,Good,Under-7,H\\r\\nM,Jordan,Jordan,MiddleSchool,G-07,A,Biology,F,Mum,2,9,10,1,No,Bad,Above-7,L\\r\\nM,Jordan,Jordan,MiddleSchool,G-07,A,Biology,S,Mum,3,8,19,3,No,Bad,Above-7,L\\r\\nM,Jordan,Jordan,MiddleSchool,G-07,B,Biology,F,Father,50,79,10,31,No,Bad,Under-7,M\\r\\nM,Jordan,Jordan,MiddleSchool,G-07,B,Biology,S,Father,53,88,9,33,No,Bad,Under-7,M\\r\\nF,Jordan,Jordan,MiddleSchool,G-07,B,Biology,F,Mum,70,89,12,21,No,Good,Under-7,H\\r\\nF,Jordan,Jordan,MiddleSchool,G-07,B,Biology,S,Mum,59,90,19,43,No,Good,Under-7,H\\r\\nM,Palestine,Jordan,MiddleSchool,G-07,B,Biology,F,Father,78,80,66,51,Yes,Good,Under-7,M\\r\\nM,Palestine,Jordan,MiddleSchool,G-07,B,Biology,S,Father,79,72,79,83,Yes,Good,Under-7,M\\r\\nF,Lybia,Lybia,MiddleSchool,G-07,B,Biology,F,Mum,10,9,2,1,No,Good,Above-7,L\\r\\nF,Lybia,Lybia,MiddleSchool,G-07,B,Biology,S,Mum,9,7,9,3,No,Good,Above-7,L\\r\\nM,Iraq,Iraq,MiddleSchool,G-07,B,Biology,F,Father,98,90,86,71,Yes,Good,Under-7,H\\r\\nM,Iraq,Iraq,MiddleSchool,G-07,B,Biology,S,Father,89,92,89,83,Yes,Good,Under-7,H\\r\\nM,Palestine,Jordan,MiddleSchool,G-07,B,Biology,F,Father,88,90,76,81,Yes,Good,Under-7,H\\r\\nM,Palestine,Jordan,MiddleSchool,G-07,B,Biology,S,Father,99,96,89,84,Yes,Good,Under-7,H\\r\\nF,Jordan,Jordan,MiddleSchool,G-08,A,Chemistry,F,Mum,82,89,22,31,Yes,Good,Under-7,H\\r\\nF,Jordan,Jordan,MiddleSchool,G-08,A,Chemistry,S,Mum,84,92,29,43,Yes,Good,Under-7,H\\r\\nF,Jordan,Jordan,MiddleSchool,G-08,A,Geology,F,Mum,70,69,46,45,Yes,Good,Above-7,M\\r\\nF,Jordan,Jordan,MiddleSchool,G-08,A,Geology,S,Mum,74,62,49,43,Yes,Good,Above-7,M\\r\\nF,Jordan,Jordan,MiddleSchool,G-08,A,Geology,F,Mum,90,79,76,79,Yes,Good,Under-7,H\\r\\nF,Jordan,Jordan,MiddleSchool,G-08,A,Geology,S,Mum,84,77,79,68,Yes,Good,Under-7,H\\r\\nM,Jordan,Jordan,MiddleSchool,G-08,A,Chemistry,F,Mum,80,80,62,11,Yes,Good,Above-7,M\\r\\nM,Jordan,Jordan,MiddleSchool,G-08,A,Chemistry,S,Mum,81,82,69,13,Yes,Good,Above-7,M\\r\\nM,Jordan,SaudiArabia,MiddleSchool,G-08,A,Chemistry,F,Father,10,0,2,41,No,Bad,Above-7,L\\r\\nM,Jordan,SaudiArabia,MiddleSchool,G-08,A,Chemistry,S,Father,11,2,9,49,No,Bad,Above-7,L\\r\\nM,Jordan,SaudiArabia,MiddleSchool,G-08,A,Geology,F,Father,85,89,22,61,No,Bad,Under-7,H\\r\\nM,Jordan,SaudiArabia,MiddleSchool,G-08,A,Geology,S,Father,80,89,23,68,No,Bad,Under-7,H\\r\\nM,Jordan,SaudiArabia,MiddleSchool,G-08,A,Geology,F,Father,95,87,62,81,No,Bad,Under-7,M\\r\\nM,Jordan,SaudiArabia,MiddleSchool,G-08,A,Geology,S,Father,87,79,73,98,No,Bad,Under-7,M\\r\\nM,Jordan,Jordan,MiddleSchool,G-08,A,Chemistry,F,Mum,85,87,72,10,Yes,Good,Above-7,M\\r\\nM,Jordan,Jordan,MiddleSchool,G-08,A,Chemistry,S,Mum,79,88,79,20,Yes,Good,Above-7,M\\r\\nM,Jordan,Jordan,MiddleSchool,G-08,A,Geology,F,Mum,80,81,71,30,Yes,Good,Under-7,M\\r\\nM,Jordan,Jordan,MiddleSchool,G-08,A,Geology,S,Mum,70,83,70,23,Yes,Good,Under-7,M\\r\\nM,Jordan,Jordan,MiddleSchool,G-08,A,Chemistry,F,Mum,80,82,76,19,Yes,Good,Under-7,M\\r\\nM,Jordan,Jordan,MiddleSchool,G-08,A,Chemistry,S,Mum,70,82,75,29,Yes,Good,Under-7,M\\r\\nM,Jordan,Jordan,MiddleSchool,G-08,A,Geology,F,Mum,89,87,86,15,Yes,Good,Under-7,M\\r\\nM,Jordan,Jordan,MiddleSchool,G-08,A,Geology,S,Mum,90,86,85,10,Yes,Good,Under-7,M\\r\\nM,Jordan,Jordan,MiddleSchool,G-08,A,History,F,Mum,69,77,76,75,Yes,Good,Above-7,M\\r\\nM,Jordan,Jordan,MiddleSchool,G-08,A,History,S,Mum,70,76,65,70,Yes,Good,Above-7,M\\r\\nM,Jordan,Jordan,MiddleSchool,G-08,A,Chemistry,F,Mum,75,72,64,39,Yes,Good,Above-7,L\\r\\nM,Jordan,Jordan,MiddleSchool,G-08,A,Chemistry,S,Mum,72,76,66,40,Yes,Good,Above-7,L\\r\\nM,Jordan,Jordan,MiddleSchool,G-08,A,Geology,F,Mum,77,82,74,79,Yes,Good,Under-7,M\\r\\nM,Jordan,Jordan,MiddleSchool,G-08,A,Geology,S,Mum,71,84,67,80,Yes,Good,Under-7,M\\r\\nM,Jordan,Jordan,MiddleSchool,G-08,A,History,F,Mum,87,92,74,89,Yes,Good,Under-7,H\\r\\nM,Jordan,Jordan,MiddleSchool,G-08,A,History,S,Mum,81,84,77,85,Yes,Good,Under-7,H\\r\\nF,Jordan,Jordan,MiddleSchool,G-08,A,Chemistry,F,Father,15,97,22,10,Yes,Good,Under-7,H\\r\\nF,Jordan,Jordan,MiddleSchool,G-08,A,Chemistry,S,Father,19,98,20,2,Yes,Good,Under-7,H\\r\\nF,Jordan,Jordan,MiddleSchool,G-08,A,Geology,F,Father,25,82,52,20,Yes,Good,Above-7,M\\r\\nF,Jordan,Jordan,MiddleSchool,G-08,A,Geology,S,Father,29,78,40,12,Yes,Good,Above-7,M\\r\\nF,Jordan,Jordan,MiddleSchool,G-08,A,History,F,Father,45,87,57,80,Yes,Good,Under-7,M\\r\\nF,Jordan,Jordan,MiddleSchool,G-08,A,History,S,Father,39,88,43,72,Yes,Good,Under-7,M\\r\\nF,Jordan,Jordan,MiddleSchool,G-08,A,Chemistry,F,Father,85,90,52,30,Yes,Good,Under-7,H\\r\\nF,Jordan,Jordan,MiddleSchool,G-08,A,Chemistry,S,Father,79,91,49,22,Yes,Good,Under-7,H\\r\\nM,Iraq,Iraq,MiddleSchool,G-08,A,Chemistry,F,Father,90,91,80,81,Yes,Good,Under-7,H\\r\\nM,Iraq,Iraq,MiddleSchool,G-08,A,Chemistry,S,Father,80,90,80,83,Yes,Good,Under-7,H\\r\\nM,Iraq,Iraq,MiddleSchool,G-08,A,Geology,F,Father,80,83,82,71,Yes,Good,Above-7,M\\r\\nM,Iraq,Iraq,MiddleSchool,G-08,A,Geology,S,Father,71,81,83,72,Yes,Good,Above-7,M\\r\\nM,Iraq,Iraq,MiddleSchool,G-08,A,History,F,Father,72,87,72,89,Yes,Good,Above-7,M\\r\\nM,Iraq,Iraq,MiddleSchool,G-08,A,History,S,Father,69,77,83,92,Yes,Good,Above-7,M\\r\\nF,Jordan,Jordan,MiddleSchool,G-08,A,Chemistry,F,Mum,85,99,42,90,Yes,Good,Under-7,H\\r\\nF,Jordan,Jordan,MiddleSchool,G-08,A,Chemistry,S,Mum,89,96,45,92,Yes,Good,Under-7,H\\r\\nF,Jordan,Jordan,MiddleSchool,G-08,A,Geology,F,Mum,80,82,64,58,Yes,Good,Under-7,H\\r\\nF,Jordan,Jordan,MiddleSchool,G-08,A,Geology,S,Mum,87,93,63,60,Yes,Good,Under-7,H\\r\\nF,Jordan,Jordan,MiddleSchool,G-08,A,Chemistry,F,Father,15,9,14,80,No,Bad,Above-7,L\\r\\nF,Jordan,Jordan,MiddleSchool,G-08,A,Chemistry,S,Father,9,6,15,85,No,Bad,Above-7,L\\r\\nM,Palestine,Jordan,MiddleSchool,G-08,A,History,F,Father,81,86,86,41,Yes,Good,Under-7,M\\r\\nM,Palestine,Jordan,MiddleSchool,G-08,A,History,S,Father,78,82,78,53,Yes,Good,Under-7,M\\r\\nM,Palestine,Palestine,MiddleSchool,G-08,A,Geology,F,Father,80,87,74,68,Yes,Good,Under-7,M\\r\\nM,Palestine,Palestine,MiddleSchool,G-08,A,Geology,S,Father,85,88,79,70,Yes,Good,Under-7,M\\r\\nF,Jordan,Jordan,MiddleSchool,G-08,A,Chemistry,F,Father,2,7,4,8,No,Bad,Above-7,L\\r\\nF,Jordan,Jordan,MiddleSchool,G-08,A,Chemistry,S,Father,5,4,5,8,No,Bad,Above-7,L\\r\\nF,Jordan,Jordan,MiddleSchool,G-08,A,Geology,F,Father,50,77,14,28,No,Bad,Under-7,M\\r\\nF,Jordan,Jordan,MiddleSchool,G-08,A,Geology,S,Father,55,74,25,29,No,Bad,Under-7,M\\r\\nF,Jordan,Jordan,MiddleSchool,G-08,A,History,F,Father,30,17,14,57,No,Bad,Above-7,L\\r\\nF,Jordan,Jordan,MiddleSchool,G-08,A,History,S,Father,35,14,23,62,No,Bad,Above-7,L\\r\\n'}"
            ]
          },
          "metadata": {
            "tags": []
          },
          "execution_count": 5
        }
      ]
    },
    {
      "cell_type": "code",
      "metadata": {
        "id": "8Ji81EHdF6vM",
        "colab_type": "code",
        "colab": {}
      },
      "source": [
        "import io"
      ],
      "execution_count": 0,
      "outputs": []
    },
    {
      "cell_type": "code",
      "metadata": {
        "id": "oPZ8KrfDGBX7",
        "colab_type": "code",
        "colab": {}
      },
      "source": [
        "df = pd.read_csv(io.StringIO(uploaded['xAPI-Edu-Data.csv'].decode('utf-8')))"
      ],
      "execution_count": 0,
      "outputs": []
    },
    {
      "cell_type": "code",
      "metadata": {
        "id": "iRV2n-p9GEwM",
        "colab_type": "code",
        "outputId": "dc4616cf-362b-4c1b-84e1-197f9b7d7e15",
        "colab": {
          "base_uri": "https://localhost:8080/",
          "height": 224
        }
      },
      "source": [
        "df.head()"
      ],
      "execution_count": 8,
      "outputs": [
        {
          "output_type": "execute_result",
          "data": {
            "text/html": [
              "<div>\n",
              "<style scoped>\n",
              "    .dataframe tbody tr th:only-of-type {\n",
              "        vertical-align: middle;\n",
              "    }\n",
              "\n",
              "    .dataframe tbody tr th {\n",
              "        vertical-align: top;\n",
              "    }\n",
              "\n",
              "    .dataframe thead th {\n",
              "        text-align: right;\n",
              "    }\n",
              "</style>\n",
              "<table border=\"1\" class=\"dataframe\">\n",
              "  <thead>\n",
              "    <tr style=\"text-align: right;\">\n",
              "      <th></th>\n",
              "      <th>gender</th>\n",
              "      <th>NationalITy</th>\n",
              "      <th>PlaceofBirth</th>\n",
              "      <th>StageID</th>\n",
              "      <th>GradeID</th>\n",
              "      <th>SectionID</th>\n",
              "      <th>Topic</th>\n",
              "      <th>Semester</th>\n",
              "      <th>Relation</th>\n",
              "      <th>raisedhands</th>\n",
              "      <th>VisITedResources</th>\n",
              "      <th>AnnouncementsView</th>\n",
              "      <th>Discussion</th>\n",
              "      <th>ParentAnsweringSurvey</th>\n",
              "      <th>ParentschoolSatisfaction</th>\n",
              "      <th>StudentAbsenceDays</th>\n",
              "      <th>Class</th>\n",
              "    </tr>\n",
              "  </thead>\n",
              "  <tbody>\n",
              "    <tr>\n",
              "      <th>0</th>\n",
              "      <td>M</td>\n",
              "      <td>KW</td>\n",
              "      <td>KuwaIT</td>\n",
              "      <td>lowerlevel</td>\n",
              "      <td>G-04</td>\n",
              "      <td>A</td>\n",
              "      <td>IT</td>\n",
              "      <td>F</td>\n",
              "      <td>Father</td>\n",
              "      <td>15</td>\n",
              "      <td>16</td>\n",
              "      <td>2</td>\n",
              "      <td>20</td>\n",
              "      <td>Yes</td>\n",
              "      <td>Good</td>\n",
              "      <td>Under-7</td>\n",
              "      <td>M</td>\n",
              "    </tr>\n",
              "    <tr>\n",
              "      <th>1</th>\n",
              "      <td>M</td>\n",
              "      <td>KW</td>\n",
              "      <td>KuwaIT</td>\n",
              "      <td>lowerlevel</td>\n",
              "      <td>G-04</td>\n",
              "      <td>A</td>\n",
              "      <td>IT</td>\n",
              "      <td>F</td>\n",
              "      <td>Father</td>\n",
              "      <td>20</td>\n",
              "      <td>20</td>\n",
              "      <td>3</td>\n",
              "      <td>25</td>\n",
              "      <td>Yes</td>\n",
              "      <td>Good</td>\n",
              "      <td>Under-7</td>\n",
              "      <td>M</td>\n",
              "    </tr>\n",
              "    <tr>\n",
              "      <th>2</th>\n",
              "      <td>M</td>\n",
              "      <td>KW</td>\n",
              "      <td>KuwaIT</td>\n",
              "      <td>lowerlevel</td>\n",
              "      <td>G-04</td>\n",
              "      <td>A</td>\n",
              "      <td>IT</td>\n",
              "      <td>F</td>\n",
              "      <td>Father</td>\n",
              "      <td>10</td>\n",
              "      <td>7</td>\n",
              "      <td>0</td>\n",
              "      <td>30</td>\n",
              "      <td>No</td>\n",
              "      <td>Bad</td>\n",
              "      <td>Above-7</td>\n",
              "      <td>L</td>\n",
              "    </tr>\n",
              "    <tr>\n",
              "      <th>3</th>\n",
              "      <td>M</td>\n",
              "      <td>KW</td>\n",
              "      <td>KuwaIT</td>\n",
              "      <td>lowerlevel</td>\n",
              "      <td>G-04</td>\n",
              "      <td>A</td>\n",
              "      <td>IT</td>\n",
              "      <td>F</td>\n",
              "      <td>Father</td>\n",
              "      <td>30</td>\n",
              "      <td>25</td>\n",
              "      <td>5</td>\n",
              "      <td>35</td>\n",
              "      <td>No</td>\n",
              "      <td>Bad</td>\n",
              "      <td>Above-7</td>\n",
              "      <td>L</td>\n",
              "    </tr>\n",
              "    <tr>\n",
              "      <th>4</th>\n",
              "      <td>M</td>\n",
              "      <td>KW</td>\n",
              "      <td>KuwaIT</td>\n",
              "      <td>lowerlevel</td>\n",
              "      <td>G-04</td>\n",
              "      <td>A</td>\n",
              "      <td>IT</td>\n",
              "      <td>F</td>\n",
              "      <td>Father</td>\n",
              "      <td>40</td>\n",
              "      <td>50</td>\n",
              "      <td>12</td>\n",
              "      <td>50</td>\n",
              "      <td>No</td>\n",
              "      <td>Bad</td>\n",
              "      <td>Above-7</td>\n",
              "      <td>M</td>\n",
              "    </tr>\n",
              "  </tbody>\n",
              "</table>\n",
              "</div>"
            ],
            "text/plain": [
              "  gender NationalITy  ... StudentAbsenceDays Class\n",
              "0      M          KW  ...            Under-7     M\n",
              "1      M          KW  ...            Under-7     M\n",
              "2      M          KW  ...            Above-7     L\n",
              "3      M          KW  ...            Above-7     L\n",
              "4      M          KW  ...            Above-7     M\n",
              "\n",
              "[5 rows x 17 columns]"
            ]
          },
          "metadata": {
            "tags": []
          },
          "execution_count": 8
        }
      ]
    },
    {
      "cell_type": "code",
      "metadata": {
        "id": "X6Kp_haWGgA2",
        "colab_type": "code",
        "outputId": "88ada40f-841e-4289-b2e8-f8b394b90caa",
        "colab": {
          "base_uri": "https://localhost:8080/",
          "height": 34
        }
      },
      "source": [
        "df.isnull().values.any()"
      ],
      "execution_count": 9,
      "outputs": [
        {
          "output_type": "execute_result",
          "data": {
            "text/plain": [
              "False"
            ]
          },
          "metadata": {
            "tags": []
          },
          "execution_count": 9
        }
      ]
    },
    {
      "cell_type": "code",
      "metadata": {
        "id": "4p9EY8QeGjNE",
        "colab_type": "code",
        "outputId": "74ac5ee1-2fcc-4f0a-d458-f2c64194d915",
        "colab": {
          "base_uri": "https://localhost:8080/",
          "height": 391
        }
      },
      "source": [
        "df.info()"
      ],
      "execution_count": 10,
      "outputs": [
        {
          "output_type": "stream",
          "text": [
            "<class 'pandas.core.frame.DataFrame'>\n",
            "RangeIndex: 480 entries, 0 to 479\n",
            "Data columns (total 17 columns):\n",
            "gender                      480 non-null object\n",
            "NationalITy                 480 non-null object\n",
            "PlaceofBirth                480 non-null object\n",
            "StageID                     480 non-null object\n",
            "GradeID                     480 non-null object\n",
            "SectionID                   480 non-null object\n",
            "Topic                       480 non-null object\n",
            "Semester                    480 non-null object\n",
            "Relation                    480 non-null object\n",
            "raisedhands                 480 non-null int64\n",
            "VisITedResources            480 non-null int64\n",
            "AnnouncementsView           480 non-null int64\n",
            "Discussion                  480 non-null int64\n",
            "ParentAnsweringSurvey       480 non-null object\n",
            "ParentschoolSatisfaction    480 non-null object\n",
            "StudentAbsenceDays          480 non-null object\n",
            "Class                       480 non-null object\n",
            "dtypes: int64(4), object(13)\n",
            "memory usage: 63.8+ KB\n"
          ],
          "name": "stdout"
        }
      ]
    },
    {
      "cell_type": "code",
      "metadata": {
        "id": "SRTZesZmJBpR",
        "colab_type": "code",
        "outputId": "e9587c88-6e1d-4c7d-d940-267ed7be0e9b",
        "colab": {
          "base_uri": "https://localhost:8080/",
          "height": 34
        }
      },
      "source": [
        "df.shape"
      ],
      "execution_count": 11,
      "outputs": [
        {
          "output_type": "execute_result",
          "data": {
            "text/plain": [
              "(480, 17)"
            ]
          },
          "metadata": {
            "tags": []
          },
          "execution_count": 11
        }
      ]
    },
    {
      "cell_type": "markdown",
      "metadata": {
        "id": "fUx9ofEAdms9",
        "colab_type": "text"
      },
      "source": [
        "# **2. Veri Görselleştirme**"
      ]
    },
    {
      "cell_type": "markdown",
      "metadata": {
        "id": "wUwv-msT6HGy",
        "colab_type": "text"
      },
      "source": [
        "#  2.1. İlgili Kütüphanelerin Yüklenmesi"
      ]
    },
    {
      "cell_type": "code",
      "metadata": {
        "id": "-L3vaBVvGqfT",
        "colab_type": "code",
        "colab": {}
      },
      "source": [
        "import pandas as pd\n",
        "import numpy as np\n",
        "import matplotlib.pyplot as plt\n",
        "import seaborn as sns\n",
        "import matplotlib.pyplot as plt\n"
      ],
      "execution_count": 0,
      "outputs": []
    },
    {
      "cell_type": "markdown",
      "metadata": {
        "id": "NS62Dpos6D9c",
        "colab_type": "text"
      },
      "source": [
        "# 2.2. Sınıflara Göre Öğrenci Sayısı"
      ]
    },
    {
      "cell_type": "code",
      "metadata": {
        "id": "EVI8LlW1y3de",
        "colab_type": "code",
        "outputId": "a8a80356-7c35-48d9-acf7-e6f7ce8dafd3",
        "colab": {
          "base_uri": "https://localhost:8080/",
          "height": 85
        }
      },
      "source": [
        "df['StageID'].value_counts()"
      ],
      "execution_count": 13,
      "outputs": [
        {
          "output_type": "execute_result",
          "data": {
            "text/plain": [
              "MiddleSchool    248\n",
              "lowerlevel      199\n",
              "HighSchool       33\n",
              "Name: StageID, dtype: int64"
            ]
          },
          "metadata": {
            "tags": []
          },
          "execution_count": 13
        }
      ]
    },
    {
      "cell_type": "markdown",
      "metadata": {
        "id": "W-1ECosm6c3J",
        "colab_type": "text"
      },
      "source": [
        "# 2.3. Eğitim Alan Öğrencilerin Cinsiyet Dağılımı"
      ]
    },
    {
      "cell_type": "code",
      "metadata": {
        "id": "K3iV1bxBHJ-E",
        "colab_type": "code",
        "outputId": "c4005a1c-804f-4190-d9d4-2ef5bff3ade6",
        "colab": {
          "base_uri": "https://localhost:8080/",
          "height": 446
        }
      },
      "source": [
        "\n",
        "fig= plt.subplots(figsize=(10,7))\n",
        "sns.countplot(x='gender',data=df,palette=\"pastel\" )\n",
        "plt.show()"
      ],
      "execution_count": 14,
      "outputs": [
        {
          "output_type": "display_data",
          "data": {
            "image/png": "[encoded data removed]",
            "text/plain": [
              "<Figure size 720x504 with 1 Axes>"
            ]
          },
          "metadata": {
            "tags": []
          }
        }
      ]
    },
    {
      "cell_type": "markdown",
      "metadata": {
        "id": "5UFM4eQq6he4",
        "colab_type": "text"
      },
      "source": [
        "# 2.4. Sınıflara Göre Cinsiyet Dağılımı"
      ]
    },
    {
      "cell_type": "code",
      "metadata": {
        "id": "6tv-U7T0FHJJ",
        "colab_type": "code",
        "outputId": "2fa1d8c1-bff1-4823-d7be-96c9680c5462",
        "colab": {
          "base_uri": "https://localhost:8080/",
          "height": 446
        }
      },
      "source": [
        "\n",
        "fig= plt.subplots(figsize=(15,7))\n",
        "sns.countplot(x='gender', hue='Class', data=df,hue_order = ['L', 'M', 'H'],palette=\"pastel\" )\n",
        "plt.show()"
      ],
      "execution_count": 15,
      "outputs": [
        {
          "output_type": "display_data",
          "data": {
            "image/png": "[encoded data removed]",
            "text/plain": [
              "<Figure size 1080x504 with 1 Axes>"
            ]
          },
          "metadata": {
            "tags": []
          }
        }
      ]
    },
    {
      "cell_type": "markdown",
      "metadata": {
        "id": "7RzC3cGj046h",
        "colab_type": "text"
      },
      "source": [
        "# 2.5. Genel Veli Dağılımı"
      ]
    },
    {
      "cell_type": "code",
      "metadata": {
        "id": "pFjWathfnKYF",
        "colab_type": "code",
        "outputId": "dbdbc6c4-ca56-4309-9eac-d45998ab2e1a",
        "colab": {
          "base_uri": "https://localhost:8080/",
          "height": 446
        }
      },
      "source": [
        "\n",
        "\n",
        "f=plt.figure(figsize=(10,7))\n",
        "sns.countplot(x=\"Relation\", data=df, palette=\"pastel\");\n",
        "plt.show()"
      ],
      "execution_count": 87,
      "outputs": [
        {
          "output_type": "display_data",
          "data": {
            "image/png": "[encoded data removed]",
            "text/plain": [
              "<Figure size 720x504 with 1 Axes>"
            ]
          },
          "metadata": {
            "tags": []
          }
        }
      ]
    },
    {
      "cell_type": "markdown",
      "metadata": {
        "id": "ZK6wBqUd1gtF",
        "colab_type": "text"
      },
      "source": [
        "# 2.6. Sınıflara Göre Veli Dağılımı"
      ]
    },
    {
      "cell_type": "code",
      "metadata": {
        "id": "GH9iI8Sm1nNs",
        "colab_type": "code",
        "outputId": "bfced0d6-cff8-4fae-dcc9-c6d13449a347",
        "colab": {
          "base_uri": "https://localhost:8080/",
          "height": 446
        }
      },
      "source": [
        "\n",
        "fig= plt.subplots(figsize=(15,7))\n",
        "sns.countplot(x='Relation', hue='Class', data=df,hue_order = ['L', 'M', 'H'],palette=\"pastel\" )\n",
        "plt.show()"
      ],
      "execution_count": 88,
      "outputs": [
        {
          "output_type": "display_data",
          "data": {
            "image/png": "[encoded data removed]",
            "text/plain": [
              "<Figure size 1080x504 with 1 Axes>"
            ]
          },
          "metadata": {
            "tags": []
          }
        }
      ]
    },
    {
      "cell_type": "markdown",
      "metadata": {
        "id": "8cxQe9dv1obw",
        "colab_type": "text"
      },
      "source": [
        "# 2.7. Anketi Cevaplayan Veliler"
      ]
    },
    {
      "cell_type": "code",
      "metadata": {
        "id": "At9NKMGYAN1a",
        "colab_type": "code",
        "outputId": "a1d9c415-4fd0-43d5-ef11-345bc7e8b460",
        "colab": {
          "base_uri": "https://localhost:8080/",
          "height": 520
        }
      },
      "source": [
        "\n",
        "\n",
        "from matplotlib.pyplot import pie\n",
        "plt.figure(figsize = (7,7))\n",
        "colors=[\"wheat\",\"aquamarine\"]\n",
        "count = df.ParentAnsweringSurvey.groupby(df.ParentAnsweringSurvey).count()\n",
        "Answer = count.keys()\n",
        "pie(count,labels=Answer, colors=colors, autopct='%1.1f%%')"
      ],
      "execution_count": 89,
      "outputs": [
        {
          "output_type": "execute_result",
          "data": {
            "text/plain": [
              "([<matplotlib.patches.Wedge at 0x7fc72fbc4e80>,\n",
              "  <matplotlib.patches.Wedge at 0x7fc72fbcd630>],\n",
              " [Text(0.21459935421774118, 1.0788638084435536, 'No'),\n",
              "  Text(-0.21459935421774154, -1.0788638084435533, 'Yes')],\n",
              " [Text(0.117054193209677, 0.5884711682419382, '43.8%'),\n",
              "  Text(-0.1170541932096772, -0.5884711682419381, '56.2%')])"
            ]
          },
          "metadata": {
            "tags": []
          },
          "execution_count": 89
        },
        {
          "output_type": "display_data",
          "data": {
            "image/png": "[encoded data removed]",
            "text/plain": [
              "<Figure size 504x504 with 1 Axes>"
            ]
          },
          "metadata": {
            "tags": []
          }
        }
      ]
    },
    {
      "cell_type": "markdown",
      "metadata": {
        "id": "-7STmlGR14tl",
        "colab_type": "text"
      },
      "source": [
        "# 2.8. Ebeveyn okul memnuniyeti"
      ]
    },
    {
      "cell_type": "code",
      "metadata": {
        "id": "fg2Th3Bk95VS",
        "colab_type": "code",
        "outputId": "3678d757-ae8d-42e3-fafe-c3caa50ab99f",
        "colab": {
          "base_uri": "https://localhost:8080/",
          "height": 520
        }
      },
      "source": [
        "\n",
        "from matplotlib.pyplot import pie\n",
        "plt.figure(figsize = (7,7))\n",
        "colors=[\"wheat\",\"aquamarine\"]\n",
        "count = df.ParentschoolSatisfaction.groupby(df.ParentschoolSatisfaction).count()\n",
        "Satisfaction = count.keys()\n",
        "pie(count,labels=Satisfaction, colors=colors, autopct='%1.1f%%')\n"
      ],
      "execution_count": 90,
      "outputs": [
        {
          "output_type": "execute_result",
          "data": {
            "text/plain": [
              "([<matplotlib.patches.Wedge at 0x7fc72fc561d0>,\n",
              "  <matplotlib.patches.Wedge at 0x7fc72fcc3208>],\n",
              " [Text(0.367187499852162, 1.0369056562447323, 'Bad'),\n",
              "  Text(-0.3671874027700463, -1.0369056906233025, 'Good')],\n",
              " [Text(0.20028409082845197, 0.5655849034062175, '39.2%'),\n",
              "  Text(-0.2002840378745707, -0.5655849221581649, '60.8%')])"
            ]
          },
          "metadata": {
            "tags": []
          },
          "execution_count": 90
        },
        {
          "output_type": "display_data",
          "data": {
            "image/png": "[encoded data removed]",
            "text/plain": [
              "<Figure size 504x504 with 1 Axes>"
            ]
          },
          "metadata": {
            "tags": []
          }
        }
      ]
    },
    {
      "cell_type": "markdown",
      "metadata": {
        "id": "YMEDI8Nv2DC1",
        "colab_type": "text"
      },
      "source": [
        "# 2.9. Vatandaşı Oldukları Ülkeye Göre Öğrenci Yüzdesi"
      ]
    },
    {
      "cell_type": "code",
      "metadata": {
        "id": "p1K-QNIp8Ivy",
        "colab_type": "code",
        "outputId": "e7103c83-0392-4a18-9dd5-256e51cd692f",
        "colab": {
          "base_uri": "https://localhost:8080/",
          "height": 1000
        }
      },
      "source": [
        "from matplotlib.pyplot import pie\n",
        "group_by_sum_of_nationalities = df.NationalITy.groupby(df.NationalITy).count()\n",
        "group_by_sum_of_nationalities_header = group_by_sum_of_nationalities.keys()\n",
        "plt.figure(figsize = (15,12))\n",
        "colors=['#c2c2f0','#ffb3e6',\"wheat\",\"aquamarine\",'#ff9999','#66b3ff','#99ff99','#ffcc99','#ff9999']\n",
        "#print(group_by_sum_of_nationalities_header)\n",
        "pie(group_by_sum_of_nationalities,labels=group_by_sum_of_nationalities_header, colors=colors, autopct='%1.1f%%')"
      ],
      "execution_count": 91,
      "outputs": [
        {
          "output_type": "execute_result",
          "data": {
            "text/plain": [
              "([<matplotlib.patches.Wedge at 0x7fc72fd16518>,\n",
              "  <matplotlib.patches.Wedge at 0x7fc738239748>,\n",
              "  <matplotlib.patches.Wedge at 0x7fc744ce26a0>,\n",
              "  <matplotlib.patches.Wedge at 0x7fc73831fb38>,\n",
              "  <matplotlib.patches.Wedge at 0x7fc73831fda0>,\n",
              "  <matplotlib.patches.Wedge at 0x7fc73ab9e5c0>,\n",
              "  <matplotlib.patches.Wedge at 0x7fc738282e10>,\n",
              "  <matplotlib.patches.Wedge at 0x7fc73ab6bf60>,\n",
              "  <matplotlib.patches.Wedge at 0x7fc7366010b8>,\n",
              "  <matplotlib.patches.Wedge at 0x7fc72fd3ff60>,\n",
              "  <matplotlib.patches.Wedge at 0x7fc73ab7e358>,\n",
              "  <matplotlib.patches.Wedge at 0x7fc73ab734e0>,\n",
              "  <matplotlib.patches.Wedge at 0x7fc73ab73198>,\n",
              "  <matplotlib.patches.Wedge at 0x7fc738302f98>],\n",
              " [Text(1.0980921710516107, 0.06475788658657816, 'Egypt'),\n",
              "  Text(1.0864571737484023, 0.17207791726608623, 'Iran'),\n",
              "  Text(1.0369056369067826, 0.3671875544608505, 'Iraq'),\n",
              "  Text(-0.043185762602839704, 1.0991519412294242, 'Jordan'),\n",
              "  Text(-0.7929390090164562, -0.7623960440479742, 'KW'),\n",
              "  Text(0.4342181791359733, -1.0106703581820533, 'Lybia'),\n",
              "  Text(0.49938949064026056, -0.9801072067065221, 'Morocco'),\n",
              "  Text(0.6922523804646723, -0.8548605978409549, 'Palestine'),\n",
              "  Text(0.885667877025822, -0.6523744412563798, 'SaudiArabia'),\n",
              "  Text(0.9562072269604245, -0.5437533807790581, 'Syria'),\n",
              "  Text(1.0162674635929674, -0.4209518291233769, 'Tunis'),\n",
              "  Text(1.0587007448982086, -0.2985845487495601, 'USA'),\n",
              "  Text(1.0915056963439576, -0.13643795237650158, 'lebanon'),\n",
              "  Text(1.099976439459457, -0.007199488460701627, 'venzuela')],\n",
              " [Text(0.5989593660281513, 0.035322483592679, '1.9%'),\n",
              "  Text(0.5926130038627648, 0.09386068214513793, '1.3%'),\n",
              "  Text(0.565584892858245, 0.20028412061500933, '4.6%'),\n",
              "  Text(-0.02355587051063984, 0.5995374224887767, '35.8%'),\n",
              "  Text(-0.4325121867362488, -0.41585238766253135, '37.3%'),\n",
              "  Text(0.2368462795287127, -0.5512747408265745, '1.3%'),\n",
              "  Text(0.2723942676219603, -0.5346039309308301, '0.8%'),\n",
              "  Text(0.37759220752618483, -0.466287598822339, '5.8%'),\n",
              "  Text(0.4830915692868119, -0.3558406043216617, '2.3%'),\n",
              "  Text(0.5215675783420497, -0.29659275315221345, '1.5%'),\n",
              "  Text(0.5543277074143458, -0.229610088612751, '2.5%'),\n",
              "  Text(0.577473133580841, -0.16286429931794183, '1.3%'),\n",
              "  Text(0.5953667434603405, -0.07442070129627358, '3.5%'),\n",
              "  Text(0.5999871487960674, -0.00392699370583725, '0.2%')])"
            ]
          },
          "metadata": {
            "tags": []
          },
          "execution_count": 91
        },
        {
          "output_type": "display_data",
          "data": {
            "image/png": "[encoded data removed]",
            "text/plain": [
              "<Figure size 1080x864 with 1 Axes>"
            ]
          },
          "metadata": {
            "tags": []
          }
        }
      ]
    },
    {
      "cell_type": "markdown",
      "metadata": {
        "id": "-6wQKi2f2Hgf",
        "colab_type": "text"
      },
      "source": [
        "# 2.10. İki dönem boyunca öğrencilerin toplam el kaldırma adedi"
      ]
    },
    {
      "cell_type": "code",
      "metadata": {
        "id": "kjefcqNVQec5",
        "colab_type": "code",
        "outputId": "8fa3c603-507f-4508-975e-404d9d707617",
        "colab": {
          "base_uri": "https://localhost:8080/",
          "height": 51
        }
      },
      "source": [
        "\n",
        "pd.DataFrame(df['raisedhands'].loc[0:481]).astype(int).sum()"
      ],
      "execution_count": 92,
      "outputs": [
        {
          "output_type": "execute_result",
          "data": {
            "text/plain": [
              "raisedhands    22452\n",
              "dtype: int64"
            ]
          },
          "metadata": {
            "tags": []
          },
          "execution_count": 92
        }
      ]
    },
    {
      "cell_type": "markdown",
      "metadata": {
        "id": "0CZ2mK5c2RKY",
        "colab_type": "text"
      },
      "source": [
        "# 2.11. Kadın- Erkek Öğrencilerin Aldığı Derslerin Dağılımı ve Kadın-Erkek Öğrencilerin Ülkelerine Göre Dağılımları"
      ]
    },
    {
      "cell_type": "code",
      "metadata": {
        "id": "afRl3yOBhIYB",
        "colab_type": "code",
        "outputId": "bd8c796e-583b-49cf-b9fe-db1cea90a835",
        "colab": {
          "base_uri": "https://localhost:8080/",
          "height": 898
        }
      },
      "source": [
        "\n",
        "fig, (axis1, axis2)  = plt.subplots(2, 1,figsize=(20,15))\n",
        "sns.countplot(x='Topic', hue='gender', data=df, ax=axis1, palette=\"pastel\")\n",
        "sns.countplot(x='NationalITy', hue='gender', data=df, ax=axis2, palette=\"pastel\")"
      ],
      "execution_count": 93,
      "outputs": [
        {
          "output_type": "execute_result",
          "data": {
            "text/plain": [
              "<matplotlib.axes._subplots.AxesSubplot at 0x7fc73abc9eb8>"
            ]
          },
          "metadata": {
            "tags": []
          },
          "execution_count": 93
        },
        {
          "output_type": "display_data",
          "data": {
            "image/png": "[encoded data removed]",
            "text/plain": [
              "<Figure size 1440x1080 with 2 Axes>"
            ]
          },
          "metadata": {
            "tags": []
          }
        }
      ]
    },
    {
      "cell_type": "markdown",
      "metadata": {
        "id": "Ft88yJEU2Z4G",
        "colab_type": "text"
      },
      "source": [
        "# 2.12. Sınıf Seviyesine Göre Dağılımlar"
      ]
    },
    {
      "cell_type": "code",
      "metadata": {
        "id": "18iUhqv13O_c",
        "colab_type": "code",
        "colab": {
          "base_uri": "https://localhost:8080/",
          "height": 446
        },
        "outputId": "0d366f39-b6f5-4bbe-98b5-cf024514cc78"
      },
      "source": [
        "f=plt.figure(figsize=(15,7))\n",
        "sns.countplot(x='GradeID', hue='Class', data=df, order=['G-02', 'G-04', 'G-05', 'G-06', 'G-07', 'G-08', 'G-09', 'G-10', 'G-11', 'G-12'], hue_order = ['L', 'M', 'H'], palette=\"pastel\")\n",
        "plt.show()"
      ],
      "execution_count": 16,
      "outputs": [
        {
          "output_type": "display_data",
          "data": {
            "image/png": "[encoded data removed]",
            "text/plain": [
              "<Figure size 1080x504 with 1 Axes>"
            ]
          },
          "metadata": {
            "tags": []
          }
        }
      ]
    },
    {
      "cell_type": "markdown",
      "metadata": {
        "id": "PtQ-6vS63Q2P",
        "colab_type": "text"
      },
      "source": [
        "  2.13. Sınıfa Göre Takip Edilen Kaynaklar- Sınıfa Göre Duyuru Takibi- Sınıfa Göre El Kaldırma- Sınıfa Göre Tartışmalara Katılım"
      ]
    },
    {
      "cell_type": "code",
      "metadata": {
        "id": "rPfZkE5Vxu57",
        "colab_type": "code",
        "outputId": "db3f6952-4e9a-4d7c-c62d-4e694bca7102",
        "colab": {
          "base_uri": "https://localhost:8080/",
          "height": 626
        }
      },
      "source": [
        "fig, axarr  = plt.subplots(2,2,figsize=(15,10))\n",
        "sns.barplot(x='Class', y='VisITedResources', data=df, order=['L','M','H'], ax=axarr[0,0],palette=\"pastel\")\n",
        "sns.barplot(x='Class', y='AnnouncementsView', data=df, order=['L','M','H'], ax=axarr[0,1],palette=\"pastel\")\n",
        "sns.barplot(x='Class', y='raisedhands', data=df, order=['L','M','H'], ax=axarr[1,0],palette=\"pastel\")\n",
        "sns.barplot(x='Class', y='Discussion', data=df, order=['L','M','H'], ax=axarr[1,1],palette=\"pastel\")"
      ],
      "execution_count": 95,
      "outputs": [
        {
          "output_type": "execute_result",
          "data": {
            "text/plain": [
              "<matplotlib.axes._subplots.AxesSubplot at 0x7fc72f9abe10>"
            ]
          },
          "metadata": {
            "tags": []
          },
          "execution_count": 95
        },
        {
          "output_type": "display_data",
          "data": {
            "image/png": "[encoded data removed]",
            "text/plain": [
              "<Figure size 1080x720 with 4 Axes>"
            ]
          },
          "metadata": {
            "tags": []
          }
        }
      ]
    },
    {
      "cell_type": "markdown",
      "metadata": {
        "id": "Vci_-Zjl3XiZ",
        "colab_type": "text"
      },
      "source": [
        "# 2.14. Sayısal Özellikler Arasındaki İlişkiler"
      ]
    },
    {
      "cell_type": "code",
      "metadata": {
        "id": "5QbHUXTg0mLV",
        "colab_type": "code",
        "outputId": "f812d255-a775-469a-9f56-f7f462a202a3",
        "colab": {
          "base_uri": "https://localhost:8080/",
          "height": 463
        }
      },
      "source": [
        "fig, (axis1, axis2)  = plt.subplots(1, 2,figsize=(15,7))\n",
        "sns.regplot(x='raisedhands', y='VisITedResources', data=df, ax=axis1)\n",
        "sns.regplot(x='AnnouncementsView', y='Discussion', data=df, ax=axis2)"
      ],
      "execution_count": 96,
      "outputs": [
        {
          "output_type": "execute_result",
          "data": {
            "text/plain": [
              "<matplotlib.axes._subplots.AxesSubplot at 0x7fc72f8bd0f0>"
            ]
          },
          "metadata": {
            "tags": []
          },
          "execution_count": 96
        },
        {
          "output_type": "display_data",
          "data": {
            "image/png": "[encoded data removed]",
            "text/plain": [
              "<Figure size 1080x504 with 2 Axes>"
            ]
          },
          "metadata": {
            "tags": []
          }
        }
      ]
    },
    {
      "cell_type": "markdown",
      "metadata": {
        "id": "nHHsGRbrefvI",
        "colab_type": "text"
      },
      "source": [
        "# **3. Model Seçimi & Uygulanması**\n",
        "\n",
        "\n",
        "\n"
      ]
    },
    {
      "cell_type": "markdown",
      "metadata": {
        "id": "PaJzFVyS3soH",
        "colab_type": "text"
      },
      "source": [
        "#  3.1. İstatiksel Normalleştirme"
      ]
    },
    {
      "cell_type": "code",
      "metadata": {
        "id": "Q2rSEj2pqVJo",
        "colab_type": "code",
        "colab": {}
      },
      "source": [
        "df_selected = df.drop(['NationalITy','StageID','SectionID','PlaceofBirth', 'GradeID', \"Topic\", 'Semester', \"Relation\", 'ParentAnsweringSurvey', \"ParentschoolSatisfaction\", 'StudentAbsenceDays', \"Class\"], \n",
        "                        axis = 1)"
      ],
      "execution_count": 0,
      "outputs": []
    },
    {
      "cell_type": "code",
      "metadata": {
        "id": "sL4QfdtgqzsH",
        "colab_type": "code",
        "outputId": "2570bb23-48c7-4844-ae4e-ca01bbf4eb99",
        "colab": {
          "base_uri": "https://localhost:8080/",
          "height": 1000
        }
      },
      "source": [
        "df_selected"
      ],
      "execution_count": 98,
      "outputs": [
        {
          "output_type": "execute_result",
          "data": {
            "text/html": [
              "<div>\n",
              "<style scoped>\n",
              "    .dataframe tbody tr th:only-of-type {\n",
              "        vertical-align: middle;\n",
              "    }\n",
              "\n",
              "    .dataframe tbody tr th {\n",
              "        vertical-align: top;\n",
              "    }\n",
              "\n",
              "    .dataframe thead th {\n",
              "        text-align: right;\n",
              "    }\n",
              "</style>\n",
              "<table border=\"1\" class=\"dataframe\">\n",
              "  <thead>\n",
              "    <tr style=\"text-align: right;\">\n",
              "      <th></th>\n",
              "      <th>gender</th>\n",
              "      <th>raisedhands</th>\n",
              "      <th>VisITedResources</th>\n",
              "      <th>AnnouncementsView</th>\n",
              "      <th>Discussion</th>\n",
              "    </tr>\n",
              "  </thead>\n",
              "  <tbody>\n",
              "    <tr>\n",
              "      <th>0</th>\n",
              "      <td>M</td>\n",
              "      <td>15</td>\n",
              "      <td>16</td>\n",
              "      <td>2</td>\n",
              "      <td>20</td>\n",
              "    </tr>\n",
              "    <tr>\n",
              "      <th>1</th>\n",
              "      <td>M</td>\n",
              "      <td>20</td>\n",
              "      <td>20</td>\n",
              "      <td>3</td>\n",
              "      <td>25</td>\n",
              "    </tr>\n",
              "    <tr>\n",
              "      <th>2</th>\n",
              "      <td>M</td>\n",
              "      <td>10</td>\n",
              "      <td>7</td>\n",
              "      <td>0</td>\n",
              "      <td>30</td>\n",
              "    </tr>\n",
              "    <tr>\n",
              "      <th>3</th>\n",
              "      <td>M</td>\n",
              "      <td>30</td>\n",
              "      <td>25</td>\n",
              "      <td>5</td>\n",
              "      <td>35</td>\n",
              "    </tr>\n",
              "    <tr>\n",
              "      <th>4</th>\n",
              "      <td>M</td>\n",
              "      <td>40</td>\n",
              "      <td>50</td>\n",
              "      <td>12</td>\n",
              "      <td>50</td>\n",
              "    </tr>\n",
              "    <tr>\n",
              "      <th>5</th>\n",
              "      <td>F</td>\n",
              "      <td>42</td>\n",
              "      <td>30</td>\n",
              "      <td>13</td>\n",
              "      <td>70</td>\n",
              "    </tr>\n",
              "    <tr>\n",
              "      <th>6</th>\n",
              "      <td>M</td>\n",
              "      <td>35</td>\n",
              "      <td>12</td>\n",
              "      <td>0</td>\n",
              "      <td>17</td>\n",
              "    </tr>\n",
              "    <tr>\n",
              "      <th>7</th>\n",
              "      <td>M</td>\n",
              "      <td>50</td>\n",
              "      <td>10</td>\n",
              "      <td>15</td>\n",
              "      <td>22</td>\n",
              "    </tr>\n",
              "    <tr>\n",
              "      <th>8</th>\n",
              "      <td>F</td>\n",
              "      <td>12</td>\n",
              "      <td>21</td>\n",
              "      <td>16</td>\n",
              "      <td>50</td>\n",
              "    </tr>\n",
              "    <tr>\n",
              "      <th>9</th>\n",
              "      <td>F</td>\n",
              "      <td>70</td>\n",
              "      <td>80</td>\n",
              "      <td>25</td>\n",
              "      <td>70</td>\n",
              "    </tr>\n",
              "    <tr>\n",
              "      <th>10</th>\n",
              "      <td>M</td>\n",
              "      <td>50</td>\n",
              "      <td>88</td>\n",
              "      <td>30</td>\n",
              "      <td>80</td>\n",
              "    </tr>\n",
              "    <tr>\n",
              "      <th>11</th>\n",
              "      <td>M</td>\n",
              "      <td>19</td>\n",
              "      <td>6</td>\n",
              "      <td>19</td>\n",
              "      <td>12</td>\n",
              "    </tr>\n",
              "    <tr>\n",
              "      <th>12</th>\n",
              "      <td>M</td>\n",
              "      <td>5</td>\n",
              "      <td>1</td>\n",
              "      <td>0</td>\n",
              "      <td>11</td>\n",
              "    </tr>\n",
              "    <tr>\n",
              "      <th>13</th>\n",
              "      <td>M</td>\n",
              "      <td>20</td>\n",
              "      <td>14</td>\n",
              "      <td>12</td>\n",
              "      <td>19</td>\n",
              "    </tr>\n",
              "    <tr>\n",
              "      <th>14</th>\n",
              "      <td>F</td>\n",
              "      <td>62</td>\n",
              "      <td>70</td>\n",
              "      <td>44</td>\n",
              "      <td>60</td>\n",
              "    </tr>\n",
              "    <tr>\n",
              "      <th>15</th>\n",
              "      <td>F</td>\n",
              "      <td>30</td>\n",
              "      <td>40</td>\n",
              "      <td>22</td>\n",
              "      <td>66</td>\n",
              "    </tr>\n",
              "    <tr>\n",
              "      <th>16</th>\n",
              "      <td>M</td>\n",
              "      <td>36</td>\n",
              "      <td>30</td>\n",
              "      <td>20</td>\n",
              "      <td>80</td>\n",
              "    </tr>\n",
              "    <tr>\n",
              "      <th>17</th>\n",
              "      <td>M</td>\n",
              "      <td>55</td>\n",
              "      <td>13</td>\n",
              "      <td>35</td>\n",
              "      <td>90</td>\n",
              "    </tr>\n",
              "    <tr>\n",
              "      <th>18</th>\n",
              "      <td>F</td>\n",
              "      <td>69</td>\n",
              "      <td>15</td>\n",
              "      <td>36</td>\n",
              "      <td>96</td>\n",
              "    </tr>\n",
              "    <tr>\n",
              "      <th>19</th>\n",
              "      <td>M</td>\n",
              "      <td>70</td>\n",
              "      <td>50</td>\n",
              "      <td>40</td>\n",
              "      <td>99</td>\n",
              "    </tr>\n",
              "    <tr>\n",
              "      <th>20</th>\n",
              "      <td>F</td>\n",
              "      <td>60</td>\n",
              "      <td>60</td>\n",
              "      <td>33</td>\n",
              "      <td>90</td>\n",
              "    </tr>\n",
              "    <tr>\n",
              "      <th>21</th>\n",
              "      <td>F</td>\n",
              "      <td>10</td>\n",
              "      <td>12</td>\n",
              "      <td>4</td>\n",
              "      <td>80</td>\n",
              "    </tr>\n",
              "    <tr>\n",
              "      <th>22</th>\n",
              "      <td>M</td>\n",
              "      <td>15</td>\n",
              "      <td>21</td>\n",
              "      <td>2</td>\n",
              "      <td>90</td>\n",
              "    </tr>\n",
              "    <tr>\n",
              "      <th>23</th>\n",
              "      <td>M</td>\n",
              "      <td>2</td>\n",
              "      <td>0</td>\n",
              "      <td>2</td>\n",
              "      <td>50</td>\n",
              "    </tr>\n",
              "    <tr>\n",
              "      <th>24</th>\n",
              "      <td>M</td>\n",
              "      <td>0</td>\n",
              "      <td>2</td>\n",
              "      <td>3</td>\n",
              "      <td>70</td>\n",
              "    </tr>\n",
              "    <tr>\n",
              "      <th>25</th>\n",
              "      <td>M</td>\n",
              "      <td>8</td>\n",
              "      <td>7</td>\n",
              "      <td>30</td>\n",
              "      <td>40</td>\n",
              "    </tr>\n",
              "    <tr>\n",
              "      <th>26</th>\n",
              "      <td>M</td>\n",
              "      <td>19</td>\n",
              "      <td>19</td>\n",
              "      <td>25</td>\n",
              "      <td>40</td>\n",
              "    </tr>\n",
              "    <tr>\n",
              "      <th>27</th>\n",
              "      <td>M</td>\n",
              "      <td>25</td>\n",
              "      <td>15</td>\n",
              "      <td>12</td>\n",
              "      <td>33</td>\n",
              "    </tr>\n",
              "    <tr>\n",
              "      <th>28</th>\n",
              "      <td>M</td>\n",
              "      <td>75</td>\n",
              "      <td>85</td>\n",
              "      <td>52</td>\n",
              "      <td>43</td>\n",
              "    </tr>\n",
              "    <tr>\n",
              "      <th>29</th>\n",
              "      <td>F</td>\n",
              "      <td>30</td>\n",
              "      <td>90</td>\n",
              "      <td>33</td>\n",
              "      <td>35</td>\n",
              "    </tr>\n",
              "    <tr>\n",
              "      <th>...</th>\n",
              "      <td>...</td>\n",
              "      <td>...</td>\n",
              "      <td>...</td>\n",
              "      <td>...</td>\n",
              "      <td>...</td>\n",
              "    </tr>\n",
              "    <tr>\n",
              "      <th>450</th>\n",
              "      <td>F</td>\n",
              "      <td>15</td>\n",
              "      <td>97</td>\n",
              "      <td>22</td>\n",
              "      <td>10</td>\n",
              "    </tr>\n",
              "    <tr>\n",
              "      <th>451</th>\n",
              "      <td>F</td>\n",
              "      <td>19</td>\n",
              "      <td>98</td>\n",
              "      <td>20</td>\n",
              "      <td>2</td>\n",
              "    </tr>\n",
              "    <tr>\n",
              "      <th>452</th>\n",
              "      <td>F</td>\n",
              "      <td>25</td>\n",
              "      <td>82</td>\n",
              "      <td>52</td>\n",
              "      <td>20</td>\n",
              "    </tr>\n",
              "    <tr>\n",
              "      <th>453</th>\n",
              "      <td>F</td>\n",
              "      <td>29</td>\n",
              "      <td>78</td>\n",
              "      <td>40</td>\n",
              "      <td>12</td>\n",
              "    </tr>\n",
              "    <tr>\n",
              "      <th>454</th>\n",
              "      <td>F</td>\n",
              "      <td>45</td>\n",
              "      <td>87</td>\n",
              "      <td>57</td>\n",
              "      <td>80</td>\n",
              "    </tr>\n",
              "    <tr>\n",
              "      <th>455</th>\n",
              "      <td>F</td>\n",
              "      <td>39</td>\n",
              "      <td>88</td>\n",
              "      <td>43</td>\n",
              "      <td>72</td>\n",
              "    </tr>\n",
              "    <tr>\n",
              "      <th>456</th>\n",
              "      <td>F</td>\n",
              "      <td>85</td>\n",
              "      <td>90</td>\n",
              "      <td>52</td>\n",
              "      <td>30</td>\n",
              "    </tr>\n",
              "    <tr>\n",
              "      <th>457</th>\n",
              "      <td>F</td>\n",
              "      <td>79</td>\n",
              "      <td>91</td>\n",
              "      <td>49</td>\n",
              "      <td>22</td>\n",
              "    </tr>\n",
              "    <tr>\n",
              "      <th>458</th>\n",
              "      <td>M</td>\n",
              "      <td>90</td>\n",
              "      <td>91</td>\n",
              "      <td>80</td>\n",
              "      <td>81</td>\n",
              "    </tr>\n",
              "    <tr>\n",
              "      <th>459</th>\n",
              "      <td>M</td>\n",
              "      <td>80</td>\n",
              "      <td>90</td>\n",
              "      <td>80</td>\n",
              "      <td>83</td>\n",
              "    </tr>\n",
              "    <tr>\n",
              "      <th>460</th>\n",
              "      <td>M</td>\n",
              "      <td>80</td>\n",
              "      <td>83</td>\n",
              "      <td>82</td>\n",
              "      <td>71</td>\n",
              "    </tr>\n",
              "    <tr>\n",
              "      <th>461</th>\n",
              "      <td>M</td>\n",
              "      <td>71</td>\n",
              "      <td>81</td>\n",
              "      <td>83</td>\n",
              "      <td>72</td>\n",
              "    </tr>\n",
              "    <tr>\n",
              "      <th>462</th>\n",
              "      <td>M</td>\n",
              "      <td>72</td>\n",
              "      <td>87</td>\n",
              "      <td>72</td>\n",
              "      <td>89</td>\n",
              "    </tr>\n",
              "    <tr>\n",
              "      <th>463</th>\n",
              "      <td>M</td>\n",
              "      <td>69</td>\n",
              "      <td>77</td>\n",
              "      <td>83</td>\n",
              "      <td>92</td>\n",
              "    </tr>\n",
              "    <tr>\n",
              "      <th>464</th>\n",
              "      <td>F</td>\n",
              "      <td>85</td>\n",
              "      <td>99</td>\n",
              "      <td>42</td>\n",
              "      <td>90</td>\n",
              "    </tr>\n",
              "    <tr>\n",
              "      <th>465</th>\n",
              "      <td>F</td>\n",
              "      <td>89</td>\n",
              "      <td>96</td>\n",
              "      <td>45</td>\n",
              "      <td>92</td>\n",
              "    </tr>\n",
              "    <tr>\n",
              "      <th>466</th>\n",
              "      <td>F</td>\n",
              "      <td>80</td>\n",
              "      <td>82</td>\n",
              "      <td>64</td>\n",
              "      <td>58</td>\n",
              "    </tr>\n",
              "    <tr>\n",
              "      <th>467</th>\n",
              "      <td>F</td>\n",
              "      <td>87</td>\n",
              "      <td>93</td>\n",
              "      <td>63</td>\n",
              "      <td>60</td>\n",
              "    </tr>\n",
              "    <tr>\n",
              "      <th>468</th>\n",
              "      <td>F</td>\n",
              "      <td>15</td>\n",
              "      <td>9</td>\n",
              "      <td>14</td>\n",
              "      <td>80</td>\n",
              "    </tr>\n",
              "    <tr>\n",
              "      <th>469</th>\n",
              "      <td>F</td>\n",
              "      <td>9</td>\n",
              "      <td>6</td>\n",
              "      <td>15</td>\n",
              "      <td>85</td>\n",
              "    </tr>\n",
              "    <tr>\n",
              "      <th>470</th>\n",
              "      <td>M</td>\n",
              "      <td>81</td>\n",
              "      <td>86</td>\n",
              "      <td>86</td>\n",
              "      <td>41</td>\n",
              "    </tr>\n",
              "    <tr>\n",
              "      <th>471</th>\n",
              "      <td>M</td>\n",
              "      <td>78</td>\n",
              "      <td>82</td>\n",
              "      <td>78</td>\n",
              "      <td>53</td>\n",
              "    </tr>\n",
              "    <tr>\n",
              "      <th>472</th>\n",
              "      <td>M</td>\n",
              "      <td>80</td>\n",
              "      <td>87</td>\n",
              "      <td>74</td>\n",
              "      <td>68</td>\n",
              "    </tr>\n",
              "    <tr>\n",
              "      <th>473</th>\n",
              "      <td>M</td>\n",
              "      <td>85</td>\n",
              "      <td>88</td>\n",
              "      <td>79</td>\n",
              "      <td>70</td>\n",
              "    </tr>\n",
              "    <tr>\n",
              "      <th>474</th>\n",
              "      <td>F</td>\n",
              "      <td>2</td>\n",
              "      <td>7</td>\n",
              "      <td>4</td>\n",
              "      <td>8</td>\n",
              "    </tr>\n",
              "    <tr>\n",
              "      <th>475</th>\n",
              "      <td>F</td>\n",
              "      <td>5</td>\n",
              "      <td>4</td>\n",
              "      <td>5</td>\n",
              "      <td>8</td>\n",
              "    </tr>\n",
              "    <tr>\n",
              "      <th>476</th>\n",
              "      <td>F</td>\n",
              "      <td>50</td>\n",
              "      <td>77</td>\n",
              "      <td>14</td>\n",
              "      <td>28</td>\n",
              "    </tr>\n",
              "    <tr>\n",
              "      <th>477</th>\n",
              "      <td>F</td>\n",
              "      <td>55</td>\n",
              "      <td>74</td>\n",
              "      <td>25</td>\n",
              "      <td>29</td>\n",
              "    </tr>\n",
              "    <tr>\n",
              "      <th>478</th>\n",
              "      <td>F</td>\n",
              "      <td>30</td>\n",
              "      <td>17</td>\n",
              "      <td>14</td>\n",
              "      <td>57</td>\n",
              "    </tr>\n",
              "    <tr>\n",
              "      <th>479</th>\n",
              "      <td>F</td>\n",
              "      <td>35</td>\n",
              "      <td>14</td>\n",
              "      <td>23</td>\n",
              "      <td>62</td>\n",
              "    </tr>\n",
              "  </tbody>\n",
              "</table>\n",
              "<p>480 rows × 5 columns</p>\n",
              "</div>"
            ],
            "text/plain": [
              "    gender  raisedhands  VisITedResources  AnnouncementsView  Discussion\n",
              "0        M           15                16                  2          20\n",
              "1        M           20                20                  3          25\n",
              "2        M           10                 7                  0          30\n",
              "3        M           30                25                  5          35\n",
              "4        M           40                50                 12          50\n",
              "5        F           42                30                 13          70\n",
              "6        M           35                12                  0          17\n",
              "7        M           50                10                 15          22\n",
              "8        F           12                21                 16          50\n",
              "9        F           70                80                 25          70\n",
              "10       M           50                88                 30          80\n",
              "11       M           19                 6                 19          12\n",
              "12       M            5                 1                  0          11\n",
              "13       M           20                14                 12          19\n",
              "14       F           62                70                 44          60\n",
              "15       F           30                40                 22          66\n",
              "16       M           36                30                 20          80\n",
              "17       M           55                13                 35          90\n",
              "18       F           69                15                 36          96\n",
              "19       M           70                50                 40          99\n",
              "20       F           60                60                 33          90\n",
              "21       F           10                12                  4          80\n",
              "22       M           15                21                  2          90\n",
              "23       M            2                 0                  2          50\n",
              "24       M            0                 2                  3          70\n",
              "25       M            8                 7                 30          40\n",
              "26       M           19                19                 25          40\n",
              "27       M           25                15                 12          33\n",
              "28       M           75                85                 52          43\n",
              "29       F           30                90                 33          35\n",
              "..     ...          ...               ...                ...         ...\n",
              "450      F           15                97                 22          10\n",
              "451      F           19                98                 20           2\n",
              "452      F           25                82                 52          20\n",
              "453      F           29                78                 40          12\n",
              "454      F           45                87                 57          80\n",
              "455      F           39                88                 43          72\n",
              "456      F           85                90                 52          30\n",
              "457      F           79                91                 49          22\n",
              "458      M           90                91                 80          81\n",
              "459      M           80                90                 80          83\n",
              "460      M           80                83                 82          71\n",
              "461      M           71                81                 83          72\n",
              "462      M           72                87                 72          89\n",
              "463      M           69                77                 83          92\n",
              "464      F           85                99                 42          90\n",
              "465      F           89                96                 45          92\n",
              "466      F           80                82                 64          58\n",
              "467      F           87                93                 63          60\n",
              "468      F           15                 9                 14          80\n",
              "469      F            9                 6                 15          85\n",
              "470      M           81                86                 86          41\n",
              "471      M           78                82                 78          53\n",
              "472      M           80                87                 74          68\n",
              "473      M           85                88                 79          70\n",
              "474      F            2                 7                  4           8\n",
              "475      F            5                 4                  5           8\n",
              "476      F           50                77                 14          28\n",
              "477      F           55                74                 25          29\n",
              "478      F           30                17                 14          57\n",
              "479      F           35                14                 23          62\n",
              "\n",
              "[480 rows x 5 columns]"
            ]
          },
          "metadata": {
            "tags": []
          },
          "execution_count": 98
        }
      ]
    },
    {
      "cell_type": "code",
      "metadata": {
        "id": "75JA4EAUs_3Q",
        "colab_type": "code",
        "colab": {}
      },
      "source": [
        "df_selected_copy=df_selected"
      ],
      "execution_count": 0,
      "outputs": []
    },
    {
      "cell_type": "code",
      "metadata": {
        "id": "FkMdVGpOrYK3",
        "colab_type": "code",
        "colab": {}
      },
      "source": [
        "df_selected_copy.gender=[1 if i==\"M\" else 0 for i in df_selected_copy.gender]"
      ],
      "execution_count": 0,
      "outputs": []
    },
    {
      "cell_type": "code",
      "metadata": {
        "id": "_G7mo5kotLOO",
        "colab_type": "code",
        "outputId": "5987b37e-5fd0-4324-92b9-8e1f61f354db",
        "colab": {
          "base_uri": "https://localhost:8080/",
          "height": 1000
        }
      },
      "source": [
        "df_selected_copy"
      ],
      "execution_count": 101,
      "outputs": [
        {
          "output_type": "execute_result",
          "data": {
            "text/html": [
              "<div>\n",
              "<style scoped>\n",
              "    .dataframe tbody tr th:only-of-type {\n",
              "        vertical-align: middle;\n",
              "    }\n",
              "\n",
              "    .dataframe tbody tr th {\n",
              "        vertical-align: top;\n",
              "    }\n",
              "\n",
              "    .dataframe thead th {\n",
              "        text-align: right;\n",
              "    }\n",
              "</style>\n",
              "<table border=\"1\" class=\"dataframe\">\n",
              "  <thead>\n",
              "    <tr style=\"text-align: right;\">\n",
              "      <th></th>\n",
              "      <th>gender</th>\n",
              "      <th>raisedhands</th>\n",
              "      <th>VisITedResources</th>\n",
              "      <th>AnnouncementsView</th>\n",
              "      <th>Discussion</th>\n",
              "    </tr>\n",
              "  </thead>\n",
              "  <tbody>\n",
              "    <tr>\n",
              "      <th>0</th>\n",
              "      <td>1</td>\n",
              "      <td>15</td>\n",
              "      <td>16</td>\n",
              "      <td>2</td>\n",
              "      <td>20</td>\n",
              "    </tr>\n",
              "    <tr>\n",
              "      <th>1</th>\n",
              "      <td>1</td>\n",
              "      <td>20</td>\n",
              "      <td>20</td>\n",
              "      <td>3</td>\n",
              "      <td>25</td>\n",
              "    </tr>\n",
              "    <tr>\n",
              "      <th>2</th>\n",
              "      <td>1</td>\n",
              "      <td>10</td>\n",
              "      <td>7</td>\n",
              "      <td>0</td>\n",
              "      <td>30</td>\n",
              "    </tr>\n",
              "    <tr>\n",
              "      <th>3</th>\n",
              "      <td>1</td>\n",
              "      <td>30</td>\n",
              "      <td>25</td>\n",
              "      <td>5</td>\n",
              "      <td>35</td>\n",
              "    </tr>\n",
              "    <tr>\n",
              "      <th>4</th>\n",
              "      <td>1</td>\n",
              "      <td>40</td>\n",
              "      <td>50</td>\n",
              "      <td>12</td>\n",
              "      <td>50</td>\n",
              "    </tr>\n",
              "    <tr>\n",
              "      <th>5</th>\n",
              "      <td>0</td>\n",
              "      <td>42</td>\n",
              "      <td>30</td>\n",
              "      <td>13</td>\n",
              "      <td>70</td>\n",
              "    </tr>\n",
              "    <tr>\n",
              "      <th>6</th>\n",
              "      <td>1</td>\n",
              "      <td>35</td>\n",
              "      <td>12</td>\n",
              "      <td>0</td>\n",
              "      <td>17</td>\n",
              "    </tr>\n",
              "    <tr>\n",
              "      <th>7</th>\n",
              "      <td>1</td>\n",
              "      <td>50</td>\n",
              "      <td>10</td>\n",
              "      <td>15</td>\n",
              "      <td>22</td>\n",
              "    </tr>\n",
              "    <tr>\n",
              "      <th>8</th>\n",
              "      <td>0</td>\n",
              "      <td>12</td>\n",
              "      <td>21</td>\n",
              "      <td>16</td>\n",
              "      <td>50</td>\n",
              "    </tr>\n",
              "    <tr>\n",
              "      <th>9</th>\n",
              "      <td>0</td>\n",
              "      <td>70</td>\n",
              "      <td>80</td>\n",
              "      <td>25</td>\n",
              "      <td>70</td>\n",
              "    </tr>\n",
              "    <tr>\n",
              "      <th>10</th>\n",
              "      <td>1</td>\n",
              "      <td>50</td>\n",
              "      <td>88</td>\n",
              "      <td>30</td>\n",
              "      <td>80</td>\n",
              "    </tr>\n",
              "    <tr>\n",
              "      <th>11</th>\n",
              "      <td>1</td>\n",
              "      <td>19</td>\n",
              "      <td>6</td>\n",
              "      <td>19</td>\n",
              "      <td>12</td>\n",
              "    </tr>\n",
              "    <tr>\n",
              "      <th>12</th>\n",
              "      <td>1</td>\n",
              "      <td>5</td>\n",
              "      <td>1</td>\n",
              "      <td>0</td>\n",
              "      <td>11</td>\n",
              "    </tr>\n",
              "    <tr>\n",
              "      <th>13</th>\n",
              "      <td>1</td>\n",
              "      <td>20</td>\n",
              "      <td>14</td>\n",
              "      <td>12</td>\n",
              "      <td>19</td>\n",
              "    </tr>\n",
              "    <tr>\n",
              "      <th>14</th>\n",
              "      <td>0</td>\n",
              "      <td>62</td>\n",
              "      <td>70</td>\n",
              "      <td>44</td>\n",
              "      <td>60</td>\n",
              "    </tr>\n",
              "    <tr>\n",
              "      <th>15</th>\n",
              "      <td>0</td>\n",
              "      <td>30</td>\n",
              "      <td>40</td>\n",
              "      <td>22</td>\n",
              "      <td>66</td>\n",
              "    </tr>\n",
              "    <tr>\n",
              "      <th>16</th>\n",
              "      <td>1</td>\n",
              "      <td>36</td>\n",
              "      <td>30</td>\n",
              "      <td>20</td>\n",
              "      <td>80</td>\n",
              "    </tr>\n",
              "    <tr>\n",
              "      <th>17</th>\n",
              "      <td>1</td>\n",
              "      <td>55</td>\n",
              "      <td>13</td>\n",
              "      <td>35</td>\n",
              "      <td>90</td>\n",
              "    </tr>\n",
              "    <tr>\n",
              "      <th>18</th>\n",
              "      <td>0</td>\n",
              "      <td>69</td>\n",
              "      <td>15</td>\n",
              "      <td>36</td>\n",
              "      <td>96</td>\n",
              "    </tr>\n",
              "    <tr>\n",
              "      <th>19</th>\n",
              "      <td>1</td>\n",
              "      <td>70</td>\n",
              "      <td>50</td>\n",
              "      <td>40</td>\n",
              "      <td>99</td>\n",
              "    </tr>\n",
              "    <tr>\n",
              "      <th>20</th>\n",
              "      <td>0</td>\n",
              "      <td>60</td>\n",
              "      <td>60</td>\n",
              "      <td>33</td>\n",
              "      <td>90</td>\n",
              "    </tr>\n",
              "    <tr>\n",
              "      <th>21</th>\n",
              "      <td>0</td>\n",
              "      <td>10</td>\n",
              "      <td>12</td>\n",
              "      <td>4</td>\n",
              "      <td>80</td>\n",
              "    </tr>\n",
              "    <tr>\n",
              "      <th>22</th>\n",
              "      <td>1</td>\n",
              "      <td>15</td>\n",
              "      <td>21</td>\n",
              "      <td>2</td>\n",
              "      <td>90</td>\n",
              "    </tr>\n",
              "    <tr>\n",
              "      <th>23</th>\n",
              "      <td>1</td>\n",
              "      <td>2</td>\n",
              "      <td>0</td>\n",
              "      <td>2</td>\n",
              "      <td>50</td>\n",
              "    </tr>\n",
              "    <tr>\n",
              "      <th>24</th>\n",
              "      <td>1</td>\n",
              "      <td>0</td>\n",
              "      <td>2</td>\n",
              "      <td>3</td>\n",
              "      <td>70</td>\n",
              "    </tr>\n",
              "    <tr>\n",
              "      <th>25</th>\n",
              "      <td>1</td>\n",
              "      <td>8</td>\n",
              "      <td>7</td>\n",
              "      <td>30</td>\n",
              "      <td>40</td>\n",
              "    </tr>\n",
              "    <tr>\n",
              "      <th>26</th>\n",
              "      <td>1</td>\n",
              "      <td>19</td>\n",
              "      <td>19</td>\n",
              "      <td>25</td>\n",
              "      <td>40</td>\n",
              "    </tr>\n",
              "    <tr>\n",
              "      <th>27</th>\n",
              "      <td>1</td>\n",
              "      <td>25</td>\n",
              "      <td>15</td>\n",
              "      <td>12</td>\n",
              "      <td>33</td>\n",
              "    </tr>\n",
              "    <tr>\n",
              "      <th>28</th>\n",
              "      <td>1</td>\n",
              "      <td>75</td>\n",
              "      <td>85</td>\n",
              "      <td>52</td>\n",
              "      <td>43</td>\n",
              "    </tr>\n",
              "    <tr>\n",
              "      <th>29</th>\n",
              "      <td>0</td>\n",
              "      <td>30</td>\n",
              "      <td>90</td>\n",
              "      <td>33</td>\n",
              "      <td>35</td>\n",
              "    </tr>\n",
              "    <tr>\n",
              "      <th>...</th>\n",
              "      <td>...</td>\n",
              "      <td>...</td>\n",
              "      <td>...</td>\n",
              "      <td>...</td>\n",
              "      <td>...</td>\n",
              "    </tr>\n",
              "    <tr>\n",
              "      <th>450</th>\n",
              "      <td>0</td>\n",
              "      <td>15</td>\n",
              "      <td>97</td>\n",
              "      <td>22</td>\n",
              "      <td>10</td>\n",
              "    </tr>\n",
              "    <tr>\n",
              "      <th>451</th>\n",
              "      <td>0</td>\n",
              "      <td>19</td>\n",
              "      <td>98</td>\n",
              "      <td>20</td>\n",
              "      <td>2</td>\n",
              "    </tr>\n",
              "    <tr>\n",
              "      <th>452</th>\n",
              "      <td>0</td>\n",
              "      <td>25</td>\n",
              "      <td>82</td>\n",
              "      <td>52</td>\n",
              "      <td>20</td>\n",
              "    </tr>\n",
              "    <tr>\n",
              "      <th>453</th>\n",
              "      <td>0</td>\n",
              "      <td>29</td>\n",
              "      <td>78</td>\n",
              "      <td>40</td>\n",
              "      <td>12</td>\n",
              "    </tr>\n",
              "    <tr>\n",
              "      <th>454</th>\n",
              "      <td>0</td>\n",
              "      <td>45</td>\n",
              "      <td>87</td>\n",
              "      <td>57</td>\n",
              "      <td>80</td>\n",
              "    </tr>\n",
              "    <tr>\n",
              "      <th>455</th>\n",
              "      <td>0</td>\n",
              "      <td>39</td>\n",
              "      <td>88</td>\n",
              "      <td>43</td>\n",
              "      <td>72</td>\n",
              "    </tr>\n",
              "    <tr>\n",
              "      <th>456</th>\n",
              "      <td>0</td>\n",
              "      <td>85</td>\n",
              "      <td>90</td>\n",
              "      <td>52</td>\n",
              "      <td>30</td>\n",
              "    </tr>\n",
              "    <tr>\n",
              "      <th>457</th>\n",
              "      <td>0</td>\n",
              "      <td>79</td>\n",
              "      <td>91</td>\n",
              "      <td>49</td>\n",
              "      <td>22</td>\n",
              "    </tr>\n",
              "    <tr>\n",
              "      <th>458</th>\n",
              "      <td>1</td>\n",
              "      <td>90</td>\n",
              "      <td>91</td>\n",
              "      <td>80</td>\n",
              "      <td>81</td>\n",
              "    </tr>\n",
              "    <tr>\n",
              "      <th>459</th>\n",
              "      <td>1</td>\n",
              "      <td>80</td>\n",
              "      <td>90</td>\n",
              "      <td>80</td>\n",
              "      <td>83</td>\n",
              "    </tr>\n",
              "    <tr>\n",
              "      <th>460</th>\n",
              "      <td>1</td>\n",
              "      <td>80</td>\n",
              "      <td>83</td>\n",
              "      <td>82</td>\n",
              "      <td>71</td>\n",
              "    </tr>\n",
              "    <tr>\n",
              "      <th>461</th>\n",
              "      <td>1</td>\n",
              "      <td>71</td>\n",
              "      <td>81</td>\n",
              "      <td>83</td>\n",
              "      <td>72</td>\n",
              "    </tr>\n",
              "    <tr>\n",
              "      <th>462</th>\n",
              "      <td>1</td>\n",
              "      <td>72</td>\n",
              "      <td>87</td>\n",
              "      <td>72</td>\n",
              "      <td>89</td>\n",
              "    </tr>\n",
              "    <tr>\n",
              "      <th>463</th>\n",
              "      <td>1</td>\n",
              "      <td>69</td>\n",
              "      <td>77</td>\n",
              "      <td>83</td>\n",
              "      <td>92</td>\n",
              "    </tr>\n",
              "    <tr>\n",
              "      <th>464</th>\n",
              "      <td>0</td>\n",
              "      <td>85</td>\n",
              "      <td>99</td>\n",
              "      <td>42</td>\n",
              "      <td>90</td>\n",
              "    </tr>\n",
              "    <tr>\n",
              "      <th>465</th>\n",
              "      <td>0</td>\n",
              "      <td>89</td>\n",
              "      <td>96</td>\n",
              "      <td>45</td>\n",
              "      <td>92</td>\n",
              "    </tr>\n",
              "    <tr>\n",
              "      <th>466</th>\n",
              "      <td>0</td>\n",
              "      <td>80</td>\n",
              "      <td>82</td>\n",
              "      <td>64</td>\n",
              "      <td>58</td>\n",
              "    </tr>\n",
              "    <tr>\n",
              "      <th>467</th>\n",
              "      <td>0</td>\n",
              "      <td>87</td>\n",
              "      <td>93</td>\n",
              "      <td>63</td>\n",
              "      <td>60</td>\n",
              "    </tr>\n",
              "    <tr>\n",
              "      <th>468</th>\n",
              "      <td>0</td>\n",
              "      <td>15</td>\n",
              "      <td>9</td>\n",
              "      <td>14</td>\n",
              "      <td>80</td>\n",
              "    </tr>\n",
              "    <tr>\n",
              "      <th>469</th>\n",
              "      <td>0</td>\n",
              "      <td>9</td>\n",
              "      <td>6</td>\n",
              "      <td>15</td>\n",
              "      <td>85</td>\n",
              "    </tr>\n",
              "    <tr>\n",
              "      <th>470</th>\n",
              "      <td>1</td>\n",
              "      <td>81</td>\n",
              "      <td>86</td>\n",
              "      <td>86</td>\n",
              "      <td>41</td>\n",
              "    </tr>\n",
              "    <tr>\n",
              "      <th>471</th>\n",
              "      <td>1</td>\n",
              "      <td>78</td>\n",
              "      <td>82</td>\n",
              "      <td>78</td>\n",
              "      <td>53</td>\n",
              "    </tr>\n",
              "    <tr>\n",
              "      <th>472</th>\n",
              "      <td>1</td>\n",
              "      <td>80</td>\n",
              "      <td>87</td>\n",
              "      <td>74</td>\n",
              "      <td>68</td>\n",
              "    </tr>\n",
              "    <tr>\n",
              "      <th>473</th>\n",
              "      <td>1</td>\n",
              "      <td>85</td>\n",
              "      <td>88</td>\n",
              "      <td>79</td>\n",
              "      <td>70</td>\n",
              "    </tr>\n",
              "    <tr>\n",
              "      <th>474</th>\n",
              "      <td>0</td>\n",
              "      <td>2</td>\n",
              "      <td>7</td>\n",
              "      <td>4</td>\n",
              "      <td>8</td>\n",
              "    </tr>\n",
              "    <tr>\n",
              "      <th>475</th>\n",
              "      <td>0</td>\n",
              "      <td>5</td>\n",
              "      <td>4</td>\n",
              "      <td>5</td>\n",
              "      <td>8</td>\n",
              "    </tr>\n",
              "    <tr>\n",
              "      <th>476</th>\n",
              "      <td>0</td>\n",
              "      <td>50</td>\n",
              "      <td>77</td>\n",
              "      <td>14</td>\n",
              "      <td>28</td>\n",
              "    </tr>\n",
              "    <tr>\n",
              "      <th>477</th>\n",
              "      <td>0</td>\n",
              "      <td>55</td>\n",
              "      <td>74</td>\n",
              "      <td>25</td>\n",
              "      <td>29</td>\n",
              "    </tr>\n",
              "    <tr>\n",
              "      <th>478</th>\n",
              "      <td>0</td>\n",
              "      <td>30</td>\n",
              "      <td>17</td>\n",
              "      <td>14</td>\n",
              "      <td>57</td>\n",
              "    </tr>\n",
              "    <tr>\n",
              "      <th>479</th>\n",
              "      <td>0</td>\n",
              "      <td>35</td>\n",
              "      <td>14</td>\n",
              "      <td>23</td>\n",
              "      <td>62</td>\n",
              "    </tr>\n",
              "  </tbody>\n",
              "</table>\n",
              "<p>480 rows × 5 columns</p>\n",
              "</div>"
            ],
            "text/plain": [
              "     gender  raisedhands  VisITedResources  AnnouncementsView  Discussion\n",
              "0         1           15                16                  2          20\n",
              "1         1           20                20                  3          25\n",
              "2         1           10                 7                  0          30\n",
              "3         1           30                25                  5          35\n",
              "4         1           40                50                 12          50\n",
              "5         0           42                30                 13          70\n",
              "6         1           35                12                  0          17\n",
              "7         1           50                10                 15          22\n",
              "8         0           12                21                 16          50\n",
              "9         0           70                80                 25          70\n",
              "10        1           50                88                 30          80\n",
              "11        1           19                 6                 19          12\n",
              "12        1            5                 1                  0          11\n",
              "13        1           20                14                 12          19\n",
              "14        0           62                70                 44          60\n",
              "15        0           30                40                 22          66\n",
              "16        1           36                30                 20          80\n",
              "17        1           55                13                 35          90\n",
              "18        0           69                15                 36          96\n",
              "19        1           70                50                 40          99\n",
              "20        0           60                60                 33          90\n",
              "21        0           10                12                  4          80\n",
              "22        1           15                21                  2          90\n",
              "23        1            2                 0                  2          50\n",
              "24        1            0                 2                  3          70\n",
              "25        1            8                 7                 30          40\n",
              "26        1           19                19                 25          40\n",
              "27        1           25                15                 12          33\n",
              "28        1           75                85                 52          43\n",
              "29        0           30                90                 33          35\n",
              "..      ...          ...               ...                ...         ...\n",
              "450       0           15                97                 22          10\n",
              "451       0           19                98                 20           2\n",
              "452       0           25                82                 52          20\n",
              "453       0           29                78                 40          12\n",
              "454       0           45                87                 57          80\n",
              "455       0           39                88                 43          72\n",
              "456       0           85                90                 52          30\n",
              "457       0           79                91                 49          22\n",
              "458       1           90                91                 80          81\n",
              "459       1           80                90                 80          83\n",
              "460       1           80                83                 82          71\n",
              "461       1           71                81                 83          72\n",
              "462       1           72                87                 72          89\n",
              "463       1           69                77                 83          92\n",
              "464       0           85                99                 42          90\n",
              "465       0           89                96                 45          92\n",
              "466       0           80                82                 64          58\n",
              "467       0           87                93                 63          60\n",
              "468       0           15                 9                 14          80\n",
              "469       0            9                 6                 15          85\n",
              "470       1           81                86                 86          41\n",
              "471       1           78                82                 78          53\n",
              "472       1           80                87                 74          68\n",
              "473       1           85                88                 79          70\n",
              "474       0            2                 7                  4           8\n",
              "475       0            5                 4                  5           8\n",
              "476       0           50                77                 14          28\n",
              "477       0           55                74                 25          29\n",
              "478       0           30                17                 14          57\n",
              "479       0           35                14                 23          62\n",
              "\n",
              "[480 rows x 5 columns]"
            ]
          },
          "metadata": {
            "tags": []
          },
          "execution_count": 101
        }
      ]
    },
    {
      "cell_type": "code",
      "metadata": {
        "id": "W3bDZxCGt4_u",
        "colab_type": "code",
        "colab": {}
      },
      "source": [
        "y=df_selected_copy.gender.values\n",
        "x_df=df_selected_copy.drop(\"gender\",axis=1)"
      ],
      "execution_count": 0,
      "outputs": []
    },
    {
      "cell_type": "code",
      "metadata": {
        "id": "Cl4CzASLuFu9",
        "colab_type": "code",
        "outputId": "110d894f-f723-44b7-b154-8fbe7423e84a",
        "colab": {
          "base_uri": "https://localhost:8080/",
          "height": 391
        }
      },
      "source": [
        "y"
      ],
      "execution_count": 103,
      "outputs": [
        {
          "output_type": "execute_result",
          "data": {
            "text/plain": [
              "array([1, 1, 1, 1, 1, 0, 1, 1, 0, 0, 1, 1, 1, 1, 0, 0, 1, 1, 0, 1, 0, 0,\n",
              "       1, 1, 1, 1, 1, 1, 1, 0, 0, 1, 0, 1, 1, 1, 1, 0, 1, 0, 0, 1, 1, 0,\n",
              "       0, 1, 1, 0, 0, 0, 0, 1, 0, 0, 1, 1, 1, 1, 1, 0, 0, 1, 1, 1, 1, 1,\n",
              "       0, 0, 0, 1, 1, 1, 1, 0, 1, 1, 1, 1, 1, 0, 1, 1, 1, 1, 1, 1, 1, 1,\n",
              "       0, 1, 1, 1, 0, 1, 0, 0, 0, 0, 0, 1, 1, 0, 0, 1, 1, 0, 0, 1, 1, 1,\n",
              "       0, 1, 1, 1, 1, 1, 0, 0, 0, 1, 1, 1, 0, 0, 1, 1, 0, 1, 1, 1, 0, 1,\n",
              "       1, 1, 1, 0, 0, 0, 0, 1, 1, 1, 1, 1, 1, 1, 0, 0, 0, 0, 1, 1, 0, 1,\n",
              "       1, 1, 0, 1, 1, 0, 0, 1, 0, 0, 1, 0, 1, 1, 1, 1, 1, 1, 1, 1, 0, 1,\n",
              "       1, 0, 0, 1, 0, 1, 1, 0, 1, 1, 1, 0, 1, 0, 1, 1, 1, 1, 1, 1, 1, 1,\n",
              "       1, 1, 1, 0, 1, 0, 1, 0, 1, 1, 1, 1, 1, 1, 1, 1, 1, 1, 1, 0, 1, 1,\n",
              "       1, 1, 1, 1, 1, 1, 1, 1, 1, 1, 1, 1, 1, 0, 1, 1, 1, 1, 0, 1, 1, 1,\n",
              "       1, 1, 1, 0, 0, 0, 0, 1, 1, 1, 0, 1, 1, 1, 0, 0, 0, 1, 1, 1, 0, 1,\n",
              "       0, 0, 1, 1, 1, 1, 0, 0, 1, 1, 0, 0, 1, 1, 1, 1, 1, 1, 0, 0, 1, 1,\n",
              "       0, 0, 1, 1, 0, 0, 0, 0, 1, 1, 0, 0, 1, 1, 1, 1, 0, 0, 0, 0, 1, 1,\n",
              "       1, 1, 1, 1, 0, 0, 0, 0, 1, 1, 0, 0, 0, 0, 1, 1, 1, 1, 1, 1, 0, 0,\n",
              "       1, 1, 0, 0, 1, 1, 0, 0, 0, 0, 0, 0, 1, 1, 0, 0, 0, 0, 1, 1, 1, 1,\n",
              "       0, 0, 1, 1, 1, 1, 0, 0, 1, 1, 1, 1, 1, 1, 1, 1, 0, 0, 1, 1, 0, 0,\n",
              "       1, 1, 1, 1, 1, 1, 0, 0, 1, 1, 0, 0, 1, 1, 1, 1, 0, 0, 0, 0, 1, 1,\n",
              "       1, 1, 1, 1, 1, 1, 1, 1, 0, 0, 1, 1, 1, 1, 0, 0, 1, 1, 0, 0, 1, 1,\n",
              "       1, 1, 0, 0, 0, 0, 0, 0, 1, 1, 1, 1, 1, 1, 1, 1, 1, 1, 1, 1, 1, 1,\n",
              "       1, 1, 1, 1, 1, 1, 1, 1, 1, 1, 0, 0, 0, 0, 0, 0, 0, 0, 1, 1, 1, 1,\n",
              "       1, 1, 0, 0, 0, 0, 0, 0, 1, 1, 1, 1, 0, 0, 0, 0, 0, 0])"
            ]
          },
          "metadata": {
            "tags": []
          },
          "execution_count": 103
        }
      ]
    },
    {
      "cell_type": "code",
      "metadata": {
        "id": "6psRz7xFuLz1",
        "colab_type": "code",
        "colab": {}
      },
      "source": [
        "x=(x_df-np.min(x_df))/(np.max(x_df)-np.min(x_df))"
      ],
      "execution_count": 0,
      "outputs": []
    },
    {
      "cell_type": "markdown",
      "metadata": {
        "id": "U_Q8wWK_uzv0",
        "colab_type": "text"
      },
      "source": [
        "verimizi normalleştirdik/istatiksel normalleştirme\n",
        "\n",
        "\n",
        "\n",
        "\n"
      ]
    },
    {
      "cell_type": "code",
      "metadata": {
        "id": "EB-6lw3vuYaM",
        "colab_type": "code",
        "outputId": "7ca3a6bf-f9c1-41d2-9697-b617e84f134d",
        "colab": {
          "base_uri": "https://localhost:8080/",
          "height": 1000
        }
      },
      "source": [
        "x"
      ],
      "execution_count": 105,
      "outputs": [
        {
          "output_type": "execute_result",
          "data": {
            "text/html": [
              "<div>\n",
              "<style scoped>\n",
              "    .dataframe tbody tr th:only-of-type {\n",
              "        vertical-align: middle;\n",
              "    }\n",
              "\n",
              "    .dataframe tbody tr th {\n",
              "        vertical-align: top;\n",
              "    }\n",
              "\n",
              "    .dataframe thead th {\n",
              "        text-align: right;\n",
              "    }\n",
              "</style>\n",
              "<table border=\"1\" class=\"dataframe\">\n",
              "  <thead>\n",
              "    <tr style=\"text-align: right;\">\n",
              "      <th></th>\n",
              "      <th>raisedhands</th>\n",
              "      <th>VisITedResources</th>\n",
              "      <th>AnnouncementsView</th>\n",
              "      <th>Discussion</th>\n",
              "    </tr>\n",
              "  </thead>\n",
              "  <tbody>\n",
              "    <tr>\n",
              "      <th>0</th>\n",
              "      <td>0.15</td>\n",
              "      <td>0.161616</td>\n",
              "      <td>0.020408</td>\n",
              "      <td>0.193878</td>\n",
              "    </tr>\n",
              "    <tr>\n",
              "      <th>1</th>\n",
              "      <td>0.20</td>\n",
              "      <td>0.202020</td>\n",
              "      <td>0.030612</td>\n",
              "      <td>0.244898</td>\n",
              "    </tr>\n",
              "    <tr>\n",
              "      <th>2</th>\n",
              "      <td>0.10</td>\n",
              "      <td>0.070707</td>\n",
              "      <td>0.000000</td>\n",
              "      <td>0.295918</td>\n",
              "    </tr>\n",
              "    <tr>\n",
              "      <th>3</th>\n",
              "      <td>0.30</td>\n",
              "      <td>0.252525</td>\n",
              "      <td>0.051020</td>\n",
              "      <td>0.346939</td>\n",
              "    </tr>\n",
              "    <tr>\n",
              "      <th>4</th>\n",
              "      <td>0.40</td>\n",
              "      <td>0.505051</td>\n",
              "      <td>0.122449</td>\n",
              "      <td>0.500000</td>\n",
              "    </tr>\n",
              "    <tr>\n",
              "      <th>5</th>\n",
              "      <td>0.42</td>\n",
              "      <td>0.303030</td>\n",
              "      <td>0.132653</td>\n",
              "      <td>0.704082</td>\n",
              "    </tr>\n",
              "    <tr>\n",
              "      <th>6</th>\n",
              "      <td>0.35</td>\n",
              "      <td>0.121212</td>\n",
              "      <td>0.000000</td>\n",
              "      <td>0.163265</td>\n",
              "    </tr>\n",
              "    <tr>\n",
              "      <th>7</th>\n",
              "      <td>0.50</td>\n",
              "      <td>0.101010</td>\n",
              "      <td>0.153061</td>\n",
              "      <td>0.214286</td>\n",
              "    </tr>\n",
              "    <tr>\n",
              "      <th>8</th>\n",
              "      <td>0.12</td>\n",
              "      <td>0.212121</td>\n",
              "      <td>0.163265</td>\n",
              "      <td>0.500000</td>\n",
              "    </tr>\n",
              "    <tr>\n",
              "      <th>9</th>\n",
              "      <td>0.70</td>\n",
              "      <td>0.808081</td>\n",
              "      <td>0.255102</td>\n",
              "      <td>0.704082</td>\n",
              "    </tr>\n",
              "    <tr>\n",
              "      <th>10</th>\n",
              "      <td>0.50</td>\n",
              "      <td>0.888889</td>\n",
              "      <td>0.306122</td>\n",
              "      <td>0.806122</td>\n",
              "    </tr>\n",
              "    <tr>\n",
              "      <th>11</th>\n",
              "      <td>0.19</td>\n",
              "      <td>0.060606</td>\n",
              "      <td>0.193878</td>\n",
              "      <td>0.112245</td>\n",
              "    </tr>\n",
              "    <tr>\n",
              "      <th>12</th>\n",
              "      <td>0.05</td>\n",
              "      <td>0.010101</td>\n",
              "      <td>0.000000</td>\n",
              "      <td>0.102041</td>\n",
              "    </tr>\n",
              "    <tr>\n",
              "      <th>13</th>\n",
              "      <td>0.20</td>\n",
              "      <td>0.141414</td>\n",
              "      <td>0.122449</td>\n",
              "      <td>0.183673</td>\n",
              "    </tr>\n",
              "    <tr>\n",
              "      <th>14</th>\n",
              "      <td>0.62</td>\n",
              "      <td>0.707071</td>\n",
              "      <td>0.448980</td>\n",
              "      <td>0.602041</td>\n",
              "    </tr>\n",
              "    <tr>\n",
              "      <th>15</th>\n",
              "      <td>0.30</td>\n",
              "      <td>0.404040</td>\n",
              "      <td>0.224490</td>\n",
              "      <td>0.663265</td>\n",
              "    </tr>\n",
              "    <tr>\n",
              "      <th>16</th>\n",
              "      <td>0.36</td>\n",
              "      <td>0.303030</td>\n",
              "      <td>0.204082</td>\n",
              "      <td>0.806122</td>\n",
              "    </tr>\n",
              "    <tr>\n",
              "      <th>17</th>\n",
              "      <td>0.55</td>\n",
              "      <td>0.131313</td>\n",
              "      <td>0.357143</td>\n",
              "      <td>0.908163</td>\n",
              "    </tr>\n",
              "    <tr>\n",
              "      <th>18</th>\n",
              "      <td>0.69</td>\n",
              "      <td>0.151515</td>\n",
              "      <td>0.367347</td>\n",
              "      <td>0.969388</td>\n",
              "    </tr>\n",
              "    <tr>\n",
              "      <th>19</th>\n",
              "      <td>0.70</td>\n",
              "      <td>0.505051</td>\n",
              "      <td>0.408163</td>\n",
              "      <td>1.000000</td>\n",
              "    </tr>\n",
              "    <tr>\n",
              "      <th>20</th>\n",
              "      <td>0.60</td>\n",
              "      <td>0.606061</td>\n",
              "      <td>0.336735</td>\n",
              "      <td>0.908163</td>\n",
              "    </tr>\n",
              "    <tr>\n",
              "      <th>21</th>\n",
              "      <td>0.10</td>\n",
              "      <td>0.121212</td>\n",
              "      <td>0.040816</td>\n",
              "      <td>0.806122</td>\n",
              "    </tr>\n",
              "    <tr>\n",
              "      <th>22</th>\n",
              "      <td>0.15</td>\n",
              "      <td>0.212121</td>\n",
              "      <td>0.020408</td>\n",
              "      <td>0.908163</td>\n",
              "    </tr>\n",
              "    <tr>\n",
              "      <th>23</th>\n",
              "      <td>0.02</td>\n",
              "      <td>0.000000</td>\n",
              "      <td>0.020408</td>\n",
              "      <td>0.500000</td>\n",
              "    </tr>\n",
              "    <tr>\n",
              "      <th>24</th>\n",
              "      <td>0.00</td>\n",
              "      <td>0.020202</td>\n",
              "      <td>0.030612</td>\n",
              "      <td>0.704082</td>\n",
              "    </tr>\n",
              "    <tr>\n",
              "      <th>25</th>\n",
              "      <td>0.08</td>\n",
              "      <td>0.070707</td>\n",
              "      <td>0.306122</td>\n",
              "      <td>0.397959</td>\n",
              "    </tr>\n",
              "    <tr>\n",
              "      <th>26</th>\n",
              "      <td>0.19</td>\n",
              "      <td>0.191919</td>\n",
              "      <td>0.255102</td>\n",
              "      <td>0.397959</td>\n",
              "    </tr>\n",
              "    <tr>\n",
              "      <th>27</th>\n",
              "      <td>0.25</td>\n",
              "      <td>0.151515</td>\n",
              "      <td>0.122449</td>\n",
              "      <td>0.326531</td>\n",
              "    </tr>\n",
              "    <tr>\n",
              "      <th>28</th>\n",
              "      <td>0.75</td>\n",
              "      <td>0.858586</td>\n",
              "      <td>0.530612</td>\n",
              "      <td>0.428571</td>\n",
              "    </tr>\n",
              "    <tr>\n",
              "      <th>29</th>\n",
              "      <td>0.30</td>\n",
              "      <td>0.909091</td>\n",
              "      <td>0.336735</td>\n",
              "      <td>0.346939</td>\n",
              "    </tr>\n",
              "    <tr>\n",
              "      <th>...</th>\n",
              "      <td>...</td>\n",
              "      <td>...</td>\n",
              "      <td>...</td>\n",
              "      <td>...</td>\n",
              "    </tr>\n",
              "    <tr>\n",
              "      <th>450</th>\n",
              "      <td>0.15</td>\n",
              "      <td>0.979798</td>\n",
              "      <td>0.224490</td>\n",
              "      <td>0.091837</td>\n",
              "    </tr>\n",
              "    <tr>\n",
              "      <th>451</th>\n",
              "      <td>0.19</td>\n",
              "      <td>0.989899</td>\n",
              "      <td>0.204082</td>\n",
              "      <td>0.010204</td>\n",
              "    </tr>\n",
              "    <tr>\n",
              "      <th>452</th>\n",
              "      <td>0.25</td>\n",
              "      <td>0.828283</td>\n",
              "      <td>0.530612</td>\n",
              "      <td>0.193878</td>\n",
              "    </tr>\n",
              "    <tr>\n",
              "      <th>453</th>\n",
              "      <td>0.29</td>\n",
              "      <td>0.787879</td>\n",
              "      <td>0.408163</td>\n",
              "      <td>0.112245</td>\n",
              "    </tr>\n",
              "    <tr>\n",
              "      <th>454</th>\n",
              "      <td>0.45</td>\n",
              "      <td>0.878788</td>\n",
              "      <td>0.581633</td>\n",
              "      <td>0.806122</td>\n",
              "    </tr>\n",
              "    <tr>\n",
              "      <th>455</th>\n",
              "      <td>0.39</td>\n",
              "      <td>0.888889</td>\n",
              "      <td>0.438776</td>\n",
              "      <td>0.724490</td>\n",
              "    </tr>\n",
              "    <tr>\n",
              "      <th>456</th>\n",
              "      <td>0.85</td>\n",
              "      <td>0.909091</td>\n",
              "      <td>0.530612</td>\n",
              "      <td>0.295918</td>\n",
              "    </tr>\n",
              "    <tr>\n",
              "      <th>457</th>\n",
              "      <td>0.79</td>\n",
              "      <td>0.919192</td>\n",
              "      <td>0.500000</td>\n",
              "      <td>0.214286</td>\n",
              "    </tr>\n",
              "    <tr>\n",
              "      <th>458</th>\n",
              "      <td>0.90</td>\n",
              "      <td>0.919192</td>\n",
              "      <td>0.816327</td>\n",
              "      <td>0.816327</td>\n",
              "    </tr>\n",
              "    <tr>\n",
              "      <th>459</th>\n",
              "      <td>0.80</td>\n",
              "      <td>0.909091</td>\n",
              "      <td>0.816327</td>\n",
              "      <td>0.836735</td>\n",
              "    </tr>\n",
              "    <tr>\n",
              "      <th>460</th>\n",
              "      <td>0.80</td>\n",
              "      <td>0.838384</td>\n",
              "      <td>0.836735</td>\n",
              "      <td>0.714286</td>\n",
              "    </tr>\n",
              "    <tr>\n",
              "      <th>461</th>\n",
              "      <td>0.71</td>\n",
              "      <td>0.818182</td>\n",
              "      <td>0.846939</td>\n",
              "      <td>0.724490</td>\n",
              "    </tr>\n",
              "    <tr>\n",
              "      <th>462</th>\n",
              "      <td>0.72</td>\n",
              "      <td>0.878788</td>\n",
              "      <td>0.734694</td>\n",
              "      <td>0.897959</td>\n",
              "    </tr>\n",
              "    <tr>\n",
              "      <th>463</th>\n",
              "      <td>0.69</td>\n",
              "      <td>0.777778</td>\n",
              "      <td>0.846939</td>\n",
              "      <td>0.928571</td>\n",
              "    </tr>\n",
              "    <tr>\n",
              "      <th>464</th>\n",
              "      <td>0.85</td>\n",
              "      <td>1.000000</td>\n",
              "      <td>0.428571</td>\n",
              "      <td>0.908163</td>\n",
              "    </tr>\n",
              "    <tr>\n",
              "      <th>465</th>\n",
              "      <td>0.89</td>\n",
              "      <td>0.969697</td>\n",
              "      <td>0.459184</td>\n",
              "      <td>0.928571</td>\n",
              "    </tr>\n",
              "    <tr>\n",
              "      <th>466</th>\n",
              "      <td>0.80</td>\n",
              "      <td>0.828283</td>\n",
              "      <td>0.653061</td>\n",
              "      <td>0.581633</td>\n",
              "    </tr>\n",
              "    <tr>\n",
              "      <th>467</th>\n",
              "      <td>0.87</td>\n",
              "      <td>0.939394</td>\n",
              "      <td>0.642857</td>\n",
              "      <td>0.602041</td>\n",
              "    </tr>\n",
              "    <tr>\n",
              "      <th>468</th>\n",
              "      <td>0.15</td>\n",
              "      <td>0.090909</td>\n",
              "      <td>0.142857</td>\n",
              "      <td>0.806122</td>\n",
              "    </tr>\n",
              "    <tr>\n",
              "      <th>469</th>\n",
              "      <td>0.09</td>\n",
              "      <td>0.060606</td>\n",
              "      <td>0.153061</td>\n",
              "      <td>0.857143</td>\n",
              "    </tr>\n",
              "    <tr>\n",
              "      <th>470</th>\n",
              "      <td>0.81</td>\n",
              "      <td>0.868687</td>\n",
              "      <td>0.877551</td>\n",
              "      <td>0.408163</td>\n",
              "    </tr>\n",
              "    <tr>\n",
              "      <th>471</th>\n",
              "      <td>0.78</td>\n",
              "      <td>0.828283</td>\n",
              "      <td>0.795918</td>\n",
              "      <td>0.530612</td>\n",
              "    </tr>\n",
              "    <tr>\n",
              "      <th>472</th>\n",
              "      <td>0.80</td>\n",
              "      <td>0.878788</td>\n",
              "      <td>0.755102</td>\n",
              "      <td>0.683673</td>\n",
              "    </tr>\n",
              "    <tr>\n",
              "      <th>473</th>\n",
              "      <td>0.85</td>\n",
              "      <td>0.888889</td>\n",
              "      <td>0.806122</td>\n",
              "      <td>0.704082</td>\n",
              "    </tr>\n",
              "    <tr>\n",
              "      <th>474</th>\n",
              "      <td>0.02</td>\n",
              "      <td>0.070707</td>\n",
              "      <td>0.040816</td>\n",
              "      <td>0.071429</td>\n",
              "    </tr>\n",
              "    <tr>\n",
              "      <th>475</th>\n",
              "      <td>0.05</td>\n",
              "      <td>0.040404</td>\n",
              "      <td>0.051020</td>\n",
              "      <td>0.071429</td>\n",
              "    </tr>\n",
              "    <tr>\n",
              "      <th>476</th>\n",
              "      <td>0.50</td>\n",
              "      <td>0.777778</td>\n",
              "      <td>0.142857</td>\n",
              "      <td>0.275510</td>\n",
              "    </tr>\n",
              "    <tr>\n",
              "      <th>477</th>\n",
              "      <td>0.55</td>\n",
              "      <td>0.747475</td>\n",
              "      <td>0.255102</td>\n",
              "      <td>0.285714</td>\n",
              "    </tr>\n",
              "    <tr>\n",
              "      <th>478</th>\n",
              "      <td>0.30</td>\n",
              "      <td>0.171717</td>\n",
              "      <td>0.142857</td>\n",
              "      <td>0.571429</td>\n",
              "    </tr>\n",
              "    <tr>\n",
              "      <th>479</th>\n",
              "      <td>0.35</td>\n",
              "      <td>0.141414</td>\n",
              "      <td>0.234694</td>\n",
              "      <td>0.622449</td>\n",
              "    </tr>\n",
              "  </tbody>\n",
              "</table>\n",
              "<p>480 rows × 4 columns</p>\n",
              "</div>"
            ],
            "text/plain": [
              "     raisedhands  VisITedResources  AnnouncementsView  Discussion\n",
              "0           0.15          0.161616           0.020408    0.193878\n",
              "1           0.20          0.202020           0.030612    0.244898\n",
              "2           0.10          0.070707           0.000000    0.295918\n",
              "3           0.30          0.252525           0.051020    0.346939\n",
              "4           0.40          0.505051           0.122449    0.500000\n",
              "5           0.42          0.303030           0.132653    0.704082\n",
              "6           0.35          0.121212           0.000000    0.163265\n",
              "7           0.50          0.101010           0.153061    0.214286\n",
              "8           0.12          0.212121           0.163265    0.500000\n",
              "9           0.70          0.808081           0.255102    0.704082\n",
              "10          0.50          0.888889           0.306122    0.806122\n",
              "11          0.19          0.060606           0.193878    0.112245\n",
              "12          0.05          0.010101           0.000000    0.102041\n",
              "13          0.20          0.141414           0.122449    0.183673\n",
              "14          0.62          0.707071           0.448980    0.602041\n",
              "15          0.30          0.404040           0.224490    0.663265\n",
              "16          0.36          0.303030           0.204082    0.806122\n",
              "17          0.55          0.131313           0.357143    0.908163\n",
              "18          0.69          0.151515           0.367347    0.969388\n",
              "19          0.70          0.505051           0.408163    1.000000\n",
              "20          0.60          0.606061           0.336735    0.908163\n",
              "21          0.10          0.121212           0.040816    0.806122\n",
              "22          0.15          0.212121           0.020408    0.908163\n",
              "23          0.02          0.000000           0.020408    0.500000\n",
              "24          0.00          0.020202           0.030612    0.704082\n",
              "25          0.08          0.070707           0.306122    0.397959\n",
              "26          0.19          0.191919           0.255102    0.397959\n",
              "27          0.25          0.151515           0.122449    0.326531\n",
              "28          0.75          0.858586           0.530612    0.428571\n",
              "29          0.30          0.909091           0.336735    0.346939\n",
              "..           ...               ...                ...         ...\n",
              "450         0.15          0.979798           0.224490    0.091837\n",
              "451         0.19          0.989899           0.204082    0.010204\n",
              "452         0.25          0.828283           0.530612    0.193878\n",
              "453         0.29          0.787879           0.408163    0.112245\n",
              "454         0.45          0.878788           0.581633    0.806122\n",
              "455         0.39          0.888889           0.438776    0.724490\n",
              "456         0.85          0.909091           0.530612    0.295918\n",
              "457         0.79          0.919192           0.500000    0.214286\n",
              "458         0.90          0.919192           0.816327    0.816327\n",
              "459         0.80          0.909091           0.816327    0.836735\n",
              "460         0.80          0.838384           0.836735    0.714286\n",
              "461         0.71          0.818182           0.846939    0.724490\n",
              "462         0.72          0.878788           0.734694    0.897959\n",
              "463         0.69          0.777778           0.846939    0.928571\n",
              "464         0.85          1.000000           0.428571    0.908163\n",
              "465         0.89          0.969697           0.459184    0.928571\n",
              "466         0.80          0.828283           0.653061    0.581633\n",
              "467         0.87          0.939394           0.642857    0.602041\n",
              "468         0.15          0.090909           0.142857    0.806122\n",
              "469         0.09          0.060606           0.153061    0.857143\n",
              "470         0.81          0.868687           0.877551    0.408163\n",
              "471         0.78          0.828283           0.795918    0.530612\n",
              "472         0.80          0.878788           0.755102    0.683673\n",
              "473         0.85          0.888889           0.806122    0.704082\n",
              "474         0.02          0.070707           0.040816    0.071429\n",
              "475         0.05          0.040404           0.051020    0.071429\n",
              "476         0.50          0.777778           0.142857    0.275510\n",
              "477         0.55          0.747475           0.255102    0.285714\n",
              "478         0.30          0.171717           0.142857    0.571429\n",
              "479         0.35          0.141414           0.234694    0.622449\n",
              "\n",
              "[480 rows x 4 columns]"
            ]
          },
          "metadata": {
            "tags": []
          },
          "execution_count": 105
        }
      ]
    },
    {
      "cell_type": "markdown",
      "metadata": {
        "id": "oS_p7zIY37mH",
        "colab_type": "text"
      },
      "source": [
        "# 3.2. Eğitim ve Test Verilerinin Belirlenmesi"
      ]
    },
    {
      "cell_type": "code",
      "metadata": {
        "id": "RrWg3HyQu-gL",
        "colab_type": "code",
        "colab": {}
      },
      "source": [
        "from sklearn.model_selection import train_test_split\n",
        "x_train,x_test,y_train,y_test=train_test_split(x,y,test_size=0.2,random_state=52)"
      ],
      "execution_count": 0,
      "outputs": []
    },
    {
      "cell_type": "markdown",
      "metadata": {
        "id": "Bf0mbCXz4AU5",
        "colab_type": "text"
      },
      "source": [
        "#  3.3. Modelin Uygulanması"
      ]
    },
    {
      "cell_type": "markdown",
      "metadata": {
        "id": "Y7mhVTk74GTT",
        "colab_type": "text"
      },
      "source": [
        "# 3.3.1. Support Vektor Machine(SVM) Classification"
      ]
    },
    {
      "cell_type": "code",
      "metadata": {
        "id": "FdmKhPZovYEz",
        "colab_type": "code",
        "outputId": "2e8496d3-79f2-4f22-8765-180bdd0871cf",
        "colab": {
          "base_uri": "https://localhost:8080/",
          "height": 88
        }
      },
      "source": [
        "from sklearn.svm import SVC\n",
        "\n",
        "svm=SVC(random_state=1)\n",
        "svm.fit(x_train,y_train)\n",
        "print(\"test accuracy is: \",svm.score(x_test,y_test))"
      ],
      "execution_count": 107,
      "outputs": [
        {
          "output_type": "stream",
          "text": [
            "test accuracy is:  0.6666666666666666\n"
          ],
          "name": "stdout"
        },
        {
          "output_type": "stream",
          "text": [
            "/usr/local/lib/python3.6/dist-packages/sklearn/svm/base.py:193: FutureWarning: The default value of gamma will change from 'auto' to 'scale' in version 0.22 to account better for unscaled features. Set gamma explicitly to 'auto' or 'scale' to avoid this warning.\n",
            "  \"avoid this warning.\", FutureWarning)\n"
          ],
          "name": "stderr"
        }
      ]
    },
    {
      "cell_type": "markdown",
      "metadata": {
        "id": "cImUVneM4Knx",
        "colab_type": "text"
      },
      "source": [
        "# 3.3.2. Logistic Regression Classification"
      ]
    },
    {
      "cell_type": "code",
      "metadata": {
        "id": "4ekqa-3J64K-",
        "colab_type": "code",
        "outputId": "3aa6d252-1f3e-4c58-e081-bf0f350dda94",
        "colab": {
          "base_uri": "https://localhost:8080/",
          "height": 68
        }
      },
      "source": [
        "\n",
        "from sklearn.linear_model import LogisticRegression\n",
        "lr=LogisticRegression()\n",
        "lr.fit(x_train,y_train)\n",
        "print(\"test accuracy is {}\".format(lr.score(x_test,y_test)))"
      ],
      "execution_count": 108,
      "outputs": [
        {
          "output_type": "stream",
          "text": [
            "test accuracy is 0.6458333333333334\n"
          ],
          "name": "stdout"
        },
        {
          "output_type": "stream",
          "text": [
            "/usr/local/lib/python3.6/dist-packages/sklearn/linear_model/logistic.py:432: FutureWarning: Default solver will be changed to 'lbfgs' in 0.22. Specify a solver to silence this warning.\n",
            "  FutureWarning)\n"
          ],
          "name": "stderr"
        }
      ]
    },
    {
      "cell_type": "markdown",
      "metadata": {
        "id": "WiF0X_VT4Pe-",
        "colab_type": "text"
      },
      "source": [
        "# 3.3.3. Random Forest Classification"
      ]
    },
    {
      "cell_type": "code",
      "metadata": {
        "id": "7xWAnMiD7SvY",
        "colab_type": "code",
        "outputId": "fafcd83d-1e66-4cd9-cd97-3e1c9f0829eb",
        "colab": {
          "base_uri": "https://localhost:8080/",
          "height": 34
        }
      },
      "source": [
        "from sklearn.ensemble import RandomForestClassifier\n",
        "rf=RandomForestClassifier(n_estimators=100,random_state=1)\n",
        "rf.fit(x_train,y_train)\n",
        "print(\"test accuracy is: \",rf.score(x_test,y_test))"
      ],
      "execution_count": 109,
      "outputs": [
        {
          "output_type": "stream",
          "text": [
            "test accuracy is:  0.7083333333333334\n"
          ],
          "name": "stdout"
        }
      ]
    },
    {
      "cell_type": "markdown",
      "metadata": {
        "id": "JOkL5WUV4X5L",
        "colab_type": "text"
      },
      "source": [
        "# 3.3.4. Naive Bayes  Classification"
      ]
    },
    {
      "cell_type": "code",
      "metadata": {
        "id": "DN3p6e8oAQED",
        "colab_type": "code",
        "outputId": "c91e2675-f750-47aa-a742-2dc0ab52b798",
        "colab": {
          "base_uri": "https://localhost:8080/",
          "height": 34
        }
      },
      "source": [
        "from sklearn.naive_bayes import GaussianNB\n",
        "nb=GaussianNB()\n",
        "nb.fit(x_train,y_train)\n",
        "print(\"test accuracy is: \",nb.score(x_test,y_test))"
      ],
      "execution_count": 110,
      "outputs": [
        {
          "output_type": "stream",
          "text": [
            "test accuracy is:  0.59375\n"
          ],
          "name": "stdout"
        }
      ]
    },
    {
      "cell_type": "markdown",
      "metadata": {
        "id": "_d5mhrlo4djG",
        "colab_type": "text"
      },
      "source": [
        "#  3.3.5. Decision Tree Classification"
      ]
    },
    {
      "cell_type": "code",
      "metadata": {
        "id": "LZKL1hk5AaQT",
        "colab_type": "code",
        "outputId": "287c71d8-cc7b-4fc3-9eae-34cc46ef44e7",
        "colab": {
          "base_uri": "https://localhost:8080/",
          "height": 34
        }
      },
      "source": [
        "from sklearn.tree import DecisionTreeClassifier\n",
        "dt=DecisionTreeClassifier()\n",
        "dt.fit(x_train,y_train)\n",
        "\n",
        "print(\"Atest accuracy is: \" ,dt.score(x_test,y_test))"
      ],
      "execution_count": 111,
      "outputs": [
        {
          "output_type": "stream",
          "text": [
            "Atest accuracy is:  0.6041666666666666\n"
          ],
          "name": "stdout"
        }
      ]
    }
  ]
}